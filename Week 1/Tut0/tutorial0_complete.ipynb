{
 "cells": [
  {
   "cell_type": "markdown",
   "id": "0a00bbfb",
   "metadata": {},
   "source": [
    "# APS106 Tutorial - Week 1, JupyterHub\n",
    "# Introdcution to JupyterHub\n",
    "\n",
    "### Practice problems\n",
    "1. [Hello World!](#section1)\n",
    "2. [Markdown is not Python](#section2)\n",
    "3. [Order of Execution Matters](#section3)\n",
    "4. [Moving up and down!](#section4)\n",
    "5. [Messed up? Restart the kernel!](#section5)"
   ]
  },
  {
   "cell_type": "markdown",
   "id": "86e5ffdd",
   "metadata": {},
   "source": [
    "<a id='section1'></a>\n",
    "## 1. Hello World!\n",
    "\n",
    "Jupyter Notebooks are split into discrete \"cells\".  This is a cell, and so is the block of text above, and the piece of Python code below.  \n",
    "\n",
    "Each cell can be run indepedently by hitting the Run button in the top toolbar, going to Cell -> Run Cells, or pressing \"Shift + Enter\"\n",
    "\n",
    "Code cells contain executable Python code, as seen below.\n",
    "\n",
    "**TODO:** Let's run the code block below. If you see \"Hello World\" printed below the cell, you can move on to the next problem!"
   ]
  },
  {
   "cell_type": "code",
   "execution_count": 1,
   "id": "068ac2d7",
   "metadata": {},
   "outputs": [
    {
     "name": "stdout",
     "output_type": "stream",
     "text": [
      "Hello World!\n"
     ]
    }
   ],
   "source": [
    "print(\"Hello World!\")"
   ]
  },
  {
   "cell_type": "markdown",
   "id": "71707291",
   "metadata": {},
   "source": [
    "<a id='section2'></a>\n",
    "## 2. Markdown is not Python\n",
    "\n",
    "Cells can either be a \"Code\" cell, or a \"Markdown\" cell.  To change a cell type, highlight that cell, go to Cell -> Cell Type on the top toolbar, and select the type you want within the dropdown menu (that either says \"Code\" or \"Markdown\")\n",
    "\n",
    "Markdown is a popular markup language similar to HTML, and is used in Jupyter Notebooks to supplement them with text, images, and other visualisations. This cell is a Markdown cell.\n",
    "\n",
    "**TODO:** The following block is supposed to be a Python code, but is defined as a Markdown cell. Change the cell to a Code cell and run the cell! If you see \"You mastered Markdown cells!\" printed, you can proceed to the next problem :)"
   ]
  },
  {
   "cell_type": "code",
   "execution_count": 2,
   "id": "a981cc49",
   "metadata": {},
   "outputs": [
    {
     "name": "stdout",
     "output_type": "stream",
     "text": [
      "You mastered Markdown cells!\n"
     ]
    }
   ],
   "source": [
    "print(\"You mastered Markdown cells!\")"
   ]
  },
  {
   "cell_type": "markdown",
   "id": "d2ce196d",
   "metadata": {},
   "source": [
    "<a id='section3'></a>\n",
    "## 3. Order of Execution Matters\n",
    "\n",
    "In a Jupyter Notebook, cells are executed in the order you execute (not in the order they are arranged!). Executing cells out of order can lead to unexpected and unintended errors.  \n",
    "\n",
    "**TODO:** The following code blocks will print out \"is coding fun\". Change the order of execution and make them print \"coding is fun\"! \n",
    "\n",
    "Note: If you want to retry, run the following cell (sentence = \"\" # Execute this block first!) and try again!"
   ]
  },
  {
   "cell_type": "code",
   "execution_count": 1,
   "id": "78334ce1",
   "metadata": {},
   "outputs": [],
   "source": [
    "sentence = \"\" # Run this block first!"
   ]
  },
  {
   "cell_type": "markdown",
   "id": "3f8648d1",
   "metadata": {},
   "source": [
    "Run the following code blocks in another order so that they print out \"coding is fun\":"
   ]
  },
  {
   "cell_type": "code",
   "execution_count": 5,
   "id": "7637b4ef",
   "metadata": {},
   "outputs": [],
   "source": [
    "sentence += \"is \""
   ]
  },
  {
   "cell_type": "code",
   "execution_count": 4,
   "id": "c2244a4c",
   "metadata": {},
   "outputs": [],
   "source": [
    "sentence += \"coding \""
   ]
  },
  {
   "cell_type": "code",
   "execution_count": 6,
   "id": "07618612",
   "metadata": {},
   "outputs": [],
   "source": [
    "sentence += \"fun\""
   ]
  },
  {
   "cell_type": "code",
   "execution_count": 7,
   "id": "eac99fcf",
   "metadata": {},
   "outputs": [
    {
     "name": "stdout",
     "output_type": "stream",
     "text": [
      "coding is fun\n"
     ]
    }
   ],
   "source": [
    "print(sentence) # Run this block last!"
   ]
  },
  {
   "cell_type": "markdown",
   "id": "01ce398d",
   "metadata": {},
   "source": [
    "<a id='section4'></a>\n",
    "## 4. Moving up and down!\n",
    "\n",
    "You can move cells by selecting them and then by using the Up and Down arrows on the toolbar above or going to Edit -> Move Cell Up/ Move Cell Down. You might use Alt+Arrow Up/Down (or Option+Arrow Up/Down on Mac) to move the cell.\n",
    "\n",
    "**TODO:** The following code blocks will not print out a meaningful sentence if they are run in the order they are arranged. Move up/down the cells so that they print out **\"I think 2025 will be fun\"!**\n",
    "\n",
    "Note: If you want to retry, run the following block (sentence = \"\" # Run this block first!) and try again!"
   ]
  },
  {
   "cell_type": "code",
   "execution_count": 8,
   "id": "d6bce40b",
   "metadata": {},
   "outputs": [],
   "source": [
    "sentence = \"\" # Run this cell first!"
   ]
  },
  {
   "cell_type": "markdown",
   "id": "311564d6",
   "metadata": {},
   "source": [
    "Move up/down the following cells so that they print out \"I think 2025 will be fun\":"
   ]
  },
  {
   "cell_type": "code",
   "execution_count": 9,
   "id": "b43d7d41",
   "metadata": {},
   "outputs": [],
   "source": [
    "sentence += \"I \""
   ]
  },
  {
   "cell_type": "code",
   "execution_count": 10,
   "id": "953e3076",
   "metadata": {},
   "outputs": [],
   "source": [
    "sentence += \"think \""
   ]
  },
  {
   "cell_type": "code",
   "execution_count": 11,
   "id": "a5481909",
   "metadata": {},
   "outputs": [],
   "source": [
    "sentence += \"2025 \""
   ]
  },
  {
   "cell_type": "code",
   "execution_count": 12,
   "id": "181a3006",
   "metadata": {},
   "outputs": [],
   "source": [
    "sentence += \"will be \""
   ]
  },
  {
   "cell_type": "code",
   "execution_count": 13,
   "id": "a30f0075",
   "metadata": {},
   "outputs": [],
   "source": [
    "sentence += \"fun \""
   ]
  },
  {
   "cell_type": "code",
   "execution_count": 14,
   "id": "a84d4947",
   "metadata": {},
   "outputs": [
    {
     "name": "stdout",
     "output_type": "stream",
     "text": [
      "I think 2025 will be fun \n"
     ]
    }
   ],
   "source": [
    "print(sentence) # Run this cell last!"
   ]
  },
  {
   "cell_type": "markdown",
   "id": "460582c7",
   "metadata": {},
   "source": [
    "<a id='section5'></a>\n",
    "## 5. Messed up? Restart the kernel!\n",
    "\n",
    "In order to wipe current data you need to Restart the kernel. By restarting the kernel, you will get a clean slate of memory to work with. \n",
    "\n",
    "You may also need to Restart your kernel if you find Jupyter unresponsive (or stuck in an infinite loop).  \n",
    "\n",
    "To restart your kernel, select Kernel -> Restart.\n",
    "\n",
    "**TODO**: Execute the following code block and check that \"I think 2025 will be fun\" is printed. Then, restart the kernel and execute the following code block. If you see **NameError: name 'sentence' is not defined**, you got it right. Great job!"
   ]
  },
  {
   "cell_type": "code",
   "execution_count": 1,
   "id": "1aafe4f5",
   "metadata": {},
   "outputs": [
    {
     "ename": "NameError",
     "evalue": "name 'sentence' is not defined",
     "output_type": "error",
     "traceback": [
      "\u001b[1;31m---------------------------------------------------------------------------\u001b[0m",
      "\u001b[1;31mNameError\u001b[0m                                 Traceback (most recent call last)",
      "Cell \u001b[1;32mIn [1], line 1\u001b[0m\n\u001b[1;32m----> 1\u001b[0m \u001b[38;5;28mprint\u001b[39m(\u001b[43msentence\u001b[49m)\n",
      "\u001b[1;31mNameError\u001b[0m: name 'sentence' is not defined"
     ]
    }
   ],
   "source": [
    "print(sentence)"
   ]
  }
 ],
 "metadata": {
  "kernelspec": {
   "display_name": "costimate-ml",
   "language": "python",
   "name": "python3"
  },
  "language_info": {
   "codemirror_mode": {
    "name": "ipython",
    "version": 3
   },
   "file_extension": ".py",
   "mimetype": "text/x-python",
   "name": "python",
   "nbconvert_exporter": "python",
   "pygments_lexer": "ipython3",
   "version": "3.12.3"
  }
 },
 "nbformat": 4,
 "nbformat_minor": 5
}
