{
 "cells": [
  {
   "cell_type": "markdown",
   "id": "30d52b51",
   "metadata": {},
   "source": [
    "# APS106 Tutorial - Week 1, Jupyter Notebook\n",
    "# Let's write our first program!"
   ]
  },
  {
   "cell_type": "code",
   "execution_count": null,
   "id": "13f82a6b",
   "metadata": {},
   "outputs": [],
   "source": [
    "#TODO: write our first program and execute it!"
   ]
  },
  {
   "cell_type": "code",
   "execution_count": null,
   "id": "a358db84",
   "metadata": {},
   "outputs": [],
   "source": []
  }
 ],
 "metadata": {
  "kernelspec": {
   "display_name": "base",
   "language": "python",
   "name": "python3"
  },
  "language_info": {
   "codemirror_mode": {
    "name": "ipython",
    "version": 3
   },
   "file_extension": ".py",
   "mimetype": "text/x-python",
   "name": "python",
   "nbconvert_exporter": "python",
   "pygments_lexer": "ipython3",
   "version": "3.12.7"
  }
 },
 "nbformat": 4,
 "nbformat_minor": 5
}
