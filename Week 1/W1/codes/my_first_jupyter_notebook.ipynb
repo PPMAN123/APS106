{
 "cells": [
  {
   "cell_type": "markdown",
   "id": "69656e41-e1a3-4d77-933e-e75f38200129",
   "metadata": {},
   "source": [
    "# This is the title (\"First class of APS106\")\n",
    "\n",
    "Some text here. \n",
    "I can format the text.\n",
    "\n",
    "|c1| c2| c3 |\n",
    "|--|--|--|\n",
    "|c1r2| c2r2| c3r2 |\n",
    "\n",
    "Equations:\n",
    "$ x^{2} $ "
   ]
  }
 ],
 "metadata": {
  "kernelspec": {
   "display_name": "Python 3 (ipykernel)",
   "language": "python",
   "name": "python3"
  },
  "language_info": {
   "codemirror_mode": {
    "name": "ipython",
    "version": 3
   },
   "file_extension": ".py",
   "mimetype": "text/x-python",
   "name": "python",
   "nbconvert_exporter": "python",
   "pygments_lexer": "ipython3",
   "version": "3.9.18"
  }
 },
 "nbformat": 4,
 "nbformat_minor": 5
}
