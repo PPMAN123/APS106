{
 "cells": [
  {
   "cell_type": "markdown",
   "metadata": {},
   "source": [
    "# APS106 Lecture Notes - Week 1, Lecture 3\n",
    "\n",
    "### This Week\n",
    "| Lecture | Topics | Reading |\n",
    "| --- | --- | --- | \n",
    "| 1.1 | Introduction | |\n",
    "| 1.2 | The Coding Toolbox | [Chapter 1](https://learn.zybooks.com/zybook/UTORONTOAPS106Winter2024/chapter/1/section/1)  |\n",
    "| **1.3** | **Variables, Expressions, and Operators** | [Chapter 2](https://learn.zybooks.com/zybook/UTORONTOAPS106Winter2024/chapter/2/section/1) |\n",
    "\n",
    "\n",
    "### Lecture Structure\n",
    "1. [Using Python as a Calculator](#section1)\n",
    "2. [Variables and Memory](#section2)\n",
    "3. [Different Types of Variables](#section3)\n",
    "4. [Augmented Assignment Operators](#section4)\n",
    "5. [Let's Code!](#section5)"
   ]
  },
  {
   "cell_type": "markdown",
   "metadata": {},
   "source": [
    "## Recap: types of cells in a Jupyter notebook\n",
    "\n",
    "Text, image, and code!\n",
    "\n",
    "## Recap: What is Programming?\n",
    "\n",
    "- A way of telling a computer what to do.\n",
    "- A computer can’t infer (…yet).\n",
    "    - Need to tell a computer every single step in a language it can understand.\n",
    "\n",
    "How would you request an egg for breakfast to a chef and to a computer/robot?\n",
    "\n",
    "|<span style=\"color:darkgreen\"> **Chef** </span> | <span style=\"color:darkred\"> **Computer** </span>\n",
    "| --- | --- |\n",
    "| Sunny-side up, please! | Turn on stove\n",
    "|| Take out pan\n",
    "|| Take one egg out of fridge\n",
    "|| Crack egg\n",
    "|| Pour egg into pan\n",
    "|| Wait 5 minutes "
   ]
  },
  {
   "cell_type": "markdown",
   "metadata": {},
   "source": [
    "<a id='section1'></a>\n",
    "\n",
    "## 1. Using Python as a Calculator\n",
    "\n",
    "Unlike some other languages, Python is dynamically typed.  It is interpreted language and can run line by line.  "
   ]
  },
  {
   "cell_type": "markdown",
   "metadata": {},
   "source": [
    "### Arithmetic Operators\n",
    "\n",
    "| Operator | Operation | Expression | English | Result |\n",
    "| --- | --- | --- | --- | --- |\n",
    "| + | addition | 11 + 23 | 11 plus 23 | 34 |\n",
    "| - | subtraction | 23 - 52 | 23 minus 52 | -29 |\n",
    "| * | multiplication | 4 * 5 | 4 times 5 | 20 |\n",
    "| / | division | 9 / 2 | 9 divided by 2 | 4.5 |\n",
    "| // | integer division | 9 // 2 | 9 divided by 2 | 4 |\n",
    "| ** | exponentiation | 2 ** 5 | 2 to the power 5 | 32 |\n",
    "| % | modulo (remainder) | 9 % 2 | 9 mod 2 | 1 |\n",
    "\n",
    "\n",
    "The first 3 (addition, subtraction, multiplication) should be easy - with the slight issue that multiplication is represented by `*`. This is pretty common in (almost) all programming languages.\n",
    "\n",
    "#### Division\n",
    "\n",
    "Division comes in two flavours.\n",
    "\n",
    "First, the `/` operator divides a number by another number (integer or decimal) and returns and represents the result **as a `float`** (a value type with decimal places - we'll discuss later this lecture).\n",
    "\n",
    "```\n",
    "10/3 = 3.333333333333333\n",
    "```\n",
    "\n",
    "The second division operator is integer division. It divides the first number by the second with the result being **truncated** to an integer value. \"Truncated\" means that everything after the decimal is thrown away.  NOTE THAT WE SAID TRUNCATED, NOT ROUNDED.\n",
    "\n",
    "```\n",
    "10/3 = 3.0\n",
    "```\n",
    "\n",
    "If the two operands of `//` (the two numbers being divided) are both `int`, then the result will be an `int`. If either of the two operands is a `float`, then the result will be a `float` (even though it will have a whole number value).\n",
    "\n",
    "#### Exponentiation\n",
    "\n",
    "Python has a nice exponentiation operator `**`\n",
    "\n",
    "#### Modulo\n",
    "\n",
    "The last operator may be new to you. It is the modulo operator repesented by `%`. It is also a kind of division but it results in the **remainder** after dividing the operands. "
   ]
  },
  {
   "cell_type": "code",
   "execution_count": 1,
   "metadata": {},
   "outputs": [
    {
     "data": {
      "text/plain": [
       "7"
      ]
     },
     "execution_count": 1,
     "metadata": {},
     "output_type": "execute_result"
    }
   ],
   "source": [
    "3+4"
   ]
  },
  {
   "cell_type": "code",
   "execution_count": 2,
   "metadata": {},
   "outputs": [
    {
     "data": {
      "text/plain": [
       "20"
      ]
     },
     "execution_count": 2,
     "metadata": {},
     "output_type": "execute_result"
    }
   ],
   "source": [
    "4*5"
   ]
  },
  {
   "cell_type": "code",
   "execution_count": 3,
   "metadata": {},
   "outputs": [
    {
     "data": {
      "text/plain": [
       "3.3333333333333335"
      ]
     },
     "execution_count": 3,
     "metadata": {},
     "output_type": "execute_result"
    }
   ],
   "source": [
    "10/3"
   ]
  },
  {
   "cell_type": "code",
   "execution_count": 4,
   "metadata": {},
   "outputs": [
    {
     "data": {
      "text/plain": [
       "5.0"
      ]
     },
     "execution_count": 4,
     "metadata": {},
     "output_type": "execute_result"
    }
   ],
   "source": [
    "10/2"
   ]
  },
  {
   "cell_type": "code",
   "execution_count": 5,
   "metadata": {},
   "outputs": [
    {
     "data": {
      "text/plain": [
       "3"
      ]
     },
     "execution_count": 5,
     "metadata": {},
     "output_type": "execute_result"
    }
   ],
   "source": [
    "10//3"
   ]
  },
  {
   "cell_type": "code",
   "execution_count": 6,
   "metadata": {},
   "outputs": [
    {
     "data": {
      "text/plain": [
       "8"
      ]
     },
     "execution_count": 6,
     "metadata": {},
     "output_type": "execute_result"
    }
   ],
   "source": [
    "2**3"
   ]
  },
  {
   "cell_type": "code",
   "execution_count": 7,
   "metadata": {},
   "outputs": [
    {
     "data": {
      "text/plain": [
       "1"
      ]
     },
     "execution_count": 7,
     "metadata": {},
     "output_type": "execute_result"
    }
   ],
   "source": [
    "10%3"
   ]
  },
  {
   "cell_type": "markdown",
   "metadata": {},
   "source": [
    "### Arithmetic Operator Precedence\n",
    "\n",
    "Just as you learned in high school, when you have a complicated expression some of the operators are executed before others. In Python the operator precedence is as follows.\n",
    "\n",
    "| Operator | Precedence |\n",
    "| --- | --- | \n",
    "| ** | highest | \n",
    "| - (negation) | | \n",
    "| \\*, /, //, % | (evaluate left-to-right) | \n",
    "| + (addition, - (subtraction) | lowest (evaluate left-to-right) |\n",
    "See Gries, Table 2, p. 15."
   ]
  },
  {
   "cell_type": "code",
   "execution_count": 8,
   "metadata": {},
   "outputs": [
    {
     "data": {
      "text/plain": [
       "29"
      ]
     },
     "execution_count": 8,
     "metadata": {},
     "output_type": "execute_result"
    }
   ],
   "source": [
    "25 + 2 ** 2"
   ]
  },
  {
   "cell_type": "markdown",
   "metadata": {},
   "source": [
    "What would be the output of the following expression?\n",
    "```\n",
    "100 - 25 * 2 ** 2\n",
    "```"
   ]
  },
  {
   "cell_type": "code",
   "execution_count": 14,
   "metadata": {},
   "outputs": [
    {
     "data": {
      "text/plain": [
       "300"
      ]
     },
     "execution_count": 14,
     "metadata": {},
     "output_type": "execute_result"
    }
   ],
   "source": [
    "(100 -25 )* 2 ** 2"
   ]
  },
  {
   "cell_type": "code",
   "execution_count": 9,
   "metadata": {},
   "outputs": [
    {
     "data": {
      "text/plain": [
       "4"
      ]
     },
     "execution_count": 9,
     "metadata": {},
     "output_type": "execute_result"
    }
   ],
   "source": [
    "2 ** 2"
   ]
  },
  {
   "cell_type": "code",
   "execution_count": 10,
   "metadata": {},
   "outputs": [
    {
     "data": {
      "text/plain": [
       "100"
      ]
     },
     "execution_count": 10,
     "metadata": {},
     "output_type": "execute_result"
    }
   ],
   "source": [
    "25 * 4"
   ]
  },
  {
   "cell_type": "markdown",
   "metadata": {},
   "source": [
    "<a id='section2'></a>\n",
    "\n",
    "## 2. Variables and Memory\n",
    "\n",
    "The most basic thing you can do in a computer program is to assign a value to a variable. We'll get into more detail later in this lecture, but for now, you can think of a variable as a **named** location in memory and the value as the bits (i.e., 0/1 values) that represents the quantity that is stored in that location.\n",
    "\n",
    "Here are three lines in a Python program. Each line does 3 things:\n",
    "- creates a variable\n",
    "- gives it a name\n",
    "- assigns a value"
   ]
  },
  {
   "cell_type": "code",
   "execution_count": 16,
   "metadata": {},
   "outputs": [],
   "source": [
    "x = 2"
   ]
  },
  {
   "cell_type": "code",
   "execution_count": 17,
   "metadata": {},
   "outputs": [
    {
     "data": {
      "text/plain": [
       "2"
      ]
     },
     "execution_count": 17,
     "metadata": {},
     "output_type": "execute_result"
    }
   ],
   "source": [
    "x"
   ]
  },
  {
   "cell_type": "code",
   "execution_count": 18,
   "metadata": {},
   "outputs": [],
   "source": [
    "base = 20\n",
    "height = 12\n",
    "area = base*height"
   ]
  },
  {
   "cell_type": "code",
   "execution_count": 19,
   "metadata": {},
   "outputs": [
    {
     "data": {
      "text/plain": [
       "240"
      ]
     },
     "execution_count": 19,
     "metadata": {},
     "output_type": "execute_result"
    }
   ],
   "source": [
    "area"
   ]
  },
  {
   "cell_type": "markdown",
   "metadata": {},
   "source": [
    "So now we have a variable named `base` with a value of 20 and a variable named `height` with a value of 12.  There is also a variable named area with a value of 20 x 12 (which equals 240).  But we didn't get any output?!\n",
    "\n",
    "### Output: The `print` statement\n",
    "\n",
    "You will have noticed when I ran the above code, it didn't look like anything happened. Stuff did happen (as described above) but since there was no output, you couldn't tell. \n",
    "\n",
    "We'll get into this in (much more) depth later in the course. For now, you should know that there exists a function called `print` which prints a value to the screen. Whenever you need to output something, you will need to use a `print` function.\n",
    "\n",
    "For example:"
   ]
  },
  {
   "cell_type": "code",
   "execution_count": 20,
   "metadata": {},
   "outputs": [
    {
     "name": "stdout",
     "output_type": "stream",
     "text": [
      "20\n"
     ]
    }
   ],
   "source": [
    "print(20)"
   ]
  },
  {
   "cell_type": "code",
   "execution_count": 21,
   "metadata": {},
   "outputs": [
    {
     "name": "stdout",
     "output_type": "stream",
     "text": [
      "20\n"
     ]
    }
   ],
   "source": [
    "print(base)"
   ]
  },
  {
   "cell_type": "code",
   "execution_count": 22,
   "metadata": {},
   "outputs": [
    {
     "name": "stdout",
     "output_type": "stream",
     "text": [
      "12\n"
     ]
    }
   ],
   "source": [
    "print(height)"
   ]
  },
  {
   "cell_type": "code",
   "execution_count": 23,
   "metadata": {},
   "outputs": [
    {
     "name": "stdout",
     "output_type": "stream",
     "text": [
      "240\n",
      "240\n"
     ]
    }
   ],
   "source": [
    "print(base*height)\n",
    "print(area)"
   ]
  },
  {
   "cell_type": "markdown",
   "metadata": {},
   "source": [
    "### Variable Names\n",
    "\n",
    "Python has a two rules for legal variable names:\n",
    "1. Names must start with a letter or \\_ (an underscore).\n",
    "2. Names must contain only letters, digits, and \\_. [No emojis in your variables names!]\n",
    "\n",
    "By convention, it is good Python style to use **`snake_case`**. Create meaningful variables names with underscore separating the \"words\" in the name (if there is more than one meaningful word)."
   ]
  },
  {
   "cell_type": "code",
   "execution_count": 26,
   "metadata": {},
   "outputs": [
    {
     "name": "stdout",
     "output_type": "stream",
     "text": [
      "Object `family_name = \"moosavi\"` not found.\n"
     ]
    }
   ],
   "source": []
  },
  {
   "cell_type": "markdown",
   "metadata": {},
   "source": [
    "family_name\n",
    "\n",
    "\n",
    "\n"
   ]
  },
  {
   "cell_type": "code",
   "execution_count": null,
   "metadata": {},
   "outputs": [],
   "source": [
    "\n",
    "\n",
    "\n",
    "time_to_launch = 20 # maybe used in some sort of aerospace application?\n",
    "\n",
    "family_name = \"Smith\" # for a human resources application\n",
    "\n",
    "learning_rate = 0.01 # for machine learning code\n",
    "\n",
    "#HINT: THE FOLLOWING ARE NOT HELPFUL NAMES\n",
    "nom = 1.2\n",
    "nomnomnom = 0.0000012\n",
    "nomnomnomnomnom = 5\n",
    "nomnomnomnomnomnomnom = 'nomnom string'"
   ]
  },
  {
   "cell_type": "markdown",
   "metadata": {},
   "source": [
    "### Memory Locations\n",
    "\n",
    "*Everything* in Python has a location in memory. **This is different than most languages!** Each location in memory has an *address*. You can think of this as similar to a house address. Just as \"40 St. George St\" refers to a location in Toronto, each location has a corresponding \"id\" which maps to its location in memory.\n",
    "\n",
    "For example:"
   ]
  },
  {
   "cell_type": "code",
   "execution_count": 31,
   "metadata": {},
   "outputs": [],
   "source": [
    "base = 20\n",
    "base2 = 20"
   ]
  },
  {
   "cell_type": "code",
   "execution_count": 32,
   "metadata": {},
   "outputs": [
    {
     "name": "stdout",
     "output_type": "stream",
     "text": [
      "20\n",
      "20\n"
     ]
    }
   ],
   "source": [
    "print(base)\n",
    "print(base2)"
   ]
  },
  {
   "cell_type": "code",
   "execution_count": 34,
   "metadata": {},
   "outputs": [
    {
     "name": "stdout",
     "output_type": "stream",
     "text": [
      "4337919800\n",
      "4337919800\n",
      "4337919800\n"
     ]
    }
   ],
   "source": [
    "print(id(base))\n",
    "print(id(base2))\n",
    "print(id(20))"
   ]
  },
  {
   "cell_type": "code",
   "execution_count": 35,
   "metadata": {},
   "outputs": [
    {
     "name": "stdout",
     "output_type": "stream",
     "text": [
      "20 20\n"
     ]
    }
   ],
   "source": [
    "print(base, base2)"
   ]
  },
  {
   "cell_type": "code",
   "execution_count": 30,
   "metadata": {},
   "outputs": [
    {
     "name": "stdout",
     "output_type": "stream",
     "text": [
      "4337919800\n"
     ]
    }
   ],
   "source": [
    "print(id(20))"
   ]
  },
  {
   "cell_type": "markdown",
   "metadata": {},
   "source": [
    "## Assignment Statements \n",
    "\n",
    "<div class=\"alert alert-block alert-warning\">\n",
    "This is a frequent source of error and mis-understanding.\n",
    "</div>\n",
    "\n",
    "An assignment statement is always executed as follows:\n",
    "1. The expression to the right of the `=` sign is evaluated. \"Evaluated\" means that the computer figures out what quantity it represents. That quantity is someplace in memory (i.e., it has a memory address) and that address is figured out.\n",
    "2. The memory address of the evaluated expression is then stored in the variable on the left side of the `=` sign.\n",
    "\n",
    "The notion of evaluation may sound strange at the moment because a numeric constant (like 20) just evaluates to itself. So it seems like this is more complicated than it has to be. As we will see, we can have more than just a constant on the right-hand side of an assignment. And memorizing the following rule will help you in those more complicated cases: \n",
    "\n",
    "<font color=red>first evaluate the thing on the right, then assign its address to the thing on the left</font>.\n",
    "\n",
    "Let's go through a simple example."
   ]
  },
  {
   "cell_type": "code",
   "execution_count": 36,
   "metadata": {},
   "outputs": [
    {
     "name": "stdout",
     "output_type": "stream",
     "text": [
      "20\n"
     ]
    }
   ],
   "source": [
    "difference = 20\n",
    "print(difference)"
   ]
  },
  {
   "cell_type": "markdown",
   "metadata": {},
   "source": [
    "Following our rule, the thing in the right of the `=` is evaluated (to 20, obviously) and then it's address is figured out. The address of 20 is:"
   ]
  },
  {
   "cell_type": "code",
   "execution_count": 37,
   "metadata": {
    "scrolled": true
   },
   "outputs": [
    {
     "name": "stdout",
     "output_type": "stream",
     "text": [
      "4337919800\n",
      "4337919800\n"
     ]
    }
   ],
   "source": [
    "print(id(difference))\n",
    "print(id(20))\n"
   ]
  },
  {
   "cell_type": "code",
   "execution_count": 38,
   "metadata": {},
   "outputs": [
    {
     "name": "stdout",
     "output_type": "stream",
     "text": [
      "40\n"
     ]
    }
   ],
   "source": [
    "double = 2 * difference\n",
    "print(double)"
   ]
  },
  {
   "cell_type": "code",
   "execution_count": 39,
   "metadata": {},
   "outputs": [
    {
     "name": "stdout",
     "output_type": "stream",
     "text": [
      "4337920440\n",
      "4337920440\n"
     ]
    }
   ],
   "source": [
    "print(id(double))\n",
    "print(id(40))"
   ]
  },
  {
   "cell_type": "code",
   "execution_count": 40,
   "metadata": {},
   "outputs": [
    {
     "name": "stdout",
     "output_type": "stream",
     "text": [
      "5\n"
     ]
    }
   ],
   "source": [
    "difference = 5\n",
    "print(difference)"
   ]
  },
  {
   "cell_type": "code",
   "execution_count": 41,
   "metadata": {},
   "outputs": [
    {
     "name": "stdout",
     "output_type": "stream",
     "text": [
      "4337919320\n",
      "4337919320\n",
      "4337919800\n"
     ]
    }
   ],
   "source": [
    "print(id(difference))\n",
    "print(id(5))\n",
    "print(id(20))"
   ]
  },
  {
   "cell_type": "markdown",
   "metadata": {},
   "source": [
    "<a id='section3'></a>\n",
    "<div class=\"alert alert-block alert-info\">\n",
    "<big><b>Where Are We So Far</b></big>\n",
    "<ul>  \n",
    "    <li><tt>print</tt> statements to output something to the screen</li>  \n",
    " <li>assignment statements that create a variable and assign it a value</li>  \n",
    " <li>the rule for figuring out what assignment statements are really doing</li>  \n",
    "</ul>  \n",
    "</div>\n",
    "\n",
    "### 3. Different Types of Variables\n",
    "\n",
    "So far we've mostly seen examples of assigning numbers to variables. And mostly, we've only seen a sub-class of numbers being assigned: integers.\n",
    "\n",
    "To start, let's talk about 3 types of variables: `int` (represents integers), `float` (represents continuous numbers), and `str` (represents a strong of one or more characters).\n",
    "\n",
    "A *type* is a set of values and a set of operations (e.g., +,-, etc. we'll see more of these in a second) that can be performed on the values. \n",
    "\n",
    "#### Types `int` and `float`\n",
    "\n",
    "Numeric values are represented in Python as `int` and `float` type. (`float` is short for \"floating-point\" number which has to do with how you represent fractional numbers with only bits. Not something we have to be concerned about for now.) We've seen examples of `int` variables, here are a couple of `float` variables."
   ]
  },
  {
   "cell_type": "code",
   "execution_count": 43,
   "metadata": {},
   "outputs": [
    {
     "name": "stdout",
     "output_type": "stream",
     "text": [
      "<class 'int'>\n"
     ]
    }
   ],
   "source": [
    "integer_variable = 1\n",
    "print(type(integer_variable))"
   ]
  },
  {
   "cell_type": "code",
   "execution_count": 44,
   "metadata": {},
   "outputs": [
    {
     "name": "stdout",
     "output_type": "stream",
     "text": [
      "<class 'str'>\n"
     ]
    }
   ],
   "source": [
    "string_variable = \"APS106\"\n",
    "print(type(string_variable))"
   ]
  },
  {
   "cell_type": "code",
   "execution_count": 42,
   "metadata": {},
   "outputs": [
    {
     "name": "stdout",
     "output_type": "stream",
     "text": [
      "5.3\n",
      "13.4\n",
      "<class 'float'>\n"
     ]
    }
   ],
   "source": [
    "distance = 5.3\n",
    "print(distance)\n",
    "time = 13.4\n",
    "print(time)\n",
    "print(type(time))"
   ]
  },
  {
   "cell_type": "code",
   "execution_count": null,
   "metadata": {},
   "outputs": [],
   "source": [
    "approx_time = 13\n",
    "print(type(approx_time))"
   ]
  },
  {
   "cell_type": "markdown",
   "metadata": {},
   "source": [
    "#### Type `str`\n",
    "\n",
    "A *string literal* is a sequence of characters. In Python, this type is called `str`. Strings in Python start and end with a single quotes (') or double quotes (\") (or even triple quotes - but we'll get to that later). Just remember that you need to start and end a string literal with the same quote mark. A string can be made up of letters, numbers, and special characters. For example:"
   ]
  },
  {
   "cell_type": "code",
   "execution_count": 46,
   "metadata": {},
   "outputs": [
    {
     "name": "stdout",
     "output_type": "stream",
     "text": [
      "hello\n",
      "again\n"
     ]
    }
   ],
   "source": [
    "print(\"hello\\nagain\") #we will talk more about what \"\\n\" does in the future, can you guess?"
   ]
  },
  {
   "cell_type": "code",
   "execution_count": 47,
   "metadata": {},
   "outputs": [
    {
     "name": "stdout",
     "output_type": "stream",
     "text": [
      "hello\n",
      "how are you?\n",
      "short- and long-term\n"
     ]
    }
   ],
   "source": [
    "greeting = 'hello'\n",
    "print(greeting)\n",
    "\n",
    "print('how are you?')\n",
    "print(\"short- and long-term\")"
   ]
  },
  {
   "cell_type": "markdown",
   "metadata": {},
   "source": [
    "If you start a string literal with a single-quote you need to end it with a single-quote. Similarly, if it starts with a double-quote, a double-quote ends it."
   ]
  },
  {
   "cell_type": "code",
   "execution_count": 48,
   "metadata": {},
   "outputs": [
    {
     "name": "stdout",
     "output_type": "stream",
     "text": [
      "Welcome to 'APS106'!\n"
     ]
    }
   ],
   "source": [
    "welcome = \"Welcome to 'APS106'!\"\n",
    "print(welcome)"
   ]
  },
  {
   "cell_type": "code",
   "execution_count": 49,
   "metadata": {},
   "outputs": [
    {
     "ename": "SyntaxError",
     "evalue": "unterminated string literal (detected at line 1) (3951288836.py, line 1)",
     "output_type": "error",
     "traceback": [
      "\u001b[0;36m  Cell \u001b[0;32mIn[49], line 1\u001b[0;36m\u001b[0m\n\u001b[0;31m    bad_str = 'Start and end\"\u001b[0m\n\u001b[0m              ^\u001b[0m\n\u001b[0;31mSyntaxError\u001b[0m\u001b[0;31m:\u001b[0m unterminated string literal (detected at line 1)\n"
     ]
    }
   ],
   "source": [
    "bad_str = 'Start and end\"\n",
    "print(bad_str)"
   ]
  },
  {
   "cell_type": "markdown",
   "metadata": {},
   "source": [
    "Just like an `int` and `float` variables store integers and floating point values, a `str` variable stores string literals.\n",
    "\n",
    "### Expressions\n",
    "\n",
    "You already know about mathematical expressions like `2+5-13`. Such expressions: evaluate to some value and are made up of *operators* (e.g., +, -) and *operands* (the values that the operators operate on).\n",
    "\n",
    "Actually, expressions do not have to have operators. A number by itself or a variable is an expression. When we talked about evaluating the thing after the = sign in an assignment statement, that thing is an expression. So this means we can expand our assignment statements to have any expression on the right-hand side."
   ]
  },
  {
   "cell_type": "code",
   "execution_count": 50,
   "metadata": {},
   "outputs": [
    {
     "name": "stdout",
     "output_type": "stream",
     "text": [
      "120.0\n"
     ]
    }
   ],
   "source": [
    "base = 20\n",
    "height = 12\n",
    "area = base * height / 2\n",
    "print(area)"
   ]
  },
  {
   "cell_type": "code",
   "execution_count": 51,
   "metadata": {},
   "outputs": [
    {
     "name": "stdout",
     "output_type": "stream",
     "text": [
      "71.6\n"
     ]
    }
   ],
   "source": [
    "celsius = 22\n",
    "fahrenheit = celsius * 9/5 + 32\n",
    "print(fahrenheit)"
   ]
  },
  {
   "cell_type": "markdown",
   "metadata": {},
   "source": [
    "Notice that the examples above have a variable to the right of the = sign. This is fine as a variable will just evaluate to the value that it has been assigned.\n",
    "\n",
    "The rules for figuring out what assignments statements are doing remain the same. The change is that the evaluation of the expression on the right-hand side is more complicated when you have something other than a number. "
   ]
  },
  {
   "cell_type": "markdown",
   "metadata": {},
   "source": [
    "<a id='section4'></a>\n",
    "## 4. Augmented Assignment Operators\n",
    "\n",
    "\n",
    "| Operator | Expression | Identical Expression | \n",
    "| --- | --- | --- | \n",
    "| += | x += 2 | x = x + 2 |\n",
    "| -= | x -= 3 | x = x - 3 |\n",
    "| \\*= | x \\*= 5 | x = x * 5 |\n",
    "| /= | x /= 2 | x = x / 2 | \n",
    "| //= | x //= 2 | x = x // 2 |\n",
    "| \\*\\*= | x \\*\\*= 3 | x = x ** 3 |\n",
    "| %= | x %= 3 | x = x % 3 |\n",
    "See Gries, Table 3, p. 22.\n",
    "\n",
    "The thing to the right of the augmented operator is just an expression and so you can do more complicated things.\n",
    "\n",
    "It is often the case that we want to evaluate some expression using a variable and store that calculation back in the same variable. For example, if you wanted to count something (like the number of perfect squares less than or equal to some number that a user enters), it makes sense to add one to a variable every time you find another perfect square.\n",
    "\n",
    "Let's write that code."
   ]
  },
  {
   "cell_type": "code",
   "execution_count": null,
   "metadata": {},
   "outputs": [],
   "source": [
    "max_num = int(input(\"Give me an integer: \"))\n",
    "\n",
    "base = 1\n",
    "count = 0\n",
    "while base * base <= max_num:\n",
    "    count = count + 1\n",
    "    base = base + 1\n",
    "\n",
    "print(\"There are\", count, \"perfect squares less than\", max_num)\n"
   ]
  },
  {
   "cell_type": "markdown",
   "metadata": {},
   "source": [
    "We can re-write the above code using \"augmented operators\" that combine `+` and `=`."
   ]
  },
  {
   "cell_type": "code",
   "execution_count": null,
   "metadata": {
    "scrolled": true
   },
   "outputs": [],
   "source": [
    "max_num = int(input(\"Give me an integer: \"))\n",
    "\n",
    "base = 1\n",
    "count = 0\n",
    "while base * base <= max_num:\n",
    "    count += 1\n",
    "    base += 1\n",
    "\n",
    "print(\"There are\", count, \"perfect squares less than\", max_num)"
   ]
  },
  {
   "cell_type": "markdown",
   "metadata": {},
   "source": [
    "This code does exactly the same thing: we've just abbreviated by using augmented operators."
   ]
  },
  {
   "cell_type": "markdown",
   "metadata": {},
   "source": [
    "We can do this with all the standard arithmetic operators."
   ]
  },
  {
   "cell_type": "code",
   "execution_count": null,
   "metadata": {},
   "outputs": [],
   "source": [
    "x = 17\n",
    "x //= 3\n",
    "print(x)"
   ]
  },
  {
   "cell_type": "code",
   "execution_count": null,
   "metadata": {},
   "outputs": [],
   "source": [
    "y = 7\n",
    "y *= 2\n",
    "print(y)"
   ]
  },
  {
   "cell_type": "code",
   "execution_count": null,
   "metadata": {},
   "outputs": [],
   "source": [
    "z = 20\n",
    "z %= 6\n",
    "print(z)"
   ]
  },
  {
   "cell_type": "code",
   "execution_count": null,
   "metadata": {},
   "outputs": [],
   "source": [
    "#remember: evaluate right hand side of equation first\n",
    "\n",
    "x = 7\n",
    "y = 3\n",
    "x += y**2 - (4 * 3) - y\n",
    "print(x)"
   ]
  },
  {
   "cell_type": "markdown",
   "metadata": {},
   "source": [
    "The standard rules apply: evaluate the expression on the right-hand side and then increment (in the case of `+=`) the variable on the left-hand side."
   ]
  },
  {
   "cell_type": "markdown",
   "metadata": {},
   "source": [
    "<div class=\"alert alert-block alert-info\">\n",
    "<big><b>Where Are We Now</b></big>\n",
    "<ul>  \n",
    "    <li>Three variables types: <tt>int</tt>, <tt>float</tt>, and <tt>str</tt></li>\n",
    "    <li>Arithmetic expression combine operators, variables, constants</li>\n",
    "    <li>Arithmetic operators have precedence which can be over-ridden with parentheses</li>\n",
    "        <li>Augmented operators combine an operator with an assignment back to the variable being operated on</li>\n",
    "\n",
    "</ul>  \n",
    "</div>\n"
   ]
  },
  {
   "cell_type": "markdown",
   "metadata": {},
   "source": [
    "# List of Python Operators\n",
    "\n",
    "### 1. Arithmetic Operators\n",
    "- `+` : Addition\n",
    "- `-` : Subtraction\n",
    "- `*` : Multiplication\n",
    "- `/` : Division\n",
    "- `%` : Modulus\n",
    "- `**` : Exponentiation\n",
    "- `//` : Floor Division\n",
    "\n",
    "### 2. Assignment Operators\n",
    "- `=` : Assign\n",
    "- `+=` : Add and assign\n",
    "- `-=` : Subtract and assign\n",
    "- `*=` : Multiply and assign\n",
    "- `/=` : Divide and assign\n",
    "- `%=` : Modulus and assign\n",
    "- `**=` : Exponent and assign\n",
    "- `//=` : Floor division and assign\n",
    "---\n",
    "We learned up to here today, we will learn more operators in the following lectures...\n",
    "\n",
    "---\n",
    "\n",
    "- `&=` : Bitwise AND and assign\n",
    "- `|=` : Bitwise OR and assign\n",
    "- `^=` : Bitwise XOR and assign\n",
    "- `>>=` : Right shift and assign\n",
    "- `<<=` : Left shift and assign\n",
    "\n",
    "### 3. Comparison Operators\n",
    "- `==` : Equal to\n",
    "- `!=` : Not equal to\n",
    "- `>` : Greater than\n",
    "- `<` : Less than\n",
    "- `>=` : Greater than or equal to\n",
    "- `<=` : Less than or equal to\n",
    "\n",
    "### 4. Logical Operators\n",
    "- `and` : Logical AND\n",
    "- `or` : Logical OR\n",
    "- `not` : Logical NOT\n",
    "\n",
    "### 5. Bitwise Operators\n",
    "- `&` : Bitwise AND\n",
    "- `|` : Bitwise OR\n",
    "- `^` : Bitwise XOR\n",
    "- `~` : Bitwise NOT\n",
    "- `<<` : Left shift\n",
    "- `>>` : Right shift\n",
    "\n",
    "### 6. Identity Operators\n",
    "- `is` : Identity (same object)\n",
    "- `is not` : Not the same object\n",
    "\n",
    "### 7. Membership Operators\n",
    "- `in` : Membership (part of)\n",
    "- `not in` : Not a member\n"
   ]
  },
  {
   "cell_type": "markdown",
   "metadata": {},
   "source": [
    "# Tips for pros (#cleancode)\n",
    "\n",
    "</br>\n",
    "\n",
    "- ### Use Comments:\n",
    "Comments should explain why something is done, not what is done; the code itself should be self-explanatory for the latter.\n",
    "\n",
    "\n",
    "- ### Use Meaningful Names: \n",
    "Choose variable, function, and class names that are descriptive and indicate what they represent or do. Avoid using vague names like data or x.\n",
    "\n",
    "- ### Use Consistent Naming Schema\n",
    "Be consistent with your naming convention, e.g., use **snake_case**. In **snake_case**, words are all in lowercase and are separated by underscores. It is a naming convention where each word is separated by an underscore character, and all letters are lowercase.\n",
    "\n",
    "\n",
    "- ### Use Spaces Around Operators:\n",
    "For readability, put spaces around operators and after commas: \n",
    "\n",
    "e.g.,\n",
    "```\n",
    "canda = cat + panda\n",
    "```\n",
    "not\n",
    "```\n",
    "canda=cat+panda\n",
    "```\n",
    "<img src=\"Images/canda.png\" alt=\"canda\" width=\"200\"/>\n"
   ]
  },
  {
   "cell_type": "markdown",
   "metadata": {},
   "source": [
    "<a id='section5'></a>\n",
    "## 5. Let's Code!\n",
    "\n",
    "In the old days (and in the United States), the mileage of a gas-powered car was measured in miles per gallon. Now for places that use the metric system, we prefer to measure it in litres per hundred kilometres. Write code to do the conversion to metric given a value in miles per gallon.\n",
    "\n",
    "Hints:\n",
    "- You don't know yet how to get the user to type in a value so just create a variable that is assigned to your miles per gallon number.\n",
    "- There are 3.78541 litres in a gallon.\n",
    "- There are 1.60934 kilometres in a mile.\n"
   ]
  },
  {
   "cell_type": "markdown",
   "metadata": {},
   "source": [
    "### Step 0: Plan your code\n",
    "Figure out a solution for your problem. Then convert this into a step-by-step psedo code. "
   ]
  },
  {
   "cell_type": "markdown",
   "metadata": {},
   "source": [
    "### Step 1: work out the math\n",
    "\n",
    "Figure out on paper how to do the conversion. You could pile everything into one equation or you could take it step-by-step."
   ]
  },
  {
   "cell_type": "markdown",
   "metadata": {},
   "source": [
    "My steps:\n",
    "1. calculate kilometers per gallon\n",
    "1. calculate kilometers per litre\n",
    "1. calculate liters per kilometer and multiple by 100\n",
    "\n",
    "This is what we are going to call an **Algorithm Plan** in this course: the steps your code is supposed to take.\n",
    "\n",
    "(You could also do the math a bit better and fiugure out that 1 mile-per-gallon = 235.21 litres/100k. But let's stick with the step-by-step approach for now.)"
   ]
  },
  {
   "cell_type": "markdown",
   "metadata": {},
   "source": [
    "### Step 2: create your variables"
   ]
  },
  {
   "cell_type": "code",
   "execution_count": null,
   "metadata": {},
   "outputs": [],
   "source": [
    "mile_per_gallon = 25 #this is what we want to convert - a 2019 Ford Mustang gets ~25 MPG\n",
    "litre_per_gallon = 3.78541\n",
    "k_per_mile = 1.60934\n"
   ]
  },
  {
   "cell_type": "markdown",
   "metadata": {},
   "source": [
    "### Step 3: calculate kilometers per gallon"
   ]
  },
  {
   "cell_type": "code",
   "execution_count": null,
   "metadata": {},
   "outputs": [],
   "source": [
    "k_per_gallon = mile_per_gallon * k_per_mile #mile_per_gallon & k_per_mile are given\n",
    "print(k_per_gallon)"
   ]
  },
  {
   "cell_type": "markdown",
   "metadata": {},
   "source": [
    "### Step 4: calculate kilometres per litre"
   ]
  },
  {
   "cell_type": "code",
   "execution_count": null,
   "metadata": {},
   "outputs": [],
   "source": [
    "k_per_litre = k_per_gallon / litre_per_gallon #litre_per_gallon is given\n",
    "print(k_per_litre)"
   ]
  },
  {
   "cell_type": "markdown",
   "metadata": {},
   "source": [
    "### Step 5: calculate litres per kilometre and multiply by 100"
   ]
  },
  {
   "cell_type": "code",
   "execution_count": null,
   "metadata": {},
   "outputs": [],
   "source": [
    "litre_per_100k = 1/k_per_litre * 100\n",
    "print(litre_per_100k)"
   ]
  },
  {
   "cell_type": "code",
   "execution_count": null,
   "metadata": {},
   "outputs": [],
   "source": [
    "#OR BY UNIT ANALYSIS:\n",
    "\n",
    "#Miles / Gallon -> L / 100 km\n",
    "# L/km = L/gal * gal/mile * mile/km\n",
    "\n",
    "# finally, to convert L/km into L/100km, multiply by 100"
   ]
  },
  {
   "cell_type": "markdown",
   "metadata": {},
   "source": [
    "Steps 1 - 5 are what we are going to call the **Programming Plan** in the course. It is the thing that you (as a programmer) have to do to create the answer to your problem."
   ]
  },
  {
   "cell_type": "markdown",
   "metadata": {},
   "source": [
    "<div class=\"alert alert-block alert-info\">\n",
    "<big><b>This Lecture</b></big>\n",
    "<ul>  \n",
    "    <li>Variables and Memory</li>\n",
    "    <li>Variable Types</li>\n",
    "    <li>Expressions and Evaluating Expressions</li>\n",
    "    <li>Assignment and Augmented Assignment</li>\n",
    "     <li>Arithmetic Operators</li>\n",
    "         <li>Algorithm Plans and Programming Plans</li>\n",
    "</ul>  \n",
    "</div>\n"
   ]
  },
  {
   "cell_type": "code",
   "execution_count": null,
   "metadata": {},
   "outputs": [],
   "source": []
  }
 ],
 "metadata": {
  "kernelspec": {
   "display_name": "Python 3 (ipykernel)",
   "language": "python",
   "name": "python3"
  },
  "language_info": {
   "codemirror_mode": {
    "name": "ipython",
    "version": 3
   },
   "file_extension": ".py",
   "mimetype": "text/x-python",
   "name": "python",
   "nbconvert_exporter": "python",
   "pygments_lexer": "ipython3",
   "version": "3.9.18"
  }
 },
 "nbformat": 4,
 "nbformat_minor": 4
}
