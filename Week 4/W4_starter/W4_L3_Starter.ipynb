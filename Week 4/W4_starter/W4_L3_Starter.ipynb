{
 "cells": [
  {
   "cell_type": "markdown",
   "metadata": {},
   "source": [
    "# APS106 Lecture Notes - Week 5, Lecture 1\n",
    "# Objects & Strings: Operators and Methods"
   ]
  },
  {
   "cell_type": "markdown",
   "metadata": {},
   "source": [
    "# Introduction to Objects in Python\n",
    "\n",
    "In programming, an **object** represents a single instance of a **class**. Think of a class as a blueprint for creating objects. Objects can have:\n",
    "- **Attributes** (which are like properties or characteristics of the object)\n",
    "- **Methods** (which are actions the object can perform)\n",
    "\n",
    "Let's consider a real-world analogy to understand objects better. Imagine a car as an object. The car has properties such as its color, make, and model, and it has behaviors, such as driving, stopping, and honking. In Python, we model these real-world entities as classes and objects."
   ]
  },
  {
   "cell_type": "code",
   "execution_count": null,
   "metadata": {},
   "outputs": [],
   "source": [
    "class Car:\n",
    "    # The __init__ method is called when a new object is created.\n",
    "    # It initializes the object's attributes.\n",
    "    def __init__(self, color, make, model):\n",
    "        self.color = color\n",
    "        self.make = make\n",
    "        self.model = model\n",
    "\n",
    "    # Example of a method that describes the car\n",
    "    def describe(self):\n",
    "        return f\"This is a {self.color} {self.make} {self.model}.\"\n",
    "\n",
    "    # Example of a method to simulate the car honking\n",
    "    def honk(self):\n",
    "        return \"Beep beep!\""
   ]
  },
  {
   "cell_type": "markdown",
   "metadata": {},
   "source": [
    "## Creating and Using an Object\n",
    "\n",
    "Once we have defined a class, we can create objects from that class, which are instances of the class. Creating an object is also known as instantiating a class. Let's create a `Car` object and use its methods."
   ]
  },
  {
   "cell_type": "markdown",
   "metadata": {},
   "source": [
    "## Attributes and Methods\n",
    "\n",
    "Every object in Python can store data (attributes) and have associated functions (methods) that use or modify this data. In our `Car` example:\n",
    "- Attributes include `color`, `make`, and `model` of the car.\n",
    "- Methods include `describe()` to describe the car and `honk()` to make a honking sound.\n",
    "\n",
    "Attributes allow us to keep track of the state of an object, and methods allow us to modify that state or perform operations based on that state.\n"
   ]
  },
  {
   "cell_type": "code",
   "execution_count": null,
   "metadata": {},
   "outputs": [],
   "source": [
    "# Creating an object of the Car class\n",
    "my_car = Car(\"red\", \"Toyota\", \"Corolla\")"
   ]
  },
  {
   "cell_type": "code",
   "execution_count": null,
   "metadata": {},
   "outputs": [],
   "source": [
    "# Using the describe method to print details about the car\n",
    "print(my_car.describe())"
   ]
  },
  {
   "cell_type": "code",
   "execution_count": null,
   "metadata": {},
   "outputs": [],
   "source": [
    "# Using the honk method to simulate the car honking\n",
    "print(my_car.honk())"
   ]
  },
  {
   "cell_type": "markdown",
   "metadata": {},
   "source": [
    "### Everything is an Object in Python!\n",
    "Everything in Python is an object. That is, Python keeps track of every value, variable, function, etc., as an object. There is a function that you can call to confirm this: `isinstance()`\n",
    "\n",
    "Objects are a fundamental concept in Python and many other programming languages. They allow us to organize our code around real-world concepts by encapsulating related data and functionality. By defining classes and creating objects, we can model complex behaviors and interactions in our programs.\n",
    "\n",
    "\n",
    "\n"
   ]
  },
  {
   "cell_type": "code",
   "execution_count": null,
   "metadata": {},
   "outputs": [],
   "source": [
    "print(isinstance(my_car, object))\n",
    "print(isinstance(my_car, Car))"
   ]
  },
  {
   "cell_type": "code",
   "execution_count": null,
   "metadata": {},
   "outputs": [],
   "source": [
    "x = 1\n",
    "isinstance(x, int)"
   ]
  },
  {
   "cell_type": "code",
   "execution_count": null,
   "metadata": {},
   "outputs": [],
   "source": [
    "x = 1\n",
    "isinstance(x, float)"
   ]
  },
  {
   "cell_type": "code",
   "execution_count": null,
   "metadata": {},
   "outputs": [],
   "source": [
    "# Creating float objects\n",
    "number1 = 10.5\n",
    "number2 = float(20)  # Explicitly creating a float from an integer\n",
    "\n",
    "# Checking if they are instances of the float class\n",
    "print(isinstance(number1, float))  # Output: True\n",
    "print(isinstance(number2, float))  # Output: True"
   ]
  },
  {
   "cell_type": "markdown",
   "metadata": {},
   "source": [
    "### What's an Object?\n",
    "\n",
    "- single instance of a `class`\n",
    "- an object is a grouping of data and behaviour. We've discussed low-level data (int, bool, etc) and functions. For large programs, it is useful to group related pieces of data and the functions that act on that data into one 'thing'. Then all we need to do is deal with that thing and not the pieces.\n",
    "- It has `methods` and `attributes`:\n",
    "    - Attributes/Properties: Just like a car has properties such as color, make, model, and fuel level, programming objects have attributes. These attributes store information about the object.\n",
    "\n",
    "    - Methods/Behaviors: Just as a car can perform actions like starting, stopping, accelerating, and turning, programming objects have methods. Methods are like functions that belong to the object and define what it can do.\n",
    "\n",
    "- Examples:\n",
    "    - MacBook and your laptop: think about your laptop, it is made up of a bunch of parts (CPU, screen, keyboard, ...) and sometimes you need to think about the parts (e.g. if the screen gets cracked) but often you just think about your laptop. Everytime you use your laptop, you do not have to think about and understand all the parts and how they relate to each other - you just use your laptop!\n",
    "    - Car and my_car: a blueprint of the car and a specific object following the bluepring (example above). \n",
    "    - thinks about `Turtle`s. We've been dealing with them since the beginning of the semester. How do you think about a turtle? Likely, you think about it as a thing that you give instructions to (e.g., `forward(10)`). You do not know what is inside but you are abel to use the `Turtle` object to do things.\n"
   ]
  },
  {
   "cell_type": "markdown",
   "metadata": {},
   "source": [
    "### What's a Method?\n",
    "A method is a special type of function that is associated with a particular type of object. The basic way to think of a method is something that an object can do (or something you can ask an object to do). \n",
    "\n",
    "Calling methods is similar to calling functions with one minor difference. Since methods are applied to objects, we need to provide the variable name with a “.” before the method name.\n",
    "\n",
    "    function_name(arguments)\n",
    "    variable_name.method_name(arguments)"
   ]
  },
  {
   "cell_type": "code",
   "execution_count": null,
   "metadata": {},
   "outputs": [],
   "source": [
    "# Creating an object of the Car class\n",
    "my_car = Car(\"black\", \"audi\", \"e-tron\")\n",
    "my_car.describe()"
   ]
  },
  {
   "cell_type": "markdown",
   "metadata": {},
   "source": [
    "### Turtles Examples\n",
    "\n",
    "You’ve seen the turtle object in lab. We’ll use it to illustrate some methods. "
   ]
  },
  {
   "cell_type": "code",
   "execution_count": null,
   "metadata": {
    "scrolled": true
   },
   "outputs": [],
   "source": [
    "import turtle\n",
    "shelldon = turtle.Turtle()\n",
    "\n",
    "shelldon.forward(50)\n",
    "shelldon.left(90)\n",
    "shelldon.forward(50)\n",
    "shelldon.left(90)\n",
    "shelldon.forward(50)\n",
    "shelldon.left(90)\n",
    "shelldon.forward(50)\n",
    "shelldon.left(90)\n",
    "\n",
    "turtle.done()\n"
   ]
  },
  {
   "cell_type": "markdown",
   "metadata": {},
   "source": [
    "Here's a nice example."
   ]
  },
  {
   "cell_type": "code",
   "execution_count": 1,
   "metadata": {},
   "outputs": [
    {
     "ename": "ModuleNotFoundError",
     "evalue": "No module named 'tkinter'",
     "output_type": "error",
     "traceback": [
      "\u001b[0;31m---------------------------------------------------------------------------\u001b[0m",
      "\u001b[0;31mModuleNotFoundError\u001b[0m                       Traceback (most recent call last)",
      "Cell \u001b[0;32mIn[1], line 1\u001b[0m\n\u001b[0;32m----> 1\u001b[0m \u001b[38;5;28;01mimport\u001b[39;00m\u001b[38;5;250m \u001b[39m\u001b[38;5;21;01mturtle\u001b[39;00m\n\u001b[1;32m      3\u001b[0m shelldon \u001b[38;5;241m=\u001b[39m turtle\u001b[38;5;241m.\u001b[39mTurtle()\n\u001b[1;32m      4\u001b[0m shelldon\u001b[38;5;241m.\u001b[39mcolor(\u001b[38;5;124m'\u001b[39m\u001b[38;5;124mred\u001b[39m\u001b[38;5;124m'\u001b[39m)\n",
      "File \u001b[0;32m/usr/lib/python3.10/turtle.py:107\u001b[0m\n\u001b[1;32m    103\u001b[0m _ver \u001b[38;5;241m=\u001b[39m \u001b[38;5;124m\"\u001b[39m\u001b[38;5;124mturtle 1.1b- - for Python 3.1   -  4. 5. 2009\u001b[39m\u001b[38;5;124m\"\u001b[39m\n\u001b[1;32m    105\u001b[0m \u001b[38;5;66;03m# print(_ver)\u001b[39;00m\n\u001b[0;32m--> 107\u001b[0m \u001b[38;5;28;01mimport\u001b[39;00m\u001b[38;5;250m \u001b[39m\u001b[38;5;21;01mtkinter\u001b[39;00m\u001b[38;5;250m \u001b[39m\u001b[38;5;28;01mas\u001b[39;00m\u001b[38;5;250m \u001b[39m\u001b[38;5;21;01mTK\u001b[39;00m\n\u001b[1;32m    108\u001b[0m \u001b[38;5;28;01mimport\u001b[39;00m\u001b[38;5;250m \u001b[39m\u001b[38;5;21;01mtypes\u001b[39;00m\n\u001b[1;32m    109\u001b[0m \u001b[38;5;28;01mimport\u001b[39;00m\u001b[38;5;250m \u001b[39m\u001b[38;5;21;01mmath\u001b[39;00m\n",
      "\u001b[0;31mModuleNotFoundError\u001b[0m: No module named 'tkinter'"
     ]
    }
   ],
   "source": [
    "import turtle\n",
    "\n",
    "shelldon = turtle.Turtle()\n",
    "shelldon.color('red')\n",
    "shelldon.speed(10)\n",
    "shelldon.begin_fill()\n",
    "back_to_beginning = False\n",
    "while not back_to_beginning:\n",
    "    shelldon.forward(200)\n",
    "    shelldon.left(170)\n",
    "    back_to_beginning = (abs(shelldon.pos()) < 1)\n",
    "    \n",
    "shelldon.end_fill()\n",
    "shelldon.hideturtle()\n",
    "turtle.done()\n"
   ]
  },
  {
   "cell_type": "markdown",
   "metadata": {},
   "source": [
    "## `dir` function: list of methods and attributes:\n",
    "To get a list of methods and attributes of an object in Python, you can use the built-in `dir()` function. The `dir()` function returns a list of valid attributes for the object. If the object has methods, these will be included in the list along with the object's other attributes."
   ]
  },
  {
   "cell_type": "code",
   "execution_count": null,
   "metadata": {},
   "outputs": [],
   "source": [
    "# list attributes of int class/object\n"
   ]
  },
  {
   "cell_type": "code",
   "execution_count": null,
   "metadata": {},
   "outputs": [],
   "source": [
    "# list attributes of car class/object\n"
   ]
  },
  {
   "cell_type": "markdown",
   "metadata": {},
   "source": [
    "## Strings\n",
    "\n",
    "The `str` type was introduced way back in Week 1. \n",
    "\n",
    "Strings are objects and so we are going to get into talking about string methods. However, first let's get into some of the more advanced concepts of strings, namely: formatting, operators, conversion, and indexing.\n",
    "\n",
    "### Escape Sequences\n",
    "What if you wanted to `str` variables to be equal to `'Don't forget to buy milk'`?"
   ]
  },
  {
   "cell_type": "code",
   "execution_count": null,
   "metadata": {},
   "outputs": [],
   "source": [
    "my_str = 'Don't forget to buy milk'"
   ]
  },
  {
   "cell_type": "markdown",
   "metadata": {},
   "source": [
    "What is the problem here?\n",
    "\n",
    "One way to get around the problem is to use double-quotes."
   ]
  },
  {
   "cell_type": "code",
   "execution_count": null,
   "metadata": {},
   "outputs": [],
   "source": []
  },
  {
   "cell_type": "markdown",
   "metadata": {},
   "source": [
    "OK, but what about: \"Don't forget to buy the milk,\" he screamed - including the quotes and apostrophe?"
   ]
  },
  {
   "cell_type": "markdown",
   "metadata": {},
   "source": [
    "You can include a special character (like ' or \") by using the _escape character_: `\\`. Using `\\` means \"consider the next character as part of the string, not a special character.\""
   ]
  },
  {
   "cell_type": "code",
   "execution_count": null,
   "metadata": {},
   "outputs": [],
   "source": []
  },
  {
   "cell_type": "markdown",
   "metadata": {},
   "source": [
    "The `\\` character and the character that follows are called an _escape sequence_. \n",
    "- '\\t' corresponds to a tab character\n",
    "- '\\n' corresponds to a newline character\n",
    "\n",
    "See your text [Sect 2.11](https://learn.zybooks.com/zybook/UTORONTOAPS106Winter2024/chapter/2/section/11)"
   ]
  },
  {
   "cell_type": "code",
   "execution_count": null,
   "metadata": {},
   "outputs": [],
   "source": [
    "my_str = \"Hello!\\nHow are you?\"\n",
    "print(my_str)"
   ]
  },
  {
   "cell_type": "markdown",
   "metadata": {},
   "source": [
    "### String Operators\n",
    "Just like numbers strings have \"operators\" like +, *, etc."
   ]
  },
  {
   "cell_type": "markdown",
   "metadata": {},
   "source": [
    " | Expression | Description |\n",
    " |------------|-------------|\n",
    " |st1 + str2  |concatenate str1 and str2           |\n",
    " |str1 * int1 |concatenate int1 copies of str1     |\n",
    " |int1 * str1 |concatenate int1 copies of str1     |\n",
    " \n",
    " \"concatenate\" means to put things together in a sequence.\n",
    " \n",
    " What about other operators: -, \\\\? They're not defined."
   ]
  },
  {
   "cell_type": "code",
   "execution_count": null,
   "metadata": {},
   "outputs": [],
   "source": []
  },
  {
   "cell_type": "code",
   "execution_count": null,
   "metadata": {},
   "outputs": [],
   "source": []
  },
  {
   "cell_type": "code",
   "execution_count": null,
   "metadata": {},
   "outputs": [],
   "source": []
  },
  {
   "cell_type": "code",
   "execution_count": null,
   "metadata": {
    "scrolled": true
   },
   "outputs": [],
   "source": []
  },
  {
   "cell_type": "markdown",
   "metadata": {},
   "source": [
    "**Challenge:  Write a code to create a string the repeats “Happy Birthday [NAME]” as many times as the age of the person?**"
   ]
  },
  {
   "cell_type": "code",
   "execution_count": null,
   "metadata": {},
   "outputs": [],
   "source": [
    "# a code using while loop\n",
    "name = input(\"what is your name?\")\n",
    "age = input(\"How old are you?\")\n",
    "age = int(age)\n",
    "my_str = \"Happy Birthday \" + name\n",
    "while age > 1:\n",
    "    my_str = my_str + \" - Happy Birthday \" + name\n",
    "    age -=1\n",
    "print(my_str)"
   ]
  },
  {
   "cell_type": "code",
   "execution_count": null,
   "metadata": {},
   "outputs": [],
   "source": [
    "# using str operators\n",
    "name = input(\"what is your name?\")\n",
    "age = input(\"How old are you?\")\n",
    "message = \"Happy Birthday \" + name\n",
    "n_times_message = message * int(age)\n",
    "print(n_times_message)"
   ]
  },
  {
   "cell_type": "markdown",
   "metadata": {},
   "source": [
    "### Triple-quoted Strings\n",
    "\n",
    "We've seen single- and double-quotes, why not triple? We've seen these already in docstrings but, in fact, triple quotes can be used in normal string constants too.\n",
    "\n",
    "Triple-quoted strings can span multiple lines."
   ]
  },
  {
   "cell_type": "code",
   "execution_count": null,
   "metadata": {},
   "outputs": [],
   "source": []
  },
  {
   "cell_type": "markdown",
   "metadata": {},
   "source": [
    "## Strings are Objects!"
   ]
  },
  {
   "cell_type": "code",
   "execution_count": null,
   "metadata": {
    "scrolled": true
   },
   "outputs": [],
   "source": [
    "my_str = \"Hello!\"\n",
    "isinstance(my_str, str)"
   ]
  },
  {
   "cell_type": "markdown",
   "metadata": {},
   "source": [
    "And strings have pre-defined methods."
   ]
  },
  {
   "cell_type": "code",
   "execution_count": null,
   "metadata": {},
   "outputs": [],
   "source": [
    "# lower method\n"
   ]
  },
  {
   "cell_type": "code",
   "execution_count": null,
   "metadata": {},
   "outputs": [],
   "source": [
    "# upper method"
   ]
  },
  {
   "cell_type": "code",
   "execution_count": null,
   "metadata": {},
   "outputs": [],
   "source": [
    "# get list of all methods and attributes `dir`:\n"
   ]
  },
  {
   "cell_type": "markdown",
   "metadata": {},
   "source": [
    "We'll see more of these methods in the next lecture.\n",
    "\n",
    "<div class=\"alert alert-block alert-info\">\n",
    "<big><b>This Lecture</b></big>\n",
    "<ul>  \n",
    " <li>objects and methods</li>  \n",
    " <li>strings: escape characters, operators, triple quotes</li>  \n",
    "    <li>strings are objects and have methods defined. View them via help(str).</li>\n",
    "</ul>  \n",
    "</div>"
   ]
  },
  {
   "cell_type": "code",
   "execution_count": null,
   "metadata": {},
   "outputs": [],
   "source": []
  }
 ],
 "metadata": {
  "kernelspec": {
   "display_name": "Python 3",
   "language": "python",
   "name": "python3"
  },
  "language_info": {
   "codemirror_mode": {
    "name": "ipython",
    "version": 3
   },
   "file_extension": ".py",
   "mimetype": "text/x-python",
   "name": "python",
   "nbconvert_exporter": "python",
   "pygments_lexer": "ipython3",
   "version": "3.10.12"
  }
 },
 "nbformat": 4,
 "nbformat_minor": 4
}
