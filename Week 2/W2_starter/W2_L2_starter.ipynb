{
 "cells": [
  {
   "cell_type": "markdown",
   "metadata": {
    "collapsed": true,
    "jupyter": {
     "outputs_hidden": true
    }
   },
   "source": [
    "# APS106 - Fundamentals of Computer Programming\n",
    "## Week 2 | Lecture 2 (2.2) - Writing Your Own Functions\n",
    "\n",
    "### Lecture Structure\n",
    "1. [Defining Your Own Functions](#section1)\n",
    "2. [Local Scope](#section2)\n",
    "3. [Global Scope](#section3)\n",
    "4. [Design Recipe](#section4)\n",
    "5. [Docstrings](#section5)\n",
    "6. [Breakout Session 1](#section6)\n",
    "7. [Nested Function Calls](#section7)\n",
    "8. [Calling Functions within Functions](#section8)\n",
    "9. [`print` v.s. `return`](#section9)"
   ]
  },
  {
   "cell_type": "markdown",
   "metadata": {},
   "source": [
    "<a id='section1'></a>\n",
    "## 1. Defining Your Own Functions\n",
    "\n",
    "#### So, why write a function?\n",
    "Imagine you need to repeatedly: \n",
    "1. take the absolute value of a number\n",
    "2. round-up\n",
    "3. divide by 2\n",
    "4. round down.\n",
    "\n",
    "You can do this using by chaining together functions."
   ]
  },
  {
   "cell_type": "code",
   "execution_count": null,
   "metadata": {},
   "outputs": [],
   "source": [
    "import math\n",
    "\n",
    "num = \n",
    "result = # write code here\n",
    "print(result)"
   ]
  },
  {
   "cell_type": "markdown",
   "metadata": {},
   "source": [
    "This is OK but the code is: \n",
    "- a bit complicated\n",
    "- it may take you too much time\n",
    "- introduce bugs\n",
    "especially if you repeat the code every time you need it. \n",
    "\n",
    "Since you've found multiple application for this transformation, you might want to create a function and give it a name. \n",
    "\n",
    "Recall the syntax for defining a function:\n",
    "\n",
    "![function](images/function_definition.jpg)\n",
    "\n",
    "The general form of a function definition is:\n",
    "\n",
    "```\n",
    "def function_name(parameters):\n",
    "    body\n",
    "```\n",
    "\n",
    "- `def` is a keyword, standing for \"definition\". All function definitions must begin with `def`. The `def` statement must end with a colon.\n",
    "- `function_name` is the name you will use to call the function (like `sin`, `abs` but you need to create your own name)\n",
    "- `parameters` are the variables that get values when you call the function. You can have 0 or more arguments, separated by commas. Must be in parenthesis.\n",
    "- `body` is a sequence of commands like we've already seen (assignment, multiplication, function calls).\n",
    "\n",
    "**Important: all the lines of `body` must be indented. That is how Python knows that they are part of the function.**\n",
    "\n"
   ]
  },
  {
   "cell_type": "markdown",
   "metadata": {},
   "source": [
    "I am going to call my function **`number_transformer`**, which takes the absolute value of a number, rounds-up, divides by 2, and returns integer."
   ]
  },
  {
   "cell_type": "code",
   "execution_count": null,
   "metadata": {},
   "outputs": [],
   "source": [
    "import math\n",
    "\n",
    "# number_transformer function here"
   ]
  },
  {
   "cell_type": "markdown",
   "metadata": {},
   "source": [
    "Running the code above is just defining the function, not calling it. \n",
    "\n",
    "Below is where we call it."
   ]
  },
  {
   "cell_type": "code",
   "execution_count": null,
   "metadata": {},
   "outputs": [],
   "source": [
    "num = -4.2\n",
    "result = number_transformer(num)\n",
    "print(result)"
   ]
  },
  {
   "cell_type": "markdown",
   "metadata": {},
   "source": [
    "<a id='section2'></a>\n",
    "## 2. Local Scope\n",
    "Let's write a simple function."
   ]
  },
  {
   "cell_type": "code",
   "execution_count": null,
   "metadata": {},
   "outputs": [],
   "source": [
    "def myfunc():\n",
    "    x = 300\n",
    "    print(x)"
   ]
  },
  {
   "cell_type": "markdown",
   "metadata": {},
   "source": [
    "Now, let's evaluate that function."
   ]
  },
  {
   "cell_type": "code",
   "execution_count": null,
   "metadata": {},
   "outputs": [],
   "source": [
    "myfunc()"
   ]
  },
  {
   "cell_type": "markdown",
   "metadata": {},
   "source": [
    "Next, let's see if we can print the value `x`."
   ]
  },
  {
   "cell_type": "code",
   "execution_count": null,
   "metadata": {},
   "outputs": [],
   "source": [
    "print(x)"
   ]
  },
  {
   "cell_type": "markdown",
   "metadata": {},
   "source": [
    "Notice how we cannot access `x` outside of the function. This is because `x` was defined in the local function scope and is not accessible outside the function in the global scope, which is where we executed `print(x)` from."
   ]
  },
  {
   "cell_type": "markdown",
   "metadata": {},
   "source": [
    "The same is true for functions. Any function defined inside of a function is not accessible outside of that function."
   ]
  },
  {
   "cell_type": "code",
   "execution_count": null,
   "metadata": {},
   "outputs": [],
   "source": [
    "def myfunc():\n",
    "    def myinnerfunc():\n",
    "        print(\"Hello from the nested function.\")\n",
    "    myinnerfunc()"
   ]
  },
  {
   "cell_type": "markdown",
   "metadata": {},
   "source": [
    "Let's call `myfunc`."
   ]
  },
  {
   "cell_type": "code",
   "execution_count": null,
   "metadata": {},
   "outputs": [],
   "source": [
    "myfunc()"
   ]
  },
  {
   "cell_type": "markdown",
   "metadata": {},
   "source": [
    "Now, let's call `myinnerfunc`."
   ]
  },
  {
   "cell_type": "code",
   "execution_count": null,
   "metadata": {},
   "outputs": [],
   "source": [
    "myinnerfunc() "
   ]
  },
  {
   "cell_type": "markdown",
   "metadata": {},
   "source": [
    "Notice how we cannot access `myinnerfunc` outside of the function."
   ]
  },
  {
   "cell_type": "markdown",
   "metadata": {},
   "source": [
    "<a id='section3'></a>\n",
    "## 3. Global Scope\n",
    "Let's write a simple function."
   ]
  },
  {
   "cell_type": "code",
   "execution_count": null,
   "metadata": {},
   "outputs": [],
   "source": [
    "def myfunc():\n",
    "    print(x)"
   ]
  },
  {
   "cell_type": "code",
   "execution_count": null,
   "metadata": {},
   "outputs": [],
   "source": [
    "x = 'hello world'\n",
    "myfunc()"
   ]
  },
  {
   "cell_type": "markdown",
   "metadata": {},
   "source": [
    "You'll notice that `x` is defined in the Global scope and therefore is accessible inside the function.\n",
    "\n",
    "Let's consider another function."
   ]
  },
  {
   "cell_type": "code",
   "execution_count": null,
   "metadata": {},
   "outputs": [],
   "source": [
    "def myfunc():\n",
    "    x = 200\n",
    "    print('x in function:', x)"
   ]
  },
  {
   "cell_type": "code",
   "execution_count": null,
   "metadata": {},
   "outputs": [],
   "source": [
    "x = 300\n",
    "print('x initially:', x)\n",
    "\n",
    "myfunc() \n",
    "\n",
    "print('x after functino call:', x)"
   ]
  },
  {
   "cell_type": "markdown",
   "metadata": {},
   "source": [
    "<a id='section4'></a>\n",
    "## 4. Design Recipe\n",
    "\n",
    "When designing a function you should consider six main steps in a function design recipe:\n",
    "\n",
    "### The Six Steps\n",
    "\n",
    "1. Examples\n",
    "    - What should your function do?\n",
    "    - Create a couple of example calls.\n",
    "    - Pick a meaningful name (often a verb or verb phrase): What is a short answer to \"What does your function do\"?\n",
    "2. Type Contract: define your arguments and their types (int, float, str, ...)\n",
    "    - What are the arguments types?\n",
    "    - What type of value is returned?\n",
    "3. Header: write the `def` line of your function\n",
    "    - Pick meaningful argument names. Don’t just use x or y – it is much easier to understand a function if the variables have names that reflect their meaning.\n",
    "4. Description\n",
    "    - Write a docstring describing of the function in the code. Mention every argument in your description. (Wait, what is a docstring? Stay tuned.)\n",
    "    - Describe the return value.\n",
    "1. Body\n",
    "    - Write the body of your function.\n",
    "6. Test\n",
    "    - Run the examples you designed in Step 1 to make sure they work as expected."
   ]
  },
  {
   "cell_type": "markdown",
   "metadata": {},
   "source": [
    "### Applying the Recipe to an Example\n",
    "\n",
    "The United States measures temperature in Fahrenheit and Canada (and the rest of the world) measures it in Celsius. I have a friend who lives in Boston and we are always talking about how cold it is there and how warm it is here. And so we keep needing to convert between the two temperature scales. \n",
    "\n",
    "\n",
    "Ok, let's try using the design recipe to write a function that converts from Fahrenheit to Celsius."
   ]
  },
  {
   "cell_type": "markdown",
   "metadata": {},
   "source": [
    "### 1. Examples\n",
    "What do you want your function calls to look like?\n",
    "\n",
    "```\n",
    "°C = (°F - 32) × 5/9\n",
    "```\n",
    "- celsius = fahrenheit_to_celsius(32) # celsius should be 0\n",
    "- celsius = fahrenheit_to_celsius(212) # celsius should be 100\n",
    "- celsius = fahrenheit_to_celsius(98.6) # celsius should be 37.0\n"
   ]
  },
  {
   "cell_type": "markdown",
   "metadata": {},
   "source": [
    "### 2. Type Contract\n",
    "Specify the type(s) of the arguments and the type of the return values.\n",
    "\n",
    "`(number) -> number`\n",
    "\n",
    "This syntax shows the type(s) of the argument(s) in parenthesis and the type of the return value after an arrow.\n",
    "\n",
    "Since your function can take (and return) both `int` and `float` we use `number` to indicate both."
   ]
  },
  {
   "cell_type": "code",
   "execution_count": null,
   "metadata": {},
   "outputs": [],
   "source": [
    "\"\"\"\n",
    "(number) -> number\n",
    "\"\"\""
   ]
  },
  {
   "cell_type": "markdown",
   "metadata": {},
   "source": [
    "### 3. Header\n",
    "Decide on the name of the function (you probably already did this in Step 1) and the name(s) of the arguments.\n",
    "\n",
    "`def fahrenheit_to_celsius(degrees_f):`\n",
    "\n",
    "If you are writing code, by this point, you have the following:"
   ]
  },
  {
   "cell_type": "code",
   "execution_count": null,
   "metadata": {},
   "outputs": [],
   "source": [
    "def fahrenheit_to_celsius(degrees_f):\n",
    "    \"\"\"\n",
    "    (number) -> number\n",
    "    \"\"\""
   ]
  },
  {
   "cell_type": "markdown",
   "metadata": {},
   "source": [
    "Hey, what are those triple quote marks?\n",
    "\n",
    "They are quote makes that allow you to have line-breaks: strings that span multiple lines. They are used in functions to specify **docstrings** - more on that below!\n",
    "\n",
    "### 4. Description\n",
    "Write a short description about what the function does.\n",
    "\n",
    "`Return the temperature in degrees Celsius corresponding to the degrees Fahrenheit passed in`"
   ]
  },
  {
   "cell_type": "code",
   "execution_count": null,
   "metadata": {},
   "outputs": [],
   "source": [
    "def fahrenheit_to_celsius(degrees_f):\n",
    "    \"\"\"\n",
    "    (number) -> number\n",
    "    Return the temperature in degrees Celsius corresponding to the degrees \n",
    "    Fahrenheit passed in.\n",
    "    \"\"\""
   ]
  },
  {
   "cell_type": "markdown",
   "metadata": {},
   "source": [
    "### 5. Write the Body\n",
    "Write the code that actually does the calculation that you want."
   ]
  },
  {
   "cell_type": "code",
   "execution_count": null,
   "metadata": {},
   "outputs": [],
   "source": [
    "def fahrenheit_to_celsius(degrees_f):\n",
    "    \"\"\"\n",
    "    (number) -> number\n",
    "    Return the temperature in degrees Celsius corresponding to the degrees \n",
    "    Fahrenheit passed in.\n",
    "    \"\"\"\n",
    "    degrees_c = (degrees_f - 32) * 5 / 9\n",
    "    return degrees_c"
   ]
  },
  {
   "cell_type": "markdown",
   "metadata": {},
   "source": [
    "### 6. Test\n",
    "Run all the examples that you created in Step 1. You might also want to create new examples to test the code."
   ]
  },
  {
   "cell_type": "code",
   "execution_count": null,
   "metadata": {},
   "outputs": [],
   "source": [
    "celsius = fahrenheit_to_celsius(32) # celsius should be 0\n",
    "print(celsius)\n",
    "celsius = fahrenheit_to_celsius(212) # celsius should be 100\n",
    "print(celsius)\n",
    "celsius = fahrenheit_to_celsius(98.6) # celsius should be 37.0\n",
    "print(celsius)"
   ]
  },
  {
   "cell_type": "markdown",
   "metadata": {},
   "source": [
    "<a id='section5'></a>\n",
    "## 5. Docstrings\n",
    "The `help` function actually prints out the `“docstring”` that we write as part of a function definition. \n",
    "\n",
    "For the function we just wrote, we could type:"
   ]
  },
  {
   "cell_type": "code",
   "execution_count": null,
   "metadata": {},
   "outputs": [],
   "source": [
    "help(fahrenheit_to_celsius)"
   ]
  },
  {
   "cell_type": "markdown",
   "metadata": {},
   "source": [
    "The `doctstring` is whatever you write between the triple quotes `\"\"\"(This is the docstring)\"\"\"`."
   ]
  },
  {
   "cell_type": "code",
   "execution_count": null,
   "metadata": {},
   "outputs": [],
   "source": [
    "def dummy():\n",
    "    \"\"\"\n",
    "    This is the docstring!\n",
    "    \"\"\"\n",
    "help(dummy)"
   ]
  },
  {
   "cell_type": "markdown",
   "metadata": {},
   "source": [
    "This can be very valuable:\n",
    "1. For other programmers to figure out what a function is supposed to do.\n",
    "1. For you in the future when you have forgotten what you wrote (this happens a lot!).\n",
    "\n",
    "You should write a docstring for every function."
   ]
  },
  {
   "cell_type": "markdown",
   "metadata": {},
   "source": [
    "<a id='section6'></a>\n",
    "## 6. Breakout Session 1\n",
    "### Write Your Own Function\n",
    "Following the Design Recipe, write a function to calculate the area of a triangle.\n",
    "\n",
    "<br>\n",
    "<img src=\"images/triangle.png\" alt=\"drawing\" width=\"400\"/>\n",
    "<br>\n",
    "\n",
    "**1. Examples**"
   ]
  },
  {
   "cell_type": "markdown",
   "metadata": {},
   "source": [
    "Write your example codes here\n",
    "\n"
   ]
  },
  {
   "cell_type": "markdown",
   "metadata": {},
   "source": [
    "**2. Type Contract**"
   ]
  },
  {
   "cell_type": "code",
   "execution_count": 1,
   "metadata": {},
   "outputs": [],
   "source": [
    "# Write your code here\n"
   ]
  },
  {
   "cell_type": "markdown",
   "metadata": {},
   "source": [
    "**3. Header**"
   ]
  },
  {
   "cell_type": "code",
   "execution_count": null,
   "metadata": {},
   "outputs": [],
   "source": [
    "# Write your code here\n",
    "# name, arguments, and header\n"
   ]
  },
  {
   "cell_type": "markdown",
   "metadata": {},
   "source": [
    "**4. Description/Docstring**"
   ]
  },
  {
   "cell_type": "code",
   "execution_count": null,
   "metadata": {},
   "outputs": [],
   "source": [
    "# Write your code here\n",
    "def triangle_area(base, height):"
   ]
  },
  {
   "cell_type": "markdown",
   "metadata": {},
   "source": [
    "**5. Body**"
   ]
  },
  {
   "cell_type": "code",
   "execution_count": null,
   "metadata": {},
   "outputs": [],
   "source": [
    "# Write your code here"
   ]
  },
  {
   "cell_type": "markdown",
   "metadata": {},
   "source": [
    "**6. Test**"
   ]
  },
  {
   "cell_type": "code",
   "execution_count": null,
   "metadata": {},
   "outputs": [],
   "source": [
    "# Write your code here\n",
    "area = triangle_area(3.8, 7.0)\n",
    "print(area) # should be 13.3\n",
    "\n",
    "area = triangle_area(1.8, 0.3)\n",
    "print(area) # should be 0.27"
   ]
  },
  {
   "cell_type": "markdown",
   "metadata": {},
   "source": [
    "<a id='section7'></a>\n",
    "## 7. Nested Function Calls\n",
    "Because the arguments of a function call are expressions, they have to be evaluated. \n",
    "\n",
    "When you evaluate a function call, `Python` calls the function and gives it the return value.\n",
    "\n",
    "So it is perfectly normal to do something like this:"
   ]
  },
  {
   "cell_type": "code",
   "execution_count": null,
   "metadata": {},
   "outputs": [],
   "source": [
    "print(3 + 7 + abs(-5))"
   ]
  },
  {
   "cell_type": "markdown",
   "metadata": {},
   "source": [
    "Before `print` is called, its argument(s) are evaluated. \n",
    "\n",
    "Here there is one argument and the evaluation adds 3 to 7 to the return value of the `abs(-5)` function call. So it is 10+5 = 15. \n",
    "\n",
    "The value 15 is then passed to print and it gets printed.\n",
    "\n",
    "These are called **`nested function calls`** because one function call (e.g., to `abs()`) \"nests\" inside another (the call to `print()`).\n",
    "\n",
    "You can also do stuff like:"
   ]
  },
  {
   "cell_type": "code",
   "execution_count": null,
   "metadata": {},
   "outputs": [],
   "source": [
    "bigger_area = max(triangle_area(3.8, 7.0), triangle_area(3.5, 6.8))\n",
    "print(bigger_area)"
   ]
  },
  {
   "cell_type": "markdown",
   "metadata": {},
   "source": [
    "<a id='section8'></a>\n",
    "## 8. Calling Functions within Functions\n",
    "The code in the body of a function is just code and can do everything that code outside a function can do. \n",
    "\n",
    "In particular, it can call other functions!\n",
    "\n",
    "For example, we already wrote a function to convert Fahrenheit to Celsius. \n",
    "\n",
    "What about a function to convert Fahrenheit to Kelvin? "
   ]
  },
  {
   "cell_type": "code",
   "execution_count": null,
   "metadata": {},
   "outputs": [],
   "source": [
    "def fahrenheit_to_kelvin(degrees_f):\n",
    "    \"\"\"\n",
    "    (number) -> number\n",
    "    Return the temperature in degrees Kelvin corresponding to the degrees \n",
    "    Fahrenheit passed in\n",
    "    \"\"\"\n",
    "    degrees_k = fahrenheit_to_celsius(degrees_f) + 273.15\n",
    "    return degrees_k    \n",
    "\n",
    "kelvin = fahrenheit_to_kelvin(32) # kelvin should be 273.15\n",
    "print(kelvin)\n",
    "kelvin = fahrenheit_to_kelvin(212) # kelvin should be 373.15\n",
    "print(kelvin)\n",
    "kelvin = fahrenheit_to_kelvin(98.6) # kelvin should be 310.15\n",
    "print(kelvin)"
   ]
  },
  {
   "cell_type": "markdown",
   "metadata": {},
   "source": [
    "Now, would you prefer what we wrote above or what we've written below?"
   ]
  },
  {
   "cell_type": "code",
   "execution_count": null,
   "metadata": {},
   "outputs": [],
   "source": [
    "def convert_to_kelvin(degrees_f):\n",
    "    \"\"\"\n",
    "    (number) -> number\n",
    "    Return the temperature in degrees Kelvin corresponding to the degrees \n",
    "    Fahrenheit passed in\n",
    "    \"\"\"\n",
    "    degrees_c = (degrees_f - 32) * 5 / 9\n",
    "    degrees_k = degrees_c + 273.15\n",
    "    return degrees_k "
   ]
  },
  {
   "cell_type": "code",
   "execution_count": null,
   "metadata": {},
   "outputs": [],
   "source": [
    "kelvin = convert_to_kelvin(32) # kelvin should be 273.15\n",
    "print(kelvin)\n",
    "kelvin = convert_to_kelvin(212) # kelvin should be 373.15\n",
    "print(kelvin)\n",
    "kelvin = convert_to_kelvin(98.6) # kelvin should be 310.15\n",
    "print(kelvin)"
   ]
  },
  {
   "cell_type": "markdown",
   "metadata": {},
   "source": [
    "We get the same answer, so both solutions are equally correct?\n",
    "\n",
    "**No!** This code `degrees_c = (degrees_f - 32) * 5 / 9` is redundant. \n",
    "\n",
    "We only ever want to have to write it once.\n",
    "\n",
    "`#cleancode`"
   ]
  },
  {
   "cell_type": "markdown",
   "metadata": {},
   "source": [
    "<a id='section9'></a>\n",
    "## 9. `print` v.s. `return`\n",
    "Let's investigate the differences between print and return in a function.\n",
    "\n",
    "The function below prints the variable `output` but does not return it. "
   ]
  },
  {
   "cell_type": "code",
   "execution_count": null,
   "metadata": {},
   "outputs": [],
   "source": [
    "def square(x):\n",
    "    output = x * x\n",
    "    print(output)"
   ]
  },
  {
   "cell_type": "markdown",
   "metadata": {},
   "source": [
    "When we call the function, it prints the integer `4` but does not return it."
   ]
  },
  {
   "cell_type": "code",
   "execution_count": null,
   "metadata": {},
   "outputs": [],
   "source": [
    "square(2)"
   ]
  },
  {
   "cell_type": "markdown",
   "metadata": {},
   "source": [
    "It may look like this function returns nothing but let's check."
   ]
  },
  {
   "cell_type": "code",
   "execution_count": null,
   "metadata": {},
   "outputs": [],
   "source": [
    "num = square(2)"
   ]
  },
  {
   "cell_type": "code",
   "execution_count": null,
   "metadata": {},
   "outputs": [],
   "source": [
    "print(num)"
   ]
  },
  {
   "cell_type": "markdown",
   "metadata": {},
   "source": [
    "This means that if we don't add a `return` statement, Python will add one for us and return `None`.\n",
    "\n",
    "If we rewrite the function and return the variable `output` instead of printing it, we get the following."
   ]
  },
  {
   "cell_type": "code",
   "execution_count": null,
   "metadata": {},
   "outputs": [],
   "source": [
    "def square(x):\n",
    "    output = x * x\n",
    "    return output"
   ]
  },
  {
   "cell_type": "markdown",
   "metadata": {},
   "source": [
    "You can see the output looks slightly different. The integer `4` gets displayed but Jupyter shows a red `Out[ ]` display to the left of the output."
   ]
  },
  {
   "cell_type": "code",
   "execution_count": null,
   "metadata": {},
   "outputs": [],
   "source": [
    "square(2)"
   ]
  },
  {
   "cell_type": "markdown",
   "metadata": {},
   "source": [
    "More importantly, we are able to capture the value that is returned by the function and assign it to a variable called `num`. This let's us use the output in some way elsewhere in out code. But, when we print the output, we cannot capture that information and use it elsewhere."
   ]
  },
  {
   "cell_type": "code",
   "execution_count": null,
   "metadata": {},
   "outputs": [],
   "source": [
    "num = square(2)\n",
    "print(num)"
   ]
  },
  {
   "cell_type": "markdown",
   "metadata": {},
   "source": [
    "For example, let's say I want to use the square function below to square a number and then in the next line of code, I want to divide that number by 10."
   ]
  },
  {
   "cell_type": "code",
   "execution_count": null,
   "metadata": {},
   "outputs": [],
   "source": [
    "def square(x):\n",
    "    output = x * x\n",
    "    print(output)"
   ]
  },
  {
   "cell_type": "code",
   "execution_count": null,
   "metadata": {},
   "outputs": [],
   "source": [
    "num = square(2)"
   ]
  },
  {
   "cell_type": "code",
   "execution_count": null,
   "metadata": {},
   "outputs": [],
   "source": [
    "answer = num / 10 "
   ]
  },
  {
   "cell_type": "code",
   "execution_count": null,
   "metadata": {},
   "outputs": [],
   "source": [
    "num"
   ]
  },
  {
   "cell_type": "markdown",
   "metadata": {},
   "source": [
    "I didn't include a return statement so Python returned `None` for me, which we cannot divide by 10.\n",
    "\n",
    "Below is how to do this correctly."
   ]
  },
  {
   "cell_type": "code",
   "execution_count": null,
   "metadata": {},
   "outputs": [],
   "source": [
    "def square(x):\n",
    "    output = x * x\n",
    "    return output"
   ]
  },
  {
   "cell_type": "code",
   "execution_count": null,
   "metadata": {},
   "outputs": [],
   "source": [
    "num = square(2)"
   ]
  },
  {
   "cell_type": "code",
   "execution_count": null,
   "metadata": {},
   "outputs": [],
   "source": [
    "answer = num / 10 \n",
    "print(answer)"
   ]
  },
  {
   "cell_type": "markdown",
   "metadata": {},
   "source": [
    "Return can also be used to end a function before all the body code has been run."
   ]
  },
  {
   "cell_type": "code",
   "execution_count": null,
   "metadata": {},
   "outputs": [],
   "source": [
    "def square(x):\n",
    "    output = x * x\n",
    "    return output\n",
    "    print('output is equal to:', output)"
   ]
  },
  {
   "cell_type": "code",
   "execution_count": null,
   "metadata": {},
   "outputs": [],
   "source": [
    "num = square(x)"
   ]
  },
  {
   "cell_type": "code",
   "execution_count": null,
   "metadata": {},
   "outputs": [],
   "source": []
  }
 ],
 "metadata": {
  "kernelspec": {
   "display_name": "Python 3 (ipykernel)",
   "language": "python",
   "name": "python3"
  },
  "language_info": {
   "codemirror_mode": {
    "name": "ipython",
    "version": 3
   },
   "file_extension": ".py",
   "mimetype": "text/x-python",
   "name": "python",
   "nbconvert_exporter": "python",
   "pygments_lexer": "ipython3",
   "version": "3.9.18"
  }
 },
 "nbformat": 4,
 "nbformat_minor": 4
}
