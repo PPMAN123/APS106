{
 "cells": [
  {
   "cell_type": "markdown",
   "metadata": {
    "collapsed": true,
    "jupyter": {
     "outputs_hidden": true
    }
   },
   "source": [
    "## Lectures This Week\n",
    "\n",
    "\n",
    "| Lecture | Topics | Reading |\n",
    "| --- | --- | --- | \n",
    "| 2.1 | functions, input & output, importing modules | [Sect 1.8](https://learn.zybooks.com/zybook/UTORONTOAPS106Winter2024/chapter/1/section/8), [Sect 2.8-2.9](https://learn.zybooks.com/zybook/UTORONTOAPS106Winter2024/chapter/2/section/8), [Sect 3.1-3.4](https://learn.zybooks.com/zybook/UTORONTOAPS106Winter2024/chapter/3/section/1)|\n",
    "| 2.2 | defining your own functions | [Sect 3.1-3.12](https://learn.zybooks.com/zybook/UTORONTOAPS106Winter2024/chapter/3/section/1)  |\n",
    "| 2.3 | engineering design: forward kinematics | |  "
   ]
  },
  {
   "cell_type": "markdown",
   "metadata": {},
   "source": [
    "<a id='section1'></a>\n",
    "\n",
    "## Functions\n",
    "A function is a small piece of code that you can \"call\" repeatedly to do one thing. \n",
    "\n",
    "\n",
    "## 1. Why do we write functions?\n",
    "\n",
    "\n",
    "Think about the `sin` key on your calculator. It takes in an angle and using some series of commands, calculates the sine of the angle. There is some algorithm in your calculator (and in Python) that does the calculation for you (See [here](https://www.homeschoolmath.net/teaching/sine_calculator.php) for one possibility.) \n",
    "\n",
    "Let's imagine that the algorithm takes 10 lines of code. It would be painful and inefficient if you had to write the exact same 10 lines of code everytime you wanted to calculate sine."
   ]
  },
  {
   "cell_type": "markdown",
   "metadata": {},
   "source": [
    "```python\n",
    "# Note: this code won't run as it is just a sketch of what you would need to do\n",
    "# without functions\n",
    "\n",
    "angle1 = 1.57 # radians\n",
    "# 10 lines to calculate sin\n",
    "# sin_angle1 = <something>\n",
    "\n",
    "angle2 = 3.14 # radians\n",
    "# 10 lines to calculate sin\n",
    "# sin_angle2 = <something>\n",
    "\n",
    "result = sin_angle1 + sin_angle2\n",
    "print(result)\n",
    "```"
   ]
  },
  {
   "cell_type": "markdown",
   "metadata": {},
   "source": [
    "Does anyone actually know how to calculate sine? This is what the code above would look like if I actually incerted code to compute the sine of an angle."
   ]
  },
  {
   "cell_type": "code",
   "execution_count": null,
   "metadata": {},
   "outputs": [],
   "source": [
    "# The first angle\n",
    "angle1 = 1.57 # radians \n",
    "\n",
    "\"\"\"\n",
    "Code to compute sine (start)\n",
    "\"\"\"\n",
    "multiplier = -1.0\n",
    "sin_angle1 = angle1\n",
    "n = 21\n",
    "factorials = []\n",
    "memoized_to = n\n",
    "prev = 1\n",
    "factorials.append(1)\n",
    "\n",
    "for i in range(1, n + 1):\n",
    "    factorials.append(i * prev)\n",
    "    prev = factorials[i]\n",
    "\n",
    "for currentdegree in range(3, (n + 1), 2):\n",
    "\n",
    "    sin_angle1 += ( (angle1 ** currentdegree) / factorials[currentdegree] * multiplier )\n",
    "\n",
    "    multiplier *= -1\n",
    "\"\"\"\n",
    "Code to compute sine (end)\n",
    "\"\"\"\n",
    "\n",
    "# The second angle\n",
    "angle2 = 3.14 # radians\n",
    "\n",
    "\"\"\"\n",
    "Code to compute sine (start)\n",
    "\"\"\"\n",
    "multiplier = -1.0\n",
    "sin_angle2 = angle2\n",
    "n = 16\n",
    "factorials = []\n",
    "memoized_to = n\n",
    "prev = 1\n",
    "factorials.append(1)\n",
    "\n",
    "for i in range(1, n + 1):\n",
    "    factorials.append(i * prev)\n",
    "    prev = factorials[i]\n",
    "\n",
    "for currentdegree in range(3, (n + 1), 2):\n",
    "\n",
    "    sin_angle2 += ( (angle2 ** currentdegree) / factorials[currentdegree] * multiplier )\n",
    "\n",
    "    multiplier *= -1  \n",
    "\"\"\"\n",
    "Code to compute sine (end)\n",
    "\"\"\"\n",
    "\n",
    "# Let's add the two sines\n",
    "result = sin_angle1 + sin_angle2\n",
    "\n",
    "# And print the results\n",
    "print('{:.4f}'.format(result))"
   ]
  },
  {
   "cell_type": "markdown",
   "metadata": {},
   "source": [
    "This is code hurts my head just looking at it. Instead, you could create (or, in fact, someone else has already created) a function called `sin` that you can \"call\" (i.e., execute the code) whenever you want to calculate the sine of an angle.\n",
    "\n",
    "And so you can write code like this (_you might not understand everything in this code until the end of this lecture, that is intended_):"
   ]
  },
  {
   "cell_type": "code",
   "execution_count": null,
   "metadata": {},
   "outputs": [],
   "source": [
    "# import math and use sine function to compute sine of two angles and add them up!\n",
    "import math\n",
    "\n",
    "angle1 = 1.57 \n",
    "angle2 = 3.14 \n",
    "\n",
    "result = math.sin(angle1) + math.sin(angle2)\n",
    "\n",
    "print('{:.4f}'.format(result))"
   ]
  },
  {
   "cell_type": "markdown",
   "metadata": {},
   "source": [
    "You'll also notice that the above code calls the function `sin()` twice in the same expression! (As well as the the `+` operator.)"
   ]
  },
  {
   "attachments": {},
   "cell_type": "markdown",
   "metadata": {},
   "source": [
    "Why functions?\n",
    "\n",
    "1. **Reuse:** The practice of using the same piece of code in multiple applications.\n",
    "2. **Abstraction** Protecting user from dealing with complex code\n",
    "    * ```model.fit(X,y)``` this code can train a neural network\n",
    "    * ```math.sin(x)``` this code returns the sine of an angle\n",
    "3. **Collaboration**: Easy to read, modify, share, and maintain.  \n",
    "\n"
   ]
  },
  {
   "cell_type": "markdown",
   "metadata": {},
   "source": [
    "<a id='section2'></a>\n",
    "## 2. Function Call\n",
    "\n",
    "Similar to the usual mathematical definition of a function (e.g,. y = f(x) will evaluate to a y-value for each x value you give it), to use a function you need to \"call\" it. The general form of a function call is:\n",
    "\n",
    "```\n",
    "function_name(arguments)\n",
    "```\n",
    "\n",
    "The **function_name** is the name of the function (like `sin` or `print`). The **arguments** are values that you pass into a function. It wouldn't be very useful to have a separate function to calculate the sine of every angle. So what you do is \"pass in\" the value of the angle that you want the sine of. \n",
    "\n",
    "A function then executes its code and **returns** the result of its computations.\n",
    "\n",
    "#### Terminology\n",
    "- argument: a value given to a function\n",
    "- pass: to provide an argument to a function\n",
    "- call: ask Python to execute a function (by name)\n",
    "- return: give a value back to where the function was called from"
   ]
  },
  {
   "cell_type": "markdown",
   "metadata": {},
   "source": [
    "#### Examples\n",
    "We want to compute absolute value of -20.\n",
    "`abs()` will be the **`function`** we are **`calling`** and `-20` is the **`argument`** that we're passing to the function."
   ]
  },
  {
   "cell_type": "code",
   "execution_count": null,
   "metadata": {},
   "outputs": [],
   "source": [
    "x = abs(-20)\n"
   ]
  },
  {
   "cell_type": "markdown",
   "metadata": {},
   "source": [
    "And, `20` is what the function **`returns`**.\n",
    "\n",
    "In the example below, you can see we're using two functions calls in the same line of code."
   ]
  },
  {
   "cell_type": "code",
   "execution_count": null,
   "metadata": {},
   "outputs": [],
   "source": [
    "y = abs(-20) + abs(-3)\n",
    "print(y)"
   ]
  },
  {
   "cell_type": "markdown",
   "metadata": {},
   "source": [
    "Both `print()` and `abs()` are built-in function in Python."
   ]
  },
  {
   "cell_type": "markdown",
   "metadata": {},
   "source": [
    "<a id='section3'></a>\n",
    "## 3. Back to Evaluation and Expressions\n",
    "Last week we talked about the assignment statement (=) and about how it is evaluated. Recall that the value of the expression on the right-hand side of the = sign is figured out and then assigned to the variable on the left-hand side.\n",
    "\n",
    "So now, we have the thing on the right-hand side (RHS) containing function calls!\n",
    "\n",
    "Let's take the simpler case first."
   ]
  },
  {
   "cell_type": "code",
   "execution_count": null,
   "metadata": {},
   "outputs": [],
   "source": [
    "# assign absolute value of a negative number to variable x and print it\n",
    "x = abs(-20)\n",
    "print(x)"
   ]
  },
  {
   "cell_type": "markdown",
   "metadata": {},
   "source": [
    "The thing on the RHS of the `=` sign is the name of a function and so this is a function call. Just like with expressions we've already seen, the function is evaluated, which means it is called and returns a value. This value is then assigned to the variable `x`."
   ]
  },
  {
   "cell_type": "markdown",
   "metadata": {},
   "source": [
    "Let's make it a bit more complicated."
   ]
  },
  {
   "cell_type": "code",
   "execution_count": null,
   "metadata": {},
   "outputs": [],
   "source": [
    "# assign a value to a variable (e.g., -20 --> y), then pass it as an\n",
    "# argument to the abs() function.\n",
    "# print the output\n",
    "y = -20\n",
    "x = abs(y)\n",
    "print(x)"
   ]
  },
  {
   "cell_type": "markdown",
   "metadata": {},
   "source": [
    "Now the argument of the function call is not a constant (`-20`) but rather a variable (`y`). The rules for function calls are that each argument needs to be evaluated and then the function is called. \n",
    "\n",
    "1. `y` gets evaluated to its value (-20) \n",
    "2. -20 is passed to the function\n",
    "3. The function is evaluated and returns 20\n",
    "4. 20 is assignned to the variable `x`"
   ]
  },
  {
   "cell_type": "markdown",
   "metadata": {},
   "source": [
    "### Questions so far?"
   ]
  },
  {
   "cell_type": "markdown",
   "metadata": {},
   "source": [
    "How about this?"
   ]
  },
  {
   "cell_type": "code",
   "execution_count": null,
   "metadata": {},
   "outputs": [],
   "source": [
    "y = -20\n",
    "z = -5\n",
    "x = abs(y + z)\n",
    "print(x)"
   ]
  },
  {
   "cell_type": "markdown",
   "metadata": {},
   "source": [
    "The thing in the parenthesis is an expression! And so it can be evaluated following the normal rules. That means that:\n",
    "1. `y` is evalulated to -20\n",
    "2. `z` is evaluated to -5\n",
    "3. the `+` operator is evaluated with -20 and -5 to result in -25\n",
    "4. -25 is passed to the `abs` function\n",
    "5. 25 is returned from the `abs` function\n",
    "6. 25 is assigned to `x`"
   ]
  },
  {
   "cell_type": "markdown",
   "metadata": {},
   "source": [
    "<a id='section4'></a>\n",
    "## 4. Breakout Session 1\n",
    "Write the following expression in the cell below and use the built-in `print()` function to print the answer.\n",
    "\n",
    "**$x = \\frac{|y + z| + |y * z|}{y^\\alpha}$**\n",
    "\n",
    "where,\n",
    "- $y$ = -20\n",
    "- $z$ = -100\n",
    "- $\\alpha$ = 2"
   ]
  },
  {
   "cell_type": "code",
   "execution_count": null,
   "metadata": {},
   "outputs": [],
   "source": [
    "# fill in the code below\n",
    "\n",
    "# assign values to variables\n",
    "y = -20\n",
    "z = -100\n",
    "alpha = 2 # Note: Use descriptive names not 'a'.\n",
    "\n",
    "# break-down the solution into easily understandable pieces\n",
    "numerator = abs(y+z) + abs(y*z)\n",
    "denominator = y ** alpha\n",
    "x = numerator / denominator\n",
    "\n",
    "print(x)"
   ]
  },
  {
   "cell_type": "markdown",
   "metadata": {},
   "source": [
    "<a id='section5'></a>\n",
    "## 5. Built-in Functions"
   ]
  },
  {
   "cell_type": "markdown",
   "metadata": {},
   "source": [
    "Python has a number of built-in (i.e., already defined) functions. \n",
    "You can see a list by using the function `dir()`.\n",
    "And if you like to read about them, you can visit [this official documentation](https://docs.python.org/3/library/functions.html)  from python. \n",
    "\n",
    "##### `dir()`: returns list of the attributes and methods of any object. "
   ]
  },
  {
   "cell_type": "code",
   "execution_count": null,
   "metadata": {
    "scrolled": true
   },
   "outputs": [],
   "source": [
    "dir(__builtins__)"
   ]
  },
  {
   "cell_type": "markdown",
   "metadata": {},
   "source": [
    "![built-in functions in python](images/built-in_functions.jpg \"built-in functions in python\")"
   ]
  },
  {
   "cell_type": "markdown",
   "metadata": {},
   "source": [
    "Many of these will not make sense to you at this point - that is fine. \n",
    "\n",
    "Here are a few useful built-in functions.\n",
    "\n",
    "#### `pow()` raises a number to the power of another number"
   ]
  },
  {
   "cell_type": "code",
   "execution_count": null,
   "metadata": {},
   "outputs": [],
   "source": [
    "x = pow(2, 5)\n",
    "print(x)\n",
    "\n",
    "y = pow(x, 2)\n",
    "print(y)"
   ]
  },
  {
   "cell_type": "markdown",
   "metadata": {},
   "source": [
    "#### `int()` converts a number to an integer - throwing away everything after the decimal"
   ]
  },
  {
   "cell_type": "code",
   "execution_count": null,
   "metadata": {},
   "outputs": [],
   "source": [
    "z = int(4.2)\n",
    "print(z)\n",
    "\n",
    "w = int(3.999)\n",
    "print(w)\n",
    "\n",
    "y = int('2')\n",
    "print(y)"
   ]
  },
  {
   "cell_type": "markdown",
   "metadata": {},
   "source": [
    "Because,\n",
    "\n",
    "1. **arguments of functions are expressions** \n",
    "\n",
    "2. **function calls are just expressions**\n",
    "\n",
    "we can call functions with the output of other functions like this:"
   ]
  },
  {
   "cell_type": "code",
   "execution_count": null,
   "metadata": {},
   "outputs": [],
   "source": [
    "x = pow(2, 5)\n",
    "print(x)\n",
    "y = pow(int(2.3), abs(-5))\n",
    "print(y)"
   ]
  },
  {
   "cell_type": "markdown",
   "metadata": {},
   "source": [
    "Remember: before a function is called, its arguments must be all evaluated. \n",
    "\n",
    "And so what happens above?\n",
    "\n",
    "1. `int()` is called with the value 2.3 and returns 2\n",
    "2. `abs()` is called with the value -5 and returns -5\n",
    "3. `pow()` is called with the values 2 and 5 and returns 32"
   ]
  },
  {
   "cell_type": "markdown",
   "metadata": {},
   "source": [
    "So, `y = pow(int(2.3), abs(-5))` is the same as:"
   ]
  },
  {
   "cell_type": "code",
   "execution_count": null,
   "metadata": {},
   "outputs": [],
   "source": [
    "x = pow(2, 5)\n",
    "print(x)"
   ]
  },
  {
   "cell_type": "markdown",
   "metadata": {},
   "source": [
    "You can go even further with these expressions."
   ]
  },
  {
   "cell_type": "code",
   "execution_count": null,
   "metadata": {},
   "outputs": [],
   "source": [
    "x = pow(abs(int(-5.2)), abs(-2) + 12 - pow(3, 2))\n",
    "print(x)"
   ]
  },
  {
   "cell_type": "markdown",
   "metadata": {},
   "source": [
    "#### Important Note\n",
    "This isn't very good code because it is hard to understand. But it is legal! **Just because Python will let you do something doesn't mean its the best way to do it.**"
   ]
  },
  {
   "cell_type": "markdown",
   "metadata": {},
   "source": [
    "<a id='section6'></a>\n",
    "## 6. Function Help\n",
    "One very useful function is `help()` which gives you documentation on functions."
   ]
  },
  {
   "cell_type": "code",
   "execution_count": null,
   "metadata": {},
   "outputs": [],
   "source": [
    "help(abs)"
   ]
  },
  {
   "cell_type": "code",
   "execution_count": null,
   "metadata": {},
   "outputs": [],
   "source": [
    "help(pow)"
   ]
  },
  {
   "cell_type": "code",
   "execution_count": null,
   "metadata": {},
   "outputs": [],
   "source": [
    "help(help)"
   ]
  },
  {
   "cell_type": "markdown",
   "metadata": {},
   "source": [
    "Another alternative is to type **```SHIFT-TAB```** inside the function parentheses."
   ]
  },
  {
   "cell_type": "code",
   "execution_count": null,
   "metadata": {},
   "outputs": [],
   "source": [
    "pow()"
   ]
  },
  {
   "cell_type": "markdown",
   "metadata": {},
   "source": [
    "<a id='section7'></a>\n",
    "## 7. Ouput\n",
    "\n",
    "Last week we saw the `print` function. It's one of the built-in functions and so we can do things like this:"
   ]
  },
  {
   "cell_type": "code",
   "execution_count": null,
   "metadata": {},
   "outputs": [],
   "source": [
    "print(3 + 7 + abs(-5))"
   ]
  },
  {
   "cell_type": "markdown",
   "metadata": {},
   "source": [
    "`print()` can take more than one argument and its default behavior is to print each argument out, separated by a space."
   ]
  },
  {
   "cell_type": "code",
   "execution_count": null,
   "metadata": {},
   "outputs": [],
   "source": [
    "print(\"hello\", \"there\")"
   ]
  },
  {
   "cell_type": "code",
   "execution_count": null,
   "metadata": {},
   "outputs": [],
   "source": [
    "print(\"hello\", \"there\", \"how\", \"are\", 'you')"
   ]
  },
  {
   "cell_type": "markdown",
   "metadata": {},
   "source": [
    "We can mix different constant and variable types."
   ]
  },
  {
   "cell_type": "code",
   "execution_count": null,
   "metadata": {},
   "outputs": [],
   "source": [
    "name = 'Alex'\n",
    "age = 23\n",
    "print(\"Hello, my name is\", name, \"and I am age\", age, \"years old.\")"
   ]
  },
  {
   "cell_type": "markdown",
   "metadata": {},
   "source": [
    "<a id='section8'></a>\n",
    "## 8. Input\n",
    "It is also important to be able to input values to a program. Python does this via the `input()` function.\n",
    "\n",
    "The function `input()` is a built-in function that prompts the user to enter some input. The program waits for the user to enter the input (and press Enter), before continuing. **The value returned from this function is always a string.**\n",
    "\n",
    "For example:"
   ]
  },
  {
   "cell_type": "code",
   "execution_count": null,
   "metadata": {},
   "outputs": [],
   "source": [
    "name = input(\"What is your name? \")\n",
    "print(\"Hello \", name, \"!\")"
   ]
  },
  {
   "cell_type": "markdown",
   "metadata": {},
   "source": [
    "The value returned from `input` is **always** a string."
   ]
  },
  {
   "cell_type": "code",
   "execution_count": null,
   "metadata": {},
   "outputs": [],
   "source": [
    "number = input(\"Input a number \")\n",
    "number + 5"
   ]
  },
  {
   "cell_type": "code",
   "execution_count": null,
   "metadata": {},
   "outputs": [],
   "source": [
    "number = input(\"Input a number \")\n",
    "float(number) + 5"
   ]
  },
  {
   "cell_type": "markdown",
   "metadata": {},
   "source": [
    "<a id='section9'></a>\n",
    "## 9. Breakout Session 2\n",
    "Write code to print out the following text:\n",
    "\n",
    "```\"Hello, my name is {} and I'm hoping to get a grade of {} in APS106 this term.\"```\n",
    "\n",
    "Where you see curly brackets `{}` you need to use the `input` function to prompt the user to enter that information."
   ]
  },
  {
   "cell_type": "code",
   "execution_count": 2,
   "metadata": {},
   "outputs": [
    {
     "name": "stdout",
     "output_type": "stream",
     "text": [
      "\"Hello, my name is Ethan and I'm hoping to get a grade of 1000 in APS106 this term.\"\n"
     ]
    }
   ],
   "source": [
    "# write your code here\n",
    "# first, get the input from the user using input() and assign it to variable name\n",
    "name = input()\n",
    "\n",
    "# second, get the input from the user using input() and assign it to variable grade\n",
    "grade = input()\n",
    "\n",
    "# print the output\n",
    "print(\"\\\"Hello, my name is\", name, \"and I\\'m hoping to get a grade of\", grade, \"in APS106 this term.\\\"\")"
   ]
  },
  {
   "cell_type": "markdown",
   "metadata": {},
   "source": [
    "<a id='section10'></a>\n",
    "## 10. Importing Functions and Modules\n",
    "\n",
    "To get access to the function in other modules, you can `import` the module! \n",
    "For example, this code gets you access to the functions in the `math` module:"
   ]
  },
  {
   "cell_type": "code",
   "execution_count": null,
   "metadata": {},
   "outputs": [],
   "source": [
    "# get access to the functions in the math module\n",
    "import math"
   ]
  },
  {
   "cell_type": "markdown",
   "metadata": {},
   "source": [
    "Once you have imported the module, you can get a list of the function using the `help()` function."
   ]
  },
  {
   "cell_type": "code",
   "execution_count": null,
   "metadata": {},
   "outputs": [],
   "source": [
    "help(math)"
   ]
  },
  {
   "cell_type": "markdown",
   "metadata": {},
   "source": [
    "You can access the functions in a module by using the syntax:\n",
    "\n",
    "**`module_name.function_name(arguments)`**\n",
    "\n",
    "So for example:"
   ]
  },
  {
   "cell_type": "code",
   "execution_count": null,
   "metadata": {},
   "outputs": [],
   "source": [
    "print(math.sqrt(16))"
   ]
  },
  {
   "cell_type": "code",
   "execution_count": null,
   "metadata": {},
   "outputs": [],
   "source": [
    "degrees = 30 \n",
    "sin30 = math.sin(math.radians(degrees))\n",
    "print(sin30)"
   ]
  },
  {
   "cell_type": "markdown",
   "metadata": {},
   "source": [
    "Does the above look problematic to you? Is the sine of 90 degrees correct?\n",
    "\n",
    "Maybe you are confused about the function `math.sin()`."
   ]
  },
  {
   "cell_type": "code",
   "execution_count": null,
   "metadata": {},
   "outputs": [],
   "source": [
    "help(math.sin)"
   ]
  },
  {
   "cell_type": "markdown",
   "metadata": {},
   "source": [
    "Aha! The input angle should be in radians not degrees!"
   ]
  },
  {
   "cell_type": "code",
   "execution_count": null,
   "metadata": {},
   "outputs": [],
   "source": [
    "degrees = 30\n",
    "sin30 = math.sin(math.radians(degrees))\n",
    "print(sin30)"
   ]
  },
  {
   "cell_type": "markdown",
   "metadata": {},
   "source": [
    "<a id='section11'></a>\n",
    "## 11. Defining Your Own Functions\n",
    "\n",
    "The real power of functions is in defining your own. Good programs typically consist of many small functions that call each other. If you have a function that does only one thing (like calculate the sine of an angle), it is likely not too large: you can test it and make sure that it works without bugs. \n",
    "\n",
    "### Function Definitions\n",
    "\n",
    "![function](images/function_definition.jpg)\n",
    "\n",
    "The general form of a function definition is:\n",
    "\n",
    "```\n",
    "def function_name(parameters):\n",
    "    body\n",
    "```\n",
    "- `def` is a keyword, standing for \"definition\". All function definitions must begin with `def`. The `def` statement must end with a colon.\n",
    "- `function_name` is the name you will use to call the function (like `sin`, `abs` but you need to create your own name)\n",
    "- `parameters` are the variables that get values when you call the function. You can have 0 or more parameters, separated by commas. Must be in parenthesis.\n",
    "- `body` is a sequence of commands like we've already seen (assignment, multiplication, function calls).\n",
    "\n",
    "**Important: all the lines of `body` must be indented. That is how Python knows that they are part of the function.**\n",
    "\n",
    "\n",
    "For example:"
   ]
  },
  {
   "cell_type": "code",
   "execution_count": null,
   "metadata": {},
   "outputs": [],
   "source": [
    "def square(x):\n",
    "    return x*x"
   ]
  },
  {
   "cell_type": "code",
   "execution_count": null,
   "metadata": {},
   "outputs": [],
   "source": [
    "num = 4\n",
    "num_sq = square(num)\n",
    "print(\"square of\",num, \"is equal to\", num_sq)"
   ]
  },
  {
   "cell_type": "markdown",
   "metadata": {},
   "source": [
    "And let's try one more."
   ]
  },
  {
   "cell_type": "code",
   "execution_count": null,
   "metadata": {},
   "outputs": [],
   "source": [
    "print(square(8))"
   ]
  },
  {
   "cell_type": "markdown",
   "metadata": {},
   "source": [
    "In the code above, you'll note that the variable inside the function does not have to be the same name as the variable you pass in (e.g. `square(x)` and `square(num)`).\n",
    "\n",
    "In the code code below, you will notice that the variable inside the function does not conflict with variable names outside the function. Even if they have the same name, they are different variables.\n",
    "\n",
    "Remember our simple `square` function."
   ]
  },
  {
   "cell_type": "code",
   "execution_count": null,
   "metadata": {},
   "outputs": [],
   "source": [
    "def square(x):\n",
    "    return x*x"
   ]
  },
  {
   "cell_type": "markdown",
   "metadata": {},
   "source": [
    "In the code below, we have a variable `x` defined outside the function and a variable `x` in the function."
   ]
  },
  {
   "cell_type": "code",
   "execution_count": null,
   "metadata": {},
   "outputs": [],
   "source": [
    "x = 4\n",
    "num_sq = square(8)\n",
    "print(x, num_sq)"
   ]
  },
  {
   "cell_type": "markdown",
   "metadata": {},
   "source": [
    "Let's be a bit more explicit with this important concept."
   ]
  },
  {
   "cell_type": "code",
   "execution_count": null,
   "metadata": {},
   "outputs": [],
   "source": [
    "def square(x):\n",
    "    print(\"Inside function. x = \", x)\n",
    "    return x*x"
   ]
  },
  {
   "cell_type": "code",
   "execution_count": null,
   "metadata": {},
   "outputs": [],
   "source": [
    "x = 4\n",
    "print(\"Outside function. x = \", x)\n",
    "num_sq = square(8)\n",
    "print(\"Outside function. x = \", x)"
   ]
  },
  {
   "cell_type": "markdown",
   "metadata": {},
   "source": [
    "**The `x` variable inside the function and the `x` variable outside the function are completely independent!**\n",
    "\n",
    "You should think variables named in the arguments of a function or created inside the function as living **only** in side the function. \n",
    "\n",
    "The variable does not exist before the function is called. \n",
    "\n",
    "It is created when the function is called and it is destroyed with the function ends.\n",
    "\n",
    "<div class=\"alert alert-block alert-info\">\n",
    "<big><b>Where Are We Now</b></big>\n",
    "<ul>  \n",
    " <li>You can define your own functions!</li>  \n",
    " <li>The variables inside a function are independent of those outside</li>  \n",
    "</ul>  \n",
    "</div>\n",
    "\n",
    "More on function definition in the next lecture!\n",
    "\n",
    "<div class=\"alert alert-block alert-info\">\n",
    "<big><b>This Lecture</b></big>\n",
    "<ul>  \n",
    "    <li>Functions</li>\n",
    "    <li>Calling functions</li>\n",
    "    <li>Importing Modules</li>\n",
    "    <li>Writing your own functions</li>"
   ]
  },
  {
   "cell_type": "markdown",
   "metadata": {},
   "source": [
    "## **`Tip-for-Pros #cleancode`**\n",
    "\n",
    "- your function ideally should be  doing **only one thing**\n",
    "- Break down your function into smaller pieces: As a general rule, you should not write functions more than a 30 or 40 lines (and smaller is better: 10 or less is good). If you need something bigger, break it up into multiple functions. \\[Warning: you do not just want to randomly split up a large function into little bits. You want each bit to do some logical part of the overall function that you are trying to split up.\\]"
   ]
  },
  {
   "cell_type": "code",
   "execution_count": null,
   "metadata": {},
   "outputs": [],
   "source": []
  }
 ],
 "metadata": {
  "kernelspec": {
   "display_name": "Python 3",
   "language": "python",
   "name": "python3"
  },
  "language_info": {
   "codemirror_mode": {
    "name": "ipython",
    "version": 3
   },
   "file_extension": ".py",
   "mimetype": "text/x-python",
   "name": "python",
   "nbconvert_exporter": "python",
   "pygments_lexer": "ipython3",
   "version": "3.10.12"
  }
 },
 "nbformat": 4,
 "nbformat_minor": 4
}
