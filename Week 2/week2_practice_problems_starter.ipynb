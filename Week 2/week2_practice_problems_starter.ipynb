{
 "cells": [
  {
   "cell_type": "markdown",
   "id": "142df132",
   "metadata": {},
   "source": [
    "# Week 2 Practice Problems\n"
   ]
  },
  {
   "cell_type": "markdown",
   "id": "fdbb284e",
   "metadata": {},
   "source": [
    "## Question 1.\n",
    "\n",
    "Write a function that takes in a three-digit integer and returns the \"flipped\" version (that is, with its digits reversed). For example:\n",
    "```\n",
    "Enter a positive number less than 1000: 177\n",
    "That number flipped is 771\n",
    "```\n",
    "Your function should take the user-input integer as an argument and return the flipped integer. That means all your input and output with the user should be in your \"main\" code, not in the function.\n",
    "\n",
    "\n",
    "***Hint:***\n",
    "* Consider using the arithmetic operators `//` and `%` to solve this problem.\n",
    "* Make sure it works if the user enters a one- or two-digit integer. For example, 37 flipped is 730, and 8 flipped is 800.\n"
   ]
  },
  {
   "cell_type": "code",
   "execution_count": 13,
   "id": "08c527ee",
   "metadata": {},
   "outputs": [],
   "source": [
    "def flip_number(input_number):\n",
    "    # Remember to write the docstring here. Make it a habit so that you don't lose point in the upcoming exams.\n",
    "    # Write you code here\n",
    "    output = 0    \n",
    "    while input_number > 0:\n",
    "        output = output * 10 + input_number % 10\n",
    "        input_number = input_number // 10\n",
    "        \n",
    "\n",
    "    \n",
    "    return int(output)"
   ]
  },
  {
   "cell_type": "markdown",
   "id": "6b924077",
   "metadata": {},
   "source": [
    "Let's now test the function `flip_number` in the cell below. **Fill in any missing code, where applicable.**  \n",
    "\n",
    "***Note:*** Be careful of the variable type of the return from the `input` function."
   ]
  },
  {
   "cell_type": "code",
   "execution_count": 14,
   "id": "06aa440f",
   "metadata": {},
   "outputs": [
    {
     "name": "stdout",
     "output_type": "stream",
     "text": [
      "37\n"
     ]
    }
   ],
   "source": [
    "user_input = input(\"Enter a positive number less than 1000: \")\n",
    "result = flip_number(int(user_input))\n",
    "print(result)"
   ]
  },
  {
   "cell_type": "markdown",
   "id": "28da131d",
   "metadata": {},
   "source": [
    "---"
   ]
  },
  {
   "cell_type": "markdown",
   "id": "e539f2ab",
   "metadata": {},
   "source": [
    "#  Question 2\n",
    "\n",
    "Write a function that takes in a positive integer and prints the minimum number of quarters, dimes, nickels, and pennies needed to make up that amount.  \n",
    "For example:\n",
    "```\n",
    "Enter a number of cents: 67\n",
    "2 quarter(s), 1 dime(s), 1 nickel(s), 2 penny(ies)\n",
    "```\n",
    "\n",
    "The prompt for the user should be outside the function but the printing should be **inside** the function.\n",
    "In case you are not familiar with Canadian currency: \n",
    "* a quarter is 25 cents\n",
    "* a dime is 10 cents\n",
    "* a nickel is 5 cents\n",
    "* a penny is 1 cent\n",
    "\n",
    "Use the minimum number of coins that you can by first maximizing the number of quarters, then the number of dimes, etc"
   ]
  },
  {
   "cell_type": "code",
   "execution_count": 39,
   "id": "6ff3646f",
   "metadata": {},
   "outputs": [],
   "source": [
    "def calc_change(num):\n",
    "    # Remember to write the docstring here. Make it a habit so that you don't lose point in the upcoming exams.\n",
    "    # Fill in the code below\n",
    "    \n",
    "    num_quarters = num // 25\n",
    "    print(\"Quarters:\", num_quarters)\n",
    "\n",
    "    num -= num_quarters * 25\n",
    "    num_dimes = num // 10\n",
    "\n",
    "    print(\"Dimes:\", num_dimes)\n",
    "\n",
    "    num -= num_dimes * 10\n",
    "    num_nickels = num // 5\n",
    "    print(\"Nickels:\", num_nickels)\n",
    "\n",
    "    num -= num_nickels * 5\n",
    "    num_pennies = num\n",
    "    print(\"Pennies:\", num_pennies)"
   ]
  },
  {
   "cell_type": "markdown",
   "id": "be335d46",
   "metadata": {},
   "source": [
    "Let's now test the function `calc_change` in the cell below. **Fill in any missing code, where applicable**"
   ]
  },
  {
   "cell_type": "code",
   "execution_count": 40,
   "id": "1cf0e20a",
   "metadata": {},
   "outputs": [
    {
     "name": "stdout",
     "output_type": "stream",
     "text": [
      "Quarters: 4\n",
      "Dimes: 0\n",
      "Nickels: 0\n",
      "Pennies: 0\n"
     ]
    }
   ],
   "source": [
    "user_input = input(\"Enter a number of cents:\")\n",
    "num = int(user_input)\n",
    "calc_change(num)"
   ]
  },
  {
   "cell_type": "markdown",
   "id": "6118af7b",
   "metadata": {},
   "source": [
    "Now, let's slightly modify the function `calc_change` to make the printing occurs ***outside*** the function. Let's call this function `cal_change_alt`. "
   ]
  },
  {
   "cell_type": "code",
   "execution_count": 20,
   "id": "61f5b673",
   "metadata": {},
   "outputs": [],
   "source": [
    "def cal_change_alt(num):\n",
    "    # Remember to write the docstring here. Make it a habit so that you don't lose point in the upcoming exams.\n",
    "    # Fill in the code below\n",
    "    # Remember to write the docstring here. Make it a habit so that you don't lose point in the upcoming exams.\n",
    "    # Fill in the code below\n",
    "    \n",
    "    num_quarters = num // 25\n",
    "\n",
    "    num -= num_quarters * 25\n",
    "    num_dimes = num // 10\n",
    "\n",
    "\n",
    "    num -= num_dimes * 10\n",
    "    num_nickels = num // 5\n",
    "\n",
    "    num -= num_nickels * 5\n",
    "    num_pennies = num\n",
    "\n",
    "    return f\"Quarters: {num_quarters}\\nDimes: {num_dimes}\\nNickels: {num_nickels}\\nPennies: {num_pennies}\""
   ]
  },
  {
   "cell_type": "markdown",
   "id": "d9170210",
   "metadata": {},
   "source": [
    "Test the fucntion `cal_change_alt` in the cell below. **Fill in any missing code, where applicable.**"
   ]
  },
  {
   "cell_type": "code",
   "execution_count": 21,
   "id": "b2735d7f",
   "metadata": {},
   "outputs": [
    {
     "name": "stdout",
     "output_type": "stream",
     "text": [
      "Quarters: 4\n",
      "Dimes: 0\n",
      "Nickels: 0\n",
      "Pennies: 0\n"
     ]
    }
   ],
   "source": [
    "user_input = input(\"Enter a number of cents:\")\n",
    "num = int(user_input)\n",
    "print(cal_change_alt(num))"
   ]
  },
  {
   "cell_type": "markdown",
   "id": "db74e289",
   "metadata": {},
   "source": [
    "---"
   ]
  },
  {
   "cell_type": "markdown",
   "id": "0aa1af0b",
   "metadata": {},
   "source": [
    "# Question 3\n",
    " Write a function that takes floating-point number and then prints two values: the number truncated to the first decimal place and the number rounded to the first decimal place. For example:\n",
    "```\n",
    "Enter a number: 4.158\n",
    "Truncated to one decimal place: 4.1\n",
    "Rounded to one decimal place: 4.2\n",
    "```\n",
    "The prompt for the user should be **outside** the function but the printing should be inside the function\n",
    "\n",
    "**Hint:** For truncating, there are mutiple ways to achieve this. Think about using `int`, or alternatively, you can also think about using the [`math`](https://docs.python.org/3/library/math.html) module."
   ]
  },
  {
   "cell_type": "code",
   "execution_count": 11,
   "id": "e3ede3cd",
   "metadata": {},
   "outputs": [],
   "source": [
    "def truncate_round(num):\n",
    "    # Remember to write the docstring here. Make it a habit so that you don't lose point in the upcoming exams.\n",
    "    # Fill in the code below\n",
    "    \n",
    "    print(\"Truncated:\", num * 10 // 1 / 10)\n",
    "    print(\"Rounded:\", round(num,1))"
   ]
  },
  {
   "cell_type": "code",
   "execution_count": null,
   "id": "bca45eaf",
   "metadata": {},
   "outputs": [],
   "source": []
  },
  {
   "cell_type": "markdown",
   "id": "9be87f27",
   "metadata": {},
   "source": [
    "Test the fucntion  in the cell below. **Fill in any missing code, where applicable.**"
   ]
  },
  {
   "cell_type": "code",
   "execution_count": 12,
   "id": "55f59361",
   "metadata": {},
   "outputs": [
    {
     "name": "stdout",
     "output_type": "stream",
     "text": [
      "Truncated: 16.8\n",
      "Rounded: 16.9\n"
     ]
    }
   ],
   "source": [
    "user_input = input(\"Enter a number:\")\n",
    "num = float(user_input)\n",
    "truncate_round(num)"
   ]
  },
  {
   "cell_type": "markdown",
   "id": "0a7b67c3",
   "metadata": {},
   "source": [
    "---"
   ]
  },
  {
   "cell_type": "markdown",
   "id": "23b9eea4",
   "metadata": {},
   "source": [
    "# Question 4\n",
    "\n",
    "Write a  trigonometry function. Ask a user for an angle, specified in **degrees**. Then print the sine, cosine, and tangent of that angle. Round to 3 decimal places. For example:\n",
    "```\n",
    "Enter an angle in degrees:  60\n",
    "sin(60.0) is 0.866\n",
    "cos(60.0) is 0.5\n",
    "tan(60.0) is 1.732\n",
    "```\n",
    "\n",
    "Printing should occur **inside** the function. You can use [`math`](https://docs.python.org/3/library/math.html) module, where applicable."
   ]
  },
  {
   "cell_type": "code",
   "execution_count": 7,
   "id": "0bce3125",
   "metadata": {},
   "outputs": [],
   "source": [
    "import math\n",
    "def trig_calc(angle):\n",
    "    # Remember to write the docstring here. Make it a habit so that you don't lose point in the upcoming exams.\n",
    "    # Write you code here\n",
    "\n",
    "    print(round(math.sin(math.radians(angle)), 3))\n",
    "    print(round(math.cos(math.radians(angle))),3)\n",
    "    print(round(math.tan(math.radians(angle))),3)"
   ]
  },
  {
   "cell_type": "markdown",
   "id": "8f3367a5",
   "metadata": {},
   "source": [
    "Test the fucntion in the cell below. **Fill in any missing code, where applicable.**"
   ]
  },
  {
   "cell_type": "code",
   "execution_count": 8,
   "id": "af279687",
   "metadata": {},
   "outputs": [
    {
     "name": "stdout",
     "output_type": "stream",
     "text": [
      "0.866\n",
      "0.5000000000000001\n",
      "1.7320508075688767\n"
     ]
    }
   ],
   "source": [
    "user_input = input(\"Enter an angle in degrees: \")\n",
    "angle  = float(user_input)\n",
    "trig_calc(angle)"
   ]
  },
  {
   "cell_type": "markdown",
   "id": "d446dae7",
   "metadata": {},
   "source": [
    "---"
   ]
  },
  {
   "cell_type": "markdown",
   "id": "d96045b1",
   "metadata": {},
   "source": [
    "# Question 5\n",
    "\n",
    "Write a function that takes a positive integer input less than 100,000 and returns an integer corresponding to the number of digits in the number. Use this function in a program that prompts the user for an integer and prints the number of digits in the user's input. All input and printing to the user should be **outside** the function. For example:\n",
    "```\n",
    "Please input a number less than 100,000:  1234\n",
    "You number has 4 digits.\n",
    "```\n",
    "\n",
    "**Note,**  try to solve this problem through multiple approaches:\n",
    "* Think about how to use string `str` function to approach it.\n",
    "* Also think about solving it mathematically by transforming the integer. Hint, the transformation function in question can be found in the [`math`](https://docs.python.org/3/library/math.html) module.\n",
    "* Don't use an if-statement (that is for next week). "
   ]
  },
  {
   "cell_type": "code",
   "execution_count": 3,
   "id": "a19c5b43",
   "metadata": {},
   "outputs": [],
   "source": [
    "def count_digits(num):\n",
    "    # Remember to write the docstring here. Make it a habit so that you don't lose point in the upcoming exams.\n",
    "    # Write you code here\n",
    "\n",
    "    return len(str(num))"
   ]
  },
  {
   "cell_type": "markdown",
   "id": "9fc6a646",
   "metadata": {},
   "source": [
    "Test the fucntion  in the cell below. **Fill in any missing code, where applicable.**"
   ]
  },
  {
   "cell_type": "code",
   "execution_count": 4,
   "id": "c1448a87",
   "metadata": {},
   "outputs": [
    {
     "name": "stdout",
     "output_type": "stream",
     "text": [
      "4\n"
     ]
    }
   ],
   "source": [
    "user_input = input(\"Please input a number less than 100,000: \")\n",
    "num  = int(user_input)\n",
    "print(count_digits(num))"
   ]
  }
 ],
 "metadata": {
  "kernelspec": {
   "display_name": "Python 3",
   "language": "python",
   "name": "python3"
  },
  "language_info": {
   "codemirror_mode": {
    "name": "ipython",
    "version": 3
   },
   "file_extension": ".py",
   "mimetype": "text/x-python",
   "name": "python",
   "nbconvert_exporter": "python",
   "pygments_lexer": "ipython3",
   "version": "3.10.12"
  }
 },
 "nbformat": 4,
 "nbformat_minor": 5
}
