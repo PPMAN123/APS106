{
 "cells": [
  {
   "cell_type": "markdown",
   "metadata": {},
   "source": [
    "## APS106 Lecture Notes - Week 6, Lecture 2\n",
    "# More On Loops"
   ]
  },
  {
   "cell_type": "markdown",
   "metadata": {},
   "source": [
    "## For loops over indices\n",
    "\n",
    "Last lecture we saw that we can use `while` loops to loop over the indices of a string."
   ]
  },
  {
   "cell_type": "code",
   "execution_count": null,
   "metadata": {},
   "outputs": [],
   "source": [
    "chrome_4 = \"ATGGG\"\n",
    "i = 0\n",
    "while i < len(chrome_4):\n",
    "    print(i, chrome_4[i])\n",
    "    i += 1"
   ]
  },
  {
   "cell_type": "markdown",
   "metadata": {},
   "source": [
    "Then we saw that a `for`-loop requires less code but it iterates over the values, not the indices (what not where)."
   ]
  },
  {
   "cell_type": "code",
   "execution_count": null,
   "metadata": {},
   "outputs": [],
   "source": [
    "for ch in chrome_4:\n",
    "    print(ch)"
   ]
  },
  {
   "cell_type": "markdown",
   "metadata": {},
   "source": [
    "Can we use a `for`-loop to loop over indices? Or more generally, can we use a `for`-loop if we want to execute some code a variable number of times without having to have a string to iterate over?"
   ]
  },
  {
   "cell_type": "markdown",
   "metadata": {},
   "source": [
    "### Looping on a range\n",
    "\n",
    "Python has a built-in function called `range()` that is useful to use when you want to generate a sequence of numbers. You can type `help(range)` in the Python interpreter."
   ]
  },
  {
   "cell_type": "code",
   "execution_count": null,
   "metadata": {},
   "outputs": [],
   "source": [
    "help(range)"
   ]
  },
  {
   "cell_type": "markdown",
   "metadata": {},
   "source": [
    "`range` produces a sequence of numbers starting at start and up to but *not including* stop. Just like in slicing.\n",
    "\n",
    "`range` is typically used in a for loop to iterate over a sequence of numbers. "
   ]
  },
  {
   "cell_type": "code",
   "execution_count": null,
   "metadata": {},
   "outputs": [],
   "source": []
  },
  {
   "cell_type": "markdown",
   "metadata": {},
   "source": [
    "What about our DNA example from the last lecture? How can we iterate over the indices?"
   ]
  },
  {
   "cell_type": "code",
   "execution_count": null,
   "metadata": {},
   "outputs": [],
   "source": [
    "# while version\n",
    "chrome_4 = \"ATGGG\"\n",
    "i = 0\n",
    "while i < len(chrome_4):\n",
    "    print(i, chrome_4[i])\n",
    "    i += 1\n",
    "\n",
    "# modify for version to print indices\n"
   ]
  },
  {
   "cell_type": "markdown",
   "metadata": {},
   "source": [
    "**What Can You Do with range()?**\n"
   ]
  },
  {
   "cell_type": "markdown",
   "metadata": {},
   "source": [
    "You can tell `range()` what index to start at if you don't want to start at the default which is 0."
   ]
  },
  {
   "cell_type": "code",
   "execution_count": null,
   "metadata": {},
   "outputs": [],
   "source": []
  },
  {
   "cell_type": "code",
   "execution_count": null,
   "metadata": {},
   "outputs": [],
   "source": []
  },
  {
   "cell_type": "markdown",
   "metadata": {},
   "source": [
    "You can even specify the \"step\" for range: how do you increment the numbers?. The default step size is 1, which means that numbers increment by 1. The example below starts at index 1 and its step size is three (goes to every third index)."
   ]
  },
  {
   "cell_type": "code",
   "execution_count": null,
   "metadata": {},
   "outputs": [],
   "source": []
  },
  {
   "cell_type": "markdown",
   "metadata": {},
   "source": [
    "More examples"
   ]
  },
  {
   "cell_type": "code",
   "execution_count": null,
   "metadata": {},
   "outputs": [],
   "source": [
    "# Iterate over the numbers 0, 1, 2, 3, and 4.\n"
   ]
  },
  {
   "cell_type": "code",
   "execution_count": null,
   "metadata": {},
   "outputs": [],
   "source": [
    "# Iterate over the numbers 2, 3, and 4.\n"
   ]
  },
  {
   "cell_type": "code",
   "execution_count": null,
   "metadata": {},
   "outputs": [],
   "source": [
    "# Iterate over the numbers 3, 6, 9, 12, 15, and 18.\n"
   ]
  },
  {
   "cell_type": "markdown",
   "metadata": {},
   "source": [
    "## Breakout 1\n",
    "\n",
    "Write a function that returns the number of times that a character and the next character are the same.  \n",
    "```\n",
    "count_adjacent_repeats('abccdeffggh')\n",
    "3\n",
    "```\n",
    "\n",
    "We want to compare a character in the string with another character in the string beside it. We need to know not just what the character is but also where it is in the string. And so we iterate over the indices: only knowing the value of the character does not provide us with enough information. \n"
   ]
  },
  {
   "cell_type": "code",
   "execution_count": null,
   "metadata": {},
   "outputs": [],
   "source": [
    "def count_adjacent_repeats(s):\n",
    "    '''\n",
    "    str -> int\n",
    "    Returns the number of times that two consecutive characters are the same\n",
    "    '''\n",
    "    # your code here"
   ]
  },
  {
   "cell_type": "code",
   "execution_count": null,
   "metadata": {},
   "outputs": [],
   "source": [
    "print(count_adjacent_repeats('abccdeffggh'))"
   ]
  },
  {
   "cell_type": "markdown",
   "metadata": {},
   "source": [
    "Why do we get an `IndexError`?\n",
    "\n",
    "because we access `s[i + 1]` and if `i` is already the maximum index, we try to read off the end of the list. This is an example of an “off-by-one” error. "
   ]
  },
  {
   "cell_type": "markdown",
   "metadata": {},
   "source": [
    "Off-by-one error: It is a very common bug to either do one too many or one too few loop iterations than you meant to."
   ]
  },
  {
   "cell_type": "code",
   "execution_count": null,
   "metadata": {},
   "outputs": [],
   "source": [
    "print(count_adjacent_repeats('abccdeffggh'))"
   ]
  },
  {
   "cell_type": "code",
   "execution_count": null,
   "metadata": {},
   "outputs": [],
   "source": [
    "# debug count_adjacent_repeats:"
   ]
  },
  {
   "cell_type": "markdown",
   "metadata": {},
   "source": [
    "# Nested Loops\n",
    "\n",
    "Look again at the code above for `count_adjacent_repeats`. We have included an `if`-statement inside a `for`-loop. Perhaps it will not surprise (or maybe it would) to know that we can put loops inside of loops. These are called **nested loops**.\n",
    "\n",
    "How many lines the code below will print?"
   ]
  },
  {
   "cell_type": "code",
   "execution_count": null,
   "metadata": {},
   "outputs": [],
   "source": [
    "count = 0\n",
    "for i in range(10,12):\n",
    "    for j in range(5):\n",
    "        count+=1\n",
    "        print(\"iteration \", count)"
   ]
  },
  {
   "cell_type": "markdown",
   "metadata": {},
   "source": [
    "What is going on here? Let's add some `print` statements to help us understand."
   ]
  },
  {
   "cell_type": "code",
   "execution_count": null,
   "metadata": {},
   "outputs": [],
   "source": [
    "count = 0\n",
    "for i in range(10,12):\n",
    "    for j in range(5):\n",
    "        count+=1\n",
    "        print(\"i is\", i, \"- j is \", j)"
   ]
  },
  {
   "cell_type": "markdown",
   "metadata": {},
   "source": [
    "Notice that when `i` is 10, the inner loop executes in its entirety, and only after `j` has ranged from 1 through 4 is `i` incremented to the value 11.\n",
    " \n",
    "### Example of Nested Loops\n",
    "\n",
    "What does the following code do?"
   ]
  },
  {
   "cell_type": "code",
   "execution_count": null,
   "metadata": {},
   "outputs": [],
   "source": [
    "import turtle \n",
    "\n",
    "tina = turtle.Turtle()\n",
    "\n",
    "dot_distance = 25\n",
    "width = 5\n",
    "height = 7\n",
    "\n",
    "tina.penup()\n",
    "\n",
    "for y in range(height):\n",
    "    for i in range(width):\n",
    "        tina.dot()\n",
    "        tina.forward(dot_distance)\n",
    "    tina.backward(dot_distance * width)\n",
    "    tina.right(90)\n",
    "    tina.forward(dot_distance)\n",
    "    tina.left(90)\n",
    "    \n",
    "turtle.done()"
   ]
  },
  {
   "cell_type": "markdown",
   "metadata": {},
   "source": [
    "\n",
    "Can we use turtles to draw the Olympic Rings."
   ]
  },
  {
   "cell_type": "code",
   "execution_count": null,
   "metadata": {},
   "outputs": [],
   "source": [
    "import turtle\n",
    "\n",
    "# Previously defined function\n",
    "def circle(t, x, y, size):\n",
    "    '''\n",
    "    (Turtle, int, int, int)\n",
    "    Draw a circle of radius size at coordinate (x,y)'''\n",
    "    t.up()\n",
    "    t.goto(x,y)\n",
    "    t.down()\n",
    "    t.circle(size,360)\n",
    "\n",
    "tina = turtle.Turtle()\n",
    "\n",
    "# Draw Olympic Rings\n",
    "size = 45\n",
    "\n",
    "rows = 2\n",
    "cols = 3\n",
    "\n",
    "colors = [\"blue\", \"black\", \"red\", \"yellow\", \"green\"]\n",
    "\n",
    "count = 0\n",
    "for y in range(rows):\n",
    "    for x in range(cols-y):\n",
    "        tina.color(colors[count])\n",
    "        count +=1\n",
    "        circle(tina, 100*x + 50*y, -50*y, size)\n",
    "\n",
    "turtle.done()\n"
   ]
  },
  {
   "cell_type": "markdown",
   "metadata": {},
   "source": [
    "<div class=\"alert alert-block alert-info\">\n",
    "<big><b>This Lecture</b></big>\n",
    "<ul>\n",
    "    <li>for-loops over range</li>\n",
    "    <li>iterating over values vs. iterating over indices</li>\n",
    "    <li>off-by-one errors</li>\n",
    "    <li>nested loops</li>\n",
    " </ul>\n",
    "\n",
    "<b>See your text <a href=\"https://learn.zybooks.com/zybook/UTORONTOAPS106Winter2024/chapter/7/section/6\">Sect 7.6</a> to <a href=\"https://learn.zybooks.com/zybook/UTORONTOAPS106Winter2024/chapter/7/section/8\">Sect 7.8</a></b>\n",
    "</div>\n"
   ]
  },
  {
   "cell_type": "code",
   "execution_count": null,
   "metadata": {},
   "outputs": [],
   "source": []
  }
 ],
 "metadata": {
  "kernelspec": {
   "display_name": "Python 3 (ipykernel)",
   "language": "python",
   "name": "python3"
  },
  "language_info": {
   "codemirror_mode": {
    "name": "ipython",
    "version": 3
   },
   "file_extension": ".py",
   "mimetype": "text/x-python",
   "name": "python",
   "nbconvert_exporter": "python",
   "pygments_lexer": "ipython3",
   "version": "3.9.18"
  }
 },
 "nbformat": 4,
 "nbformat_minor": 4
}
