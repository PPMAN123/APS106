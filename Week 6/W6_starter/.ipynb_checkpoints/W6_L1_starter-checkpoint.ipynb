{
 "cells": [
  {
   "cell_type": "markdown",
   "metadata": {},
   "source": [
    "## APS106 Lecture Notes - Week 6, Lecture 1\n",
    "# `For` Loops"
   ]
  },
  {
   "cell_type": "markdown",
   "metadata": {},
   "source": [
    "## Motivation: `for` loops"
   ]
  },
  {
   "cell_type": "markdown",
   "metadata": {},
   "source": [
    "Problem: You have had your DNA sequenced and each of your chromosomes is represented by a string of nucleotides: adenine (A), thymine (T), guanine (G), and cytosine (C). Each nucleotide is represented by its corresponding letter. For example:\n",
    " \n",
    "```\n",
    "chrome_4 = \"ATGGGCAATCGATGGCCTAATCTCTCTAAG\"\n",
    "```\n",
    "\n",
    "You want to do some data analysis of your genome and to start (this is called \"Exploratory Data Analysis (EDA)\" in data science), you want to count the number of occurences of each letter.\n",
    "\n",
    "There are a number of ways to do this.\n",
    "\n",
    "First, there exists a handy method on the string objects which counts sub-strings."
   ]
  },
  {
   "cell_type": "code",
   "execution_count": null,
   "metadata": {},
   "outputs": [],
   "source": []
  },
  {
   "cell_type": "code",
   "execution_count": null,
   "metadata": {},
   "outputs": [],
   "source": [
    "# count A, C, and W in chrome_4"
   ]
  },
  {
   "cell_type": "markdown",
   "metadata": {},
   "source": [
    "`count()` doesn't just apply to sub-strings of size 1."
   ]
  },
  {
   "cell_type": "code",
   "execution_count": null,
   "metadata": {},
   "outputs": [],
   "source": []
  },
  {
   "cell_type": "markdown",
   "metadata": {},
   "source": [
    "**A Second Way**: since we know about indexing and a while-loop, can you do this with a loop?"
   ]
  },
  {
   "cell_type": "code",
   "execution_count": null,
   "metadata": {},
   "outputs": [],
   "source": []
  },
  {
   "cell_type": "markdown",
   "metadata": {},
   "source": [
    "In fact, we can put this in a function so that it looks a bit like `count()`"
   ]
  },
  {
   "cell_type": "code",
   "execution_count": null,
   "metadata": {},
   "outputs": [],
   "source": [
    "def my_count(target, letter):\n",
    "    '''\n",
    "    (str, str) -> int\n",
    "    Returns the number of times that letter appears in target\n",
    "    '''\n",
    "    # code here\n",
    "    \n",
    "print(\"A\",my_count(chrome_4, 'A'))\n",
    "print(\"C\",my_count(chrome_4, 'C'))\n",
    "print(\"W\",my_count(chrome_4, 'W'))"
   ]
  },
  {
   "cell_type": "markdown",
   "metadata": {},
   "source": [
    "Now let's look at a new way to do this -- a more convenient looping construct: `for`.\n",
    "\n",
    "## For Loops\n",
    "\n",
    "The general form of a for loop is:\n",
    "```python\n",
    "for item in iterable:\n",
    "    body\n",
    "```\n",
    "Similar to `if` and `while` statements, there are two things to note here:\n",
    "- There must be a colon (:) at the end of the `for` statement.\n",
    "- The body must be indented.\n",
    "\n",
    "An \"iterable\" can be anything that can be 'iterated' over. 'Iterate' means to do something repeatedly. In this case, an iterable is a collection of items and we can loop over them.\n",
    "\n",
    "Strings are iterables.\n",
    "\n",
    "The best way to understand for loops is to look at a few examples.\n",
    "\n",
    "**For Loops Over Strings**\n",
    "\n",
    "The general form of a for loop over a string is:\n",
    "```\n",
    "for variable in string:\n",
    "    body\n",
    "```\n",
    "The variable refers to each character of the string in order and executes the body of the loop for each item. So let's go back to our example."
   ]
  },
  {
   "cell_type": "code",
   "execution_count": null,
   "metadata": {},
   "outputs": [],
   "source": [
    "chrome_4 = \"ATGGGCAATCGATGGCCTAATCTCTCTAAG\"\n",
    "\n",
    "\n",
    "print(count)"
   ]
  },
  {
   "cell_type": "markdown",
   "metadata": {},
   "source": [
    "This is really just an easier way to do what we did with the `while` loop above. However, notice the differences:\n",
    "- in the `while` loop the loop variable (`i`) was the **index** of each character, while in the `for` loop the loop variable (`ch`) is the **value** of each character.\n",
    "- we do not have to worry about how long the string is (e.g., use `len()`) because the `for` loop will go through every character of the string exactly once\n",
    "- we do not have to worry about incrementing the loop variable (`i += 1`) as the `for` loop takes care of this.\n",
    "\n",
    "Let's re-write our `my_count` function."
   ]
  },
  {
   "cell_type": "code",
   "execution_count": null,
   "metadata": {},
   "outputs": [],
   "source": [
    "def my_count(target, letter):\n",
    "    '''\n",
    "    (str, str) -> int\n",
    "    Returns the number of times that letter appears in target\n",
    "    '''\n",
    "    # your code here\n",
    "\n",
    "print(\"A\",my_count(chrome_4, 'A'))\n",
    "print(\"C\",my_count(chrome_4, 'C'))\n",
    "print(\"W\",my_count(chrome_4, 'W'))"
   ]
  },
  {
   "cell_type": "markdown",
   "metadata": {},
   "source": [
    "## Breakout Session 1\n",
    "\n",
    "Write a function that takes in a string and returns the number of vowels (`a,e,i,o,u`) in the string.\n",
    "\n",
    "Hint: The `in` operator can be very helpful here."
   ]
  },
  {
   "cell_type": "code",
   "execution_count": null,
   "metadata": {},
   "outputs": [],
   "source": [
    "if 'a' in 'abc':\n",
    "    print(\"yes\")\n",
    "else:\n",
    "    print('no')\n",
    "\n",
    "if 'w' in 'abc':\n",
    "    print(\"yes\")\n",
    "else:\n",
    "    print('no')\n"
   ]
  },
  {
   "cell_type": "code",
   "execution_count": null,
   "metadata": {},
   "outputs": [],
   "source": [
    "def count_vowels(s):\n",
    "    \"\"\"\n",
    "    (str) -> int\n",
    "    Return the number of vowles in s\n",
    "    \"\"\"\n",
    "    # your code here"
   ]
  },
  {
   "cell_type": "code",
   "execution_count": null,
   "metadata": {},
   "outputs": [],
   "source": [
    "print(count_vowels('Happy Anniversary!')) # correct answer is 5"
   ]
  },
  {
   "cell_type": "markdown",
   "metadata": {},
   "source": [
    "What is the issue? How can we solve this? "
   ]
  },
  {
   "cell_type": "code",
   "execution_count": null,
   "metadata": {},
   "outputs": [],
   "source": [
    "def count_vowels(s):\n",
    "    \"\"\"\n",
    "    (str) -> int\n",
    "    Return the number of vowles in s\n",
    "    \"\"\"\n",
    "    # your code here"
   ]
  },
  {
   "cell_type": "code",
   "execution_count": null,
   "metadata": {},
   "outputs": [],
   "source": [
    "print(count_vowels('Happy Anniversary!')) # correct answer is 5"
   ]
  },
  {
   "cell_type": "code",
   "execution_count": null,
   "metadata": {},
   "outputs": [],
   "source": [
    "print(count_vowels('xyz'))"
   ]
  },
  {
   "cell_type": "markdown",
   "metadata": {},
   "source": [
    "The loop in the function above will loop over each character in `s`, in turn. The body of the loop is executed for each character, and when a character is a vowel, the `if` condition is `True` and the value that `num_vowels` refers to is increased by one.\n",
    "\n",
    "The variable `num_vowels` is an \"accumulator\", because it accumulates information. It starts out referring to the value 0 and by the end of the function it refers to the number of vowels in s."
   ]
  },
  {
   "cell_type": "markdown",
   "metadata": {},
   "source": [
    "## Breakout Session 2\n",
    "\n",
    "Let's do the same thing but rather than return the number of vowels, return a list of all the vowels encountered. \n",
    "\n",
    "Hint: Your accumulator needs to be a string variable and you need to add each vowel to the end of it."
   ]
  },
  {
   "cell_type": "code",
   "execution_count": null,
   "metadata": {},
   "outputs": [],
   "source": [
    "def collect_vowels(s):\n",
    "    \"\"\"\n",
    "    (str) -> str\n",
    "    Returns a string containing the vowels encountered in s\n",
    "    \"\"\"\n",
    "    # your code here"
   ]
  },
  {
   "cell_type": "code",
   "execution_count": null,
   "metadata": {},
   "outputs": [],
   "source": [
    "print(collect_vowels('Happy Anniversary!'))"
   ]
  },
  {
   "cell_type": "code",
   "execution_count": null,
   "metadata": {},
   "outputs": [],
   "source": [
    "print(collect_vowels('xyz'))"
   ]
  },
  {
   "cell_type": "markdown",
   "metadata": {},
   "source": [
    "Variable `vowels` initially refers to the empty string, but over the course of the function it accumulates the vowels from `s`.\n",
    "\n",
    "<div class=\"alert alert-block alert-info\">\n",
    "<big><b>This Lecture</b></big>\n",
    "<ul>  \n",
    "    <li>Looping over strings</li>\n",
    "    <li>Accumulators</li>\n",
    "<b>See your text <a href=\"https://learn.zybooks.com/zybook/UTORONTOAPS106Winter2024/chapter/7/section/5\">Sect 7.5</a></b>\n",
    "</div>"
   ]
  },
  {
   "cell_type": "code",
   "execution_count": null,
   "metadata": {},
   "outputs": [],
   "source": []
  }
 ],
 "metadata": {
  "kernelspec": {
   "display_name": "Python 3 (ipykernel)",
   "language": "python",
   "name": "python3"
  },
  "language_info": {
   "codemirror_mode": {
    "name": "ipython",
    "version": 3
   },
   "file_extension": ".py",
   "mimetype": "text/x-python",
   "name": "python",
   "nbconvert_exporter": "python",
   "pygments_lexer": "ipython3",
   "version": "3.9.18"
  }
 },
 "nbformat": 4,
 "nbformat_minor": 4
}
