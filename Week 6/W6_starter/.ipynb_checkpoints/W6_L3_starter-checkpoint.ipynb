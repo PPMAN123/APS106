{
 "cells": [
  {
   "cell_type": "markdown",
   "metadata": {},
   "source": [
    "### APS106 Lecture Notes - Week 6, Design Problem\n",
    "# Cryptography\n",
    " \n",
    "![crypto](images/crypto.png)"
   ]
  },
  {
   "cell_type": "markdown",
   "metadata": {},
   "source": [
    "## Problem Background\n",
    "\n",
    "For thousands of years cryptographers have made secret messages that only the sender and recipient could read. The secret code system (or algorithm) used for encrypting and decrypting messages is called a cipher. Even if the message (today’s equivalent would be a file) were to be captured, it would not help in decoding the message, since only sender and recipient would know the cipher.\n",
    "\n",
    "One of the earliest examples of cryptography is the Caesar cipher which encrypts a message by taking each letter in the message and replacing it with a “shifted” letter. If you shift the letter A by one space, you get the letter B. If you shift the letter A by two spaces, you get the letter C. The Caesar cipher is overly simple and it wouldn’t take much to break the encryption. Even though the Caesar cipher is no longer used, it still makes for a great learning example for cryptography.  "
   ]
  },
  {
   "cell_type": "markdown",
   "metadata": {},
   "source": [
    "## Define the Problem\n",
    "\n",
    "Given a sensitive message that should not be read by others, we would like devise an algorithm to encrypt the message so that only someone with the secret key can access it. \n",
    "\n",
    "There are many options available for encryption ranging from classic methods that are not secure, to more modern ones that are highly mathematical. Since the message being encrypted is not of great importance, and there is little motivation for your friends to try and decrypt it, it makes sense to use an easier implementation, such as the Caesar cipher.\n",
    "\n",
    "So let's define a message and a **key** the number of spaces that you shift each letter in the message."
   ]
  },
  {
   "cell_type": "markdown",
   "metadata": {},
   "source": [
    "## Define Test Cases \n",
    "\n",
    "### Test Case 1: Encryption\n",
    "\n",
    "Message: Meet me at snakes and lattes on Friday at 7pm\n",
    "\n",
    "Key: 10\n",
    "\n",
    "Encoded Message: Wood wo kd cxkuoc kxn vkddoc yx Pbsnki kd 7zw\n",
    "\n",
    "### Test case 2: Decryption\n",
    "\n",
    "Message: Wood wo kd cxkuoc kxn vkddoc yx Pbsnki kd 7zw\n",
    "\n",
    "Key: 10\n",
    "\n",
    "Decrypted Message: Meet me at snakes and lattes on Friday at 7pm\n",
    "\n",
    "\n",
    "### Test case 3: Wrong key\n",
    "\n",
    "Message: Wood wo kd cxkuoc kxn vkddoc yx Pbsnki kd 7zw\n",
    "\n",
    "Key: 9\n",
    "\n",
    "Decrypted Message: Nffu nf bu toblft boe mbuuft po Gsjebz bu 7qn"
   ]
  },
  {
   "cell_type": "markdown",
   "metadata": {},
   "source": [
    "## Generate Many Creative Solutions\n",
    "\n",
    "The Caesar cipher performs message encryption by taking each letter in the message and replacing it with a “shifted” letter. \n",
    "\n",
    "### The Algorithm Plan\n",
    "\n",
    "We really want to write code to do two things: encrypt and decrypt a message. This seems like two algorithms - maybe even two separate programs - and so let's specify their algorithm plans separately. \n",
    "\n",
    "(Something to think about: are they really two separate algorithms? Or are they just one algorithm with, say, different inputs? Let's leave this until later - but perhaps if you get bored you can think about it.)\n",
    "\n",
    "#### Encryption\n",
    "\n",
    "- Prompt user for a message and secret key\n",
    "- Encrypt a message using the Caesar Cipher\n",
    "- Print out encrypted message\n",
    "\n",
    "#### Decryption\n",
    "\n",
    "- Prompt user for the encrypted message and secret key\n",
    "- Decrypt message using secret key\n",
    "- Print message\n",
    "- [Bonus (not discussed here): place the above functionality in a menu that asks the user if she wants to encrypt or decrypt and then prompts her further depending on which she wants to do]\n",
    "\n",
    "To perform a shift we need to think of characters as numbers. For example, we could define the letter ‘a’ as 1, and then ‘b’ as 2, and so forth. This could be implemented using a dictionary data structure. \n",
    "\n",
    "But in a while back we learned that all characters and symbols are already numbered using the ASCII code. Using ASCII might work just as well and we wouldn’t need to reinvent our own code for the characters.\n",
    "\n",
    "Let's focus on working on the encryption algorothm. Since the decryption part looks similar maybe by the time we get to it we'll have an idea of what to do. \n",
    "\n",
    "### Programming Plan\n",
    "\n",
    "Some of the steps in the Algorithm Plan look pretty straightforward. Some are more difficult.  Let’s get the easy ones out of the way first.\n",
    "\n",
    "1.\tImplement code to read the message and key.\n",
    "2.\tWithout encrypting it, just write it out.\n",
    "\n",
    "Based on what we already know in python, the above should be (very) easy. Then we only have two things to do:\n",
    "\n",
    "3.\tEncrypt the message (where do we do this in the code?).\n",
    "4.  Figure out decryption.\n"
   ]
  },
  {
   "cell_type": "markdown",
   "metadata": {},
   "source": [
    "## Select a Solution\n",
    "\n",
    "ASCII looks like the way to go."
   ]
  },
  {
   "cell_type": "markdown",
   "metadata": {},
   "source": [
    "## Programming Plan: Step 1: Prompt user for message and key\n",
    "\n",
    "Let’s write the “main” code first even to see how far we get before we have to think."
   ]
  },
  {
   "cell_type": "code",
   "execution_count": null,
   "metadata": {},
   "outputs": [],
   "source": [
    "# Prompt user for a message and secret key\n",
    "\n",
    "# Encrypt a message using the Caesar Cipher\n",
    "\n",
    "# Print message\n"
   ]
  },
  {
   "cell_type": "markdown",
   "metadata": {},
   "source": [
    "After the second line, I am not really sure what to do. So let’s just leave this as is and see if we can write some functions.\n"
   ]
  },
  {
   "cell_type": "code",
   "execution_count": null,
   "metadata": {},
   "outputs": [],
   "source": [
    "def get_message():\n",
    "\n",
    "def get_key():\n",
    "\n",
    "# Prompt user for a message and secret key\n",
    "message = get_message()\n",
    "key = get_key()\n",
    "\n",
    "# Encrypt a message using the Caesar Cipher\n",
    "\n",
    "# Print message\n",
    "print(\"Message before encryption: \", message)\n",
    "print(\"Encryption key: \", key)"
   ]
  },
  {
   "cell_type": "markdown",
   "metadata": {},
   "source": [
    "## Programming Plan: Step 2: Write out the message.\n",
    "\n",
    "Well, we've already done that in Step 1 as part of our tests."
   ]
  },
  {
   "cell_type": "markdown",
   "metadata": {},
   "source": [
    "OK, where are we?\n",
    "\n",
    "What does our Programming Plan say?\n",
    "\n",
    "1.\t~~Implement code to read the message and key.~~\n",
    "2.\t~~Without encrypting it, just write it out.~~\n",
    "3.\tEncrypt the message (where do we do this in the code?)\n",
    "4.  Figure out decryption."
   ]
  },
  {
   "cell_type": "markdown",
   "metadata": {},
   "source": [
    "## Programming Plan: Step 3: Encrypt the Message\n",
    "\n",
    "Now we have the problem of figuring out how to encrypt the message (which we’ve been avoiding all along). Any ideas?\n",
    "\n",
    "Let’s write a function that initially does nothing except copy unencrypted characters. We know we have to somehow change each character so let's loop through them and just copy them."
   ]
  },
  {
   "cell_type": "code",
   "execution_count": null,
   "metadata": {},
   "outputs": [],
   "source": [
    "message = \"meet zibra!\"\n",
    "encrypted_message = \"\"\n",
    "key = 0\n",
    "for ch in message:\n",
    "\n",
    "\n",
    "print(encrypted_message)"
   ]
  },
  {
   "cell_type": "markdown",
   "metadata": {},
   "source": [
    "We studied chr() and ord().\n"
   ]
  },
  {
   "cell_type": "code",
   "execution_count": null,
   "metadata": {},
   "outputs": [],
   "source": [
    "# ord(c) --> unicode from character\n",
    "\n",
    "# chr(10) --> character from unicode\n"
   ]
  },
  {
   "cell_type": "markdown",
   "metadata": {},
   "source": [
    "Leading to something like:"
   ]
  },
  {
   "cell_type": "code",
   "execution_count": null,
   "metadata": {},
   "outputs": [],
   "source": [
    "message = \"meet zibra!\"\n",
    "encrypted_message = \"\"\n",
    "key = 1\n",
    "for ch in message:\n",
    "\n",
    "\n",
    "print(encrypted_message)"
   ]
  },
  {
   "cell_type": "markdown",
   "metadata": {},
   "source": [
    "So what is going on?\n",
    "\n",
    "Some problems:\n",
    "1. What do we want to do with non-letters (like spaces and punctuation)? Maybe we can encypt them too, but now we are going to have to investigate more about ASCII, especially since ASCII represents non-printing characters (like `\\t`). So let's just assume that we only want to modify letters.\n",
    "2. When a letter plus its offset goes beyond 'z', we want it to wrap around and start again from 'a'. How do we make the letters wrap around?"
   ]
  },
  {
   "cell_type": "code",
   "execution_count": null,
   "metadata": {},
   "outputs": [],
   "source": [
    "print(ord(\"a\"))\n",
    "print(ord(\"z\"))"
   ]
  },
  {
   "cell_type": "code",
   "execution_count": null,
   "metadata": {},
   "outputs": [],
   "source": [
    "message = \"meet zibra!\"\n",
    "encrypted_message = \"\"\n",
    "key = 2\n",
    "for ch in message:\n",
    "\n",
    "\n",
    "print(encrypted_message)"
   ]
  },
  {
   "cell_type": "markdown",
   "metadata": {},
   "source": [
    "The spaces and the period are not encypted but the letters are. Good.\n",
    "\n",
    "When a letter plus its offset goes beyond 'z', we want it to wrap around and start again from 'a'. How do we make the letters wrap around?"
   ]
  },
  {
   "cell_type": "code",
   "execution_count": null,
   "metadata": {},
   "outputs": [],
   "source": [
    "# find the upper bound and lower bound of the unicodes\n"
   ]
  },
  {
   "cell_type": "code",
   "execution_count": null,
   "metadata": {},
   "outputs": [],
   "source": [
    "message = \"meet zibra!\"\n",
    "encrypted_message = \"\"\n",
    "key = 2\n",
    "for ch in message:\n",
    "\n",
    "print(encrypted_message)"
   ]
  },
  {
   "cell_type": "markdown",
   "metadata": {},
   "source": [
    "We also only want to translate characters and take into account capital vs. lower case. How can we do that? "
   ]
  },
  {
   "cell_type": "code",
   "execution_count": null,
   "metadata": {},
   "outputs": [],
   "source": [
    "# find the upper bound and lower bound of the unicodes\n"
   ]
  },
  {
   "cell_type": "code",
   "execution_count": null,
   "metadata": {},
   "outputs": [],
   "source": [
    "message = \"Meet Zibra!\"\n",
    "encrypted_message = \"\"\n",
    "key = 2\n",
    "for ch in message:\n",
    "\n",
    "print(encrypted_message)"
   ]
  },
  {
   "cell_type": "markdown",
   "metadata": {},
   "source": [
    "Seems working, let's wrap it into a function:"
   ]
  },
  {
   "cell_type": "code",
   "execution_count": null,
   "metadata": {},
   "outputs": [],
   "source": [
    "def encrypt_char(ch, key):\n",
    "\n",
    "\n",
    "def encrypt_message(message, key):\n",
    "    encrypted_message = \"\"\n",
    "    for ch in message:\n",
    "        encrypted_message+=encrypt_char(ch, key)\n",
    "    return encrypted_message"
   ]
  },
  {
   "cell_type": "markdown",
   "metadata": {},
   "source": [
    "### Testing\n",
    "So, is this working? How can we tell? We need to know some encypted versions (like in our tests.) So let's look at the test we created:\n",
    "\n",
    "Message: Meet me at snakes and lattes on Friday at 7pm\n",
    "\n",
    "Key: 10\n",
    "\n",
    "Encoded Message: Wood wo kd cxkuoc kxn vkddoc yx Pbsnki kd 7zw"
   ]
  },
  {
   "cell_type": "code",
   "execution_count": null,
   "metadata": {},
   "outputs": [],
   "source": [
    "print(encrypt_message(\"Meet me at snakes and lattes on Friday at 7pm\", 10))"
   ]
  },
  {
   "cell_type": "markdown",
   "metadata": {},
   "source": [
    "Wooohoooooo!!!! &#x1F600;"
   ]
  },
  {
   "cell_type": "markdown",
   "metadata": {},
   "source": [
    "Let's return to the Programming Plan\n",
    "\n",
    "1.\t~~Implement code to read the message and key.~~\n",
    "2.\t~~Without encrypting it, just write it out.~~\n",
    "3.\t~~Encrypt the message (where do we do this in the code?)~~\n",
    "4.  Figure out decryption.\n",
    "\n",
    "And also recall our algorithm plan.\n",
    "\n",
    "#### Encryption\n",
    "\n",
    "- Prompt user for a message and secret key\n",
    "- Encrypt a message using the Caesar Cipher\n",
    "- Print out encrypted message\n",
    "\n",
    "#### Decryption\n",
    "\n",
    "- Prompt user for the encrypted message and secret key\n",
    "- Decrypt message using secret key\n",
    "- Print message\n",
    "- [Bonus (not discussed here): place the above functionality in a menu that asks the user if she wants to encrypt or decrypt and then prompts her further depending on which she wants to do]\n",
    "\n",
    "\n",
    "\n",
    "## Programming Plan: Step 4: Figure out decryption\n",
    "\n",
    "Ideas?\n",
    "\n",
    "Hint: You want to do as little work as possible.\n",
    "\n",
    "Hint #2: In fact, you do not have to do anything!\n",
    "\n",
    "Let's copy exactly the code from above."
   ]
  },
  {
   "cell_type": "code",
   "execution_count": null,
   "metadata": {},
   "outputs": [],
   "source": []
  },
  {
   "cell_type": "markdown",
   "metadata": {},
   "source": [
    "The same program will encypt or decrypt for you depending on the message you input and the key!"
   ]
  },
  {
   "cell_type": "markdown",
   "metadata": {},
   "source": [
    "# Perform Final Testing"
   ]
  }
 ],
 "metadata": {
  "kernelspec": {
   "display_name": "Python 3 (ipykernel)",
   "language": "python",
   "name": "python3"
  },
  "language_info": {
   "codemirror_mode": {
    "name": "ipython",
    "version": 3
   },
   "file_extension": ".py",
   "mimetype": "text/x-python",
   "name": "python",
   "nbconvert_exporter": "python",
   "pygments_lexer": "ipython3",
   "version": "3.9.18"
  }
 },
 "nbformat": 4,
 "nbformat_minor": 4
}
