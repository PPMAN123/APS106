{
 "cells": [
  {
   "cell_type": "markdown",
   "metadata": {},
   "source": [
    "# APS106 Lecture\n",
    "# Object-Oriented Programming & the File Object\n",
    "\n",
    "# Classes and Objects\n",
    "\n",
    "We talked about objects, and that everything in Python is an object.\n",
    "\n",
    "There is in fact a function that you can call to confirm this."
   ]
  },
  {
   "cell_type": "code",
   "execution_count": null,
   "metadata": {},
   "outputs": [],
   "source": [
    "help(isinstance)"
   ]
  },
  {
   "cell_type": "code",
   "execution_count": null,
   "metadata": {},
   "outputs": [],
   "source": [
    "print(isinstance(4, object))\n",
    "print(isinstance(\"Hello\",object))\n",
    "print(isinstance(tuple,object))"
   ]
  },
  {
   "cell_type": "markdown",
   "metadata": {},
   "source": [
    "Every time we create a variable we are making a new object. Each object has a type or class that it belongs to.\n",
    "\n",
    "A **class** can be thought of as a template for the objects that are instances of it, where an **instance** of a class refers to an object whose type is defined as the class. \n",
    "\n",
    "The words \"instance\" and \"object\" are used interchangeably. For example when you store an integer value in a variable, then that variable becomes an instance of the class int. The same happens when you create variables of class float, int, str, list, set, tuple, dict, Turtle, etc. \n",
    "\n",
    "Each class has a predefined set of functions (\"methods\") that can only be applied to objects that are instances of the class. For example:\n"
   ]
  },
  {
   "cell_type": "code",
   "execution_count": null,
   "metadata": {},
   "outputs": [],
   "source": [
    "my_str = \"Beast\"\n",
    "my_str.replace(\"B\",\"Y\")"
   ]
  },
  {
   "cell_type": "code",
   "execution_count": null,
   "metadata": {},
   "outputs": [],
   "source": [
    "my_int = 10\n",
    "my_int.replace(1, 0)"
   ]
  },
  {
   "cell_type": "markdown",
   "metadata": {},
   "source": [
    "The method `replace` is associated with type `str`, not `int`, hence if we try to apply it to an int, we will get an error.\n",
    "\n",
    "We’ve been using turtles to visualize different aspects of programming. In these examples you may have noticed that there are methods associated to the turtle object that can only be applied to turtle objects."
   ]
  },
  {
   "cell_type": "code",
   "execution_count": null,
   "metadata": {},
   "outputs": [],
   "source": [
    "import turtle\n",
    "alex = turtle.Turtle()\n",
    "\n",
    "alex.up()            # make alex raise its tail\n",
    "alex.goto(-150, 100) # make alex go to (-150, 100)\n",
    "alex.down()          # make alex lower its tail\n",
    "alex.circle(30)      # make alex draw a circle\n",
    "\n",
    "turtle.done()"
   ]
  },
  {
   "cell_type": "markdown",
   "metadata": {},
   "source": [
    "The above code creates an instance of the turtle object and names it `alex`. Then we have methods such as: up, goto, down, circle that `alex` can execute according to the provided arguments.\n",
    "\n",
    "As we have seen, we can use pre-defined objects and their methods just fine without needing to know what's inside. \n",
    "\n",
    "Up to now, most of the programs have been written using a procedural programming paradigm. In procedural programming the focus is on writing functions or procedures which operate on data. In what is to follow, we will learn about ways to create our own unique objects with unique methods that can be applied on them. However, before we get there, let us first discuss the motivation and a little history of object-oriented programming (OOP)."
   ]
  },
  {
   "cell_type": "markdown",
   "metadata": {},
   "source": [
    "## OO Introduction\n",
    "\n",
    "Programming with objects as the cognitive model of a problem is called “object oriented programming” (OOP). ('cognitive model' just means the way you think about things) Different from what we have been doing up to now, OOP focuses on the creation of objects which contain both **data and functionality** together and achieving the overall program functionality through the interaction of these objects.\n",
    "\n",
    "**OOP is a (different) way of thinking about the design and organization of your code.**\n",
    "\n",
    "OOP was developed as a way to handle the size and complexity of software systems and to make it easier to employ teams of programmers to create and maintain these large and complex systems over time. Think about a avionics system for an airplace or an financial accounting system for a bank.\n",
    "\n",
    "Usually, each object corresponds to some object or concept in the real world, and the functions that operate on that object correspond to the ways real-world objects interact. For example, we could think of an oven object. The oven allows us to perform a few specific operations, like put an item in the oven, or set the temperature.\n",
    "\n",
    "In object-oriented programming, the objects are considered to be active agents. In our early introduction to turtles, we used an object-oriented style, so that we said `tina.forward(100)`, which asks the turtle to move itself forward by the given number of steps. This change in perspective may not be initially obvious, nor might it be obvious that it is useful. But sometimes shifting responsibility from the functions onto the objects makes it possible to write more versatile functions and makes it easier to maintain and reuse code.\n",
    "\n",
    "The most important advantage of the object-oriented style is that it fits our mental chunking and real-life experience more accurately. In real life a `cook` method is part of our microwave oven — we don’t have a cook function sitting in the corner of the kitchen, into which we pass the microwave! Similarly, we use the cellphone’s own methods to send a text message or switch it to do not disturb. The functionality of real-world objects tends to be tightly bound up inside the objects themselves. OOP allows us to accurately mirror this when we organize our programs.\n",
    "Creating a program as a collection of objects can lead to a more understandable, manageable, and properly executing program.\n",
    "\n",
    "<div class=\"alert alert-block alert-info\">\n",
    "<big><b>Pro-tip</b></big>\n",
    "    \n",
    "If you get confused about OO, objects, instances, classes, methods, ..., think about Turtles. Turtle is a class. When you create a turtle variable (e.g. tina) you are creating an instance (also called an object) of the class Turtle. When you tell tina to do something, you are calling a method of the Turtle class.\n",
    "\n",
    "If you get confused - think about turtles.\n",
    "</div>"
   ]
  },
  {
   "cell_type": "markdown",
   "metadata": {},
   "source": [
    "### Turtles\n",
    "\n",
    "Let's look at the nice example from Monday again and think about what is going on line-by-line."
   ]
  },
  {
   "cell_type": "code",
   "execution_count": null,
   "metadata": {},
   "outputs": [],
   "source": [
    "import turtle\n",
    "\n",
    "tina = turtle.Turtle()       # create Turtle object\n",
    "tina.color('red')            # call color method on Turtle object to change color\n",
    "tina.speed(10)               # call speed method on Turtle object to change speed\n",
    "tina.begin_fill()            # call begin_fill method on Turtle object \n",
    "back_to_beginning = False\n",
    "while not back_to_beginning:\n",
    "    tina.forward(200)        # call forward method on Turtle object \n",
    "    tina.left(170)           # call left method on Turtle object \n",
    "    back_to_beginning = (abs(tina.pos()) < 1)  # call pos method on Turtle object\n",
    "    \n",
    "tina.end_fill()              # call end_fill method on Turtle object \n",
    "tina.hideturtle()            # call hideturtle method on Turtle object \n",
    "turtle.done()\n"
   ]
  },
  {
   "cell_type": "markdown",
   "metadata": {},
   "source": [
    "Almost every line is just calling a Turtle method. The trick is calling the right ones to do what you want.\n",
    "\n",
    "An object has a set of methods defined and you write a program by orchestrating the methods. More complex OO programs have a lot of different objects that call each other's methods."
   ]
  },
  {
   "cell_type": "markdown",
   "metadata": {},
   "source": [
    "### A Fictional ACORN Design\n",
    "\n",
    "Imagine how you might design the functionality of ACORN and, in particular, a function to enroll a student in a course.\n",
    "\n",
    "Here's some completely fictional code that might reflect the design."
   ]
  },
  {
   "cell_type": "code",
   "execution_count": null,
   "metadata": {},
   "outputs": [],
   "source": [
    "import course_db    # module with interface to database of courses\n",
    "import student_db   # module with interface to database of students\n",
    "\n",
    "def enroll_student(student_id, course_id):\n",
    "    '''\n",
    "    Enroll student corresponding to student_id in course\n",
    "    corresponding to course_id\n",
    "    Return True if successful, False otherwise\n",
    "    '''\n",
    "    course = course_db.get_course(course_id)  # get course object\n",
    "    if course == None:\n",
    "        print(\"No such course: \", course)\n",
    "        return False\n",
    "    \n",
    "    student = student_db.get_student(student_id) # get student object\n",
    "    if student == None:\n",
    "        print(\"No such student: \", student)\n",
    "        return False\n",
    "    \n",
    "    if course_db.is_eligible(student, course):\n",
    "        student.enroll(course)  # student object knows what courses it is enrolled in\n",
    "        course.enroll(student)  # course object knows what students are enrolled\n",
    "        return True\n",
    "\n",
    "    print(\"Student\",student_id,\"is not eligble for course\",course_id)        \n",
    "    return False\n",
    "    "
   ]
  },
  {
   "cell_type": "markdown",
   "metadata": {},
   "source": [
    "The point is that by providing objects with behaviour, we can now easily build functionality using that behaviour and without having to know how that behaviour is implemented."
   ]
  },
  {
   "cell_type": "markdown",
   "metadata": {},
   "source": [
    "## The File Object\n",
    "\n",
    "A file on your computer is something like a document, data file, Python source code, etc. We are going to focus on ASCII text files which you can think of as a sequence of characters stored someplace on your computer.\n",
    "\n",
    "It is pretty common to have programs that read and write files: read in some data, do some calculation, write out the results. This is pretty much the core of any data science task.\n",
    "\n",
    "In Python files are represented by objects and we will look at some basic methods of the file object here."
   ]
  },
  {
   "cell_type": "markdown",
   "metadata": {},
   "source": [
    "## Working with Files\n",
    "\n",
    "Working with files is a lot like working with a physical notebook. \n",
    "\n",
    "- A file has to be opened. \n",
    "- When you are done, it has to be closed. \n",
    "- While the file is open, it can either be read from or written to. \n",
    "- Like a bookmark, the file keeps track of where you are reading to or writing from. \n",
    "- You can read the whole file in its natural order or you can skip around. \n",
    "\n",
    "### Opening and Closing a File\n",
    "\n",
    "Python has a built-in function where you specify the filename and the mode of access (\"w\" = write, \"r\" = read, \"a\" = append)."
   ]
  },
  {
   "cell_type": "code",
   "execution_count": null,
   "metadata": {},
   "outputs": [],
   "source": [
    "myfile = open(\"test.txt\", \"w\")"
   ]
  },
  {
   "cell_type": "markdown",
   "metadata": {},
   "source": [
    "This command will open `test.txt` in the folder where the program is being executed. If `test.txt` does not exist it will be created. If it does exist, it will be **over-written!!!**\n",
    "\n",
    "`myfile` is an object that keeps track of information about the file (e.g., where you are in it). If you want to write to (or read from) the file, you need to do so via the file object."
   ]
  },
  {
   "cell_type": "code",
   "execution_count": null,
   "metadata": {},
   "outputs": [],
   "source": [
    "myfile.write(\"APS106\")"
   ]
  },
  {
   "cell_type": "markdown",
   "metadata": {},
   "source": [
    "This command writes a string to myfile. It is like `print` but does not add the newline. So:"
   ]
  },
  {
   "cell_type": "code",
   "execution_count": null,
   "metadata": {},
   "outputs": [],
   "source": []
  },
  {
   "cell_type": "markdown",
   "metadata": {},
   "source": [
    "An important difference between `write` and `print` is that write only takes string inputs."
   ]
  },
  {
   "cell_type": "code",
   "execution_count": null,
   "metadata": {},
   "outputs": [],
   "source": [
    "myfile.write(2)"
   ]
  },
  {
   "cell_type": "markdown",
   "metadata": {},
   "source": [
    "The next `write` statement writes the string where ever we left off. When we are done, the file needs to be closed. This tells the file object that we are done and it should clean things up."
   ]
  },
  {
   "cell_type": "code",
   "execution_count": null,
   "metadata": {},
   "outputs": [],
   "source": [
    "myfile.close()"
   ]
  },
  {
   "cell_type": "markdown",
   "metadata": {},
   "source": [
    "Now we can go to the folder where the jupyter notebook is and observe that there is a file there called `text.txt` containing the lines that we wrote out.\n",
    "\n",
    "## Reading Files\n",
    "\n",
    "Now that the file exists on our disk, we can open it, this time for reading, and read all the lines in the file, one at a time. This time, the mode argument is \"r\" for reading:"
   ]
  },
  {
   "cell_type": "code",
   "execution_count": null,
   "metadata": {},
   "outputs": [],
   "source": [
    "f_in = open(\"test.txt\", \"r\")"
   ]
  },
  {
   "cell_type": "markdown",
   "metadata": {},
   "source": [
    "There are four common ways to read a file. "
   ]
  },
  {
   "cell_type": "markdown",
   "metadata": {},
   "source": [
    "### The read approach\n",
    "\n",
    "Read the whole file into a string. **Beware: If the file is huge, this can create problems!**"
   ]
  },
  {
   "cell_type": "code",
   "execution_count": null,
   "metadata": {},
   "outputs": [],
   "source": [
    "f_in = open('test.txt', 'r')\n",
    "text_in_file = f_in.read()\n",
    "f_in.close()\n",
    "\n",
    "print(type(text_in_file))\n",
    "print(text_in_file)"
   ]
  },
  {
   "cell_type": "markdown",
   "metadata": {},
   "source": [
    "### The readline approach\n",
    "\n",
    "Read the file line-by-line into a string. This is a safer thing to do as the whole file never gets put in memory at once. Note that the file must be kept open if you still want to read the next line - unlike above where you can close the file immediately after `read()`."
   ]
  },
  {
   "cell_type": "code",
   "execution_count": null,
   "metadata": {},
   "outputs": [],
   "source": [
    "f_in = open('test.txt', 'r')\n",
    "\n",
    "line = f_in.readline()\n",
    "print(type(line))\n",
    "while line != \"\":\n",
    "    print(line, end=\"\")\n",
    "    line = f_in.readline()\n",
    "\n",
    "f_in.close()\n"
   ]
  },
  {
   "cell_type": "markdown",
   "metadata": {},
   "source": [
    "### The for line in file approach\n",
    "\n",
    "Like the `readline` approach, this approach also reads in the file line-by-line. It just uses the `in` operator."
   ]
  },
  {
   "cell_type": "code",
   "execution_count": null,
   "metadata": {},
   "outputs": [],
   "source": [
    "f_in = open('test.txt', 'r')\n",
    "\n",
    "for line in f_in:\n",
    "    print(line, end=\"\")\n",
    "    \n",
    "f_in.close()\n",
    "print(type(line))"
   ]
  },
  {
   "cell_type": "markdown",
   "metadata": {},
   "source": [
    "### The readlines approach\n",
    "\n",
    "The `readlines` approach reads the whole file in (like `read`) but rather than putting the file in one big string, it creates a list where each line of the file is an entry in the list.\n",
    "\n",
    "**We haven't actually got to lists yet in this course. For now just remember that there is a way to read lines of a file into a list.**"
   ]
  },
  {
   "cell_type": "code",
   "execution_count": null,
   "metadata": {},
   "outputs": [],
   "source": [
    "f_in = open('test.txt', 'r')\n",
    "text_list = f_in.readlines()\n",
    "f_in.close()\n",
    "\n",
    "print(type(text_list))\n",
    "print(len(text_list))\n",
    "print(type(text_list[0]))\n",
    "\n",
    "for line in text_list:\n",
    "    print(line, end=\"\")\n"
   ]
  },
  {
   "cell_type": "markdown",
   "metadata": {},
   "source": [
    "## The with Statement\n",
    "\n",
    "Notice that whenever we open a file, we need to be careful to close it again. Python provides a nice way to open and then automatically close a file using a `with` block.\n",
    "\n",
    "```\n",
    "with open(«filename», «mode») as «variable»:\n",
    "    body\n",
    "```\n",
    "\n",
    "The file is opened at the beginning and **automatically closed** at the end of the body. \n"
   ]
  },
  {
   "cell_type": "code",
   "execution_count": null,
   "metadata": {},
   "outputs": [],
   "source": [
    "with open(\"test.txt\", \"r\") as f_in:\n",
    "    text_in_file = f_in.read()\n",
    "\n",
    "print(text_in_file)"
   ]
  },
  {
   "cell_type": "markdown",
   "metadata": {},
   "source": [
    "The use of `with` is a nice pattern in Python - all it really does it make sure the file is correctly closed when the with statement ends."
   ]
  },
  {
   "cell_type": "markdown",
   "metadata": {},
   "source": [
    "<div class=\"alert alert-block alert-info\">\n",
    "<big><b>This Lecture</b></big>\n",
    "<ul>  \n",
    " <li>Object Oriented programming: a new way to think about programs</li>  \n",
    " <li>The file object </li>  \n",
    "    <li>reading and writing files</li>\n",
    "</ul>  \n",
    "</div>"
   ]
  }
 ],
 "metadata": {
  "kernelspec": {
   "display_name": "Python 3 (ipykernel)",
   "language": "python",
   "name": "python3"
  },
  "language_info": {
   "codemirror_mode": {
    "name": "ipython",
    "version": 3
   },
   "file_extension": ".py",
   "mimetype": "text/x-python",
   "name": "python",
   "nbconvert_exporter": "python",
   "pygments_lexer": "ipython3",
   "version": "3.9.18"
  }
 },
 "nbformat": 4,
 "nbformat_minor": 4
}
