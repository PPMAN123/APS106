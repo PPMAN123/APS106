{
 "cells": [
  {
   "cell_type": "markdown",
   "metadata": {},
   "source": [
    "# Week 3 Practice Problems\n",
    "\n",
    "This week's problem cover the follow topics:\n",
    "* Conditional Statements \n",
    "* String Comparisons and More On If-Statements "
   ]
  },
  {
   "cell_type": "markdown",
   "metadata": {},
   "source": [
    "## Question 1\n",
    "\n",
    "Write a function that takes the role of a store clerk. \n",
    "\n",
    "Ask a user to enter two floating point numbers: the *cost* of an item and the *amount of money* remitted to pay for the item.  \n",
    "Then respond appropriately: calculate the change due to the customer *or* ask the customer for more money. \n",
    "\n",
    "For example:\n",
    "```\n",
    "Cost of the item: 3.56\n",
    "Amount tendered: 5.00\n",
    "Change: 1.44\n",
    "```\n",
    "or\n",
    "```\n",
    "Cost of the item: 3.56\n",
    "Amount tendered: 3.00\n",
    "Still due: 0.56\n",
    "```\n",
    "**Note:** print out the change and amount due to two decimal places"
   ]
  },
  {
   "cell_type": "code",
   "execution_count": 1,
   "metadata": {},
   "outputs": [],
   "source": [
    "# Complete the function in this cell\n",
    "def clerk_calc(cost: int, tender: int) -> None:\n",
    "    # Don't forget about the doc string\n",
    "    \"\"\"\n",
    "    Calculate the change to return to the customer\n",
    "    \"\"\"\n",
    "\n",
    "    if cost > tender:\n",
    "        print(\"Still due\", round(cost-tender,2))\n",
    "    elif cost < tender:\n",
    "        print(\"Change due\", round(tender-cost,2))\n",
    "    else:\n",
    "        print(\"No change due\")"
   ]
  },
  {
   "cell_type": "code",
   "execution_count": 2,
   "metadata": {},
   "outputs": [
    {
     "name": "stdout",
     "output_type": "stream",
     "text": [
      "Still due 0.56\n"
     ]
    }
   ],
   "source": [
    "# Test your function here. \n",
    "cost = float(input(\"Cost of the item: \"))\n",
    "tender = float(input(\"Amount tendered: \"))\n",
    "clerk_calc(cost, tender)"
   ]
  },
  {
   "cell_type": "markdown",
   "metadata": {},
   "source": [
    "## Question 2\n",
    "\n",
    "Combine Q1 above with Question 2 from [Week 2](https://jupyter.utoronto.ca/hub/user-redirect/git-pull?repo=https%3A%2F%2Fgithub.com%2FAPS106%2FAPS106-winter-2025-practice-problems&urlpath=tree%2FAPS106-winter-2025-practice-problems%2Fweek2%2Fweek2_practice_problems_starter.ipynb&branch=master) such that if in this Q1 you owe the customer some change, calculate the minimum number of \\\\$100, \\\\$50, \\\\$20, \\\\$10, \\\\$5, toonies, loonies, quarters, dimes, nickels, and pennies needed to make up that amount. Modify the function from Q2 of Week 2 to print out the way to make the change.\n",
    "\n",
    "For example\n",
    "\n",
    "```\n",
    "Cost of the item:  200.25\n",
    "Amount tendered:  220\n",
    "Change: 19.75\n",
    "0.0 $100 bill(s), 0 $50 bill(s), 0 $20 bill(s), 1 $10 bill(s), 1 $5 bill(s), 2 toonies, 0 loonies, 3 quarters, 0 dimes, 0 nickels, 0 penny(ies)\n",
    "```\n",
    "\n"
   ]
  },
  {
   "cell_type": "code",
   "execution_count": null,
   "metadata": {},
   "outputs": [],
   "source": [
    "def make_change(cost, tender):\n",
    "    # Don't forget about the doc string\n",
    "    \"\"\"\n",
    "    bomboclart\n",
    "    \"\"\""
   ]
  },
  {
   "cell_type": "code",
   "execution_count": null,
   "metadata": {},
   "outputs": [],
   "source": [
    "# Test your function here. \n",
    "cost = \n",
    "tender = \n",
    "make_change( )"
   ]
  },
  {
   "cell_type": "markdown",
   "metadata": {},
   "source": [
    "## Question 3\n",
    "You may have already realized that Canada  no longer have pennies in circulation. Therefore, let's write a function that round a number to the nearest nickels.\n",
    "\n",
    "For example, \\\\$1.53 is rounded to \\\\$1.55, \\\\$2.47 is rounded to \\\\$2.45, \\\\$4.42 is rounded to \\\\$4.40.\n",
    "\n",
    "The function should take in the change as the input as return the rounded as the output"
   ]
  },
  {
   "cell_type": "code",
   "execution_count": 3,
   "metadata": {},
   "outputs": [],
   "source": [
    "def round_to_nickel(money):\n",
    "    # Don't forget about the doc string\n",
    "    return round(money / 0.05) * 0.05"
   ]
  },
  {
   "cell_type": "code",
   "execution_count": 4,
   "metadata": {},
   "outputs": [
    {
     "name": "stdout",
     "output_type": "stream",
     "text": [
      "1.55\n"
     ]
    }
   ],
   "source": [
    "# You should test the function before proceeding to the next step\n",
    "print(round_to_nickel(1.53))"
   ]
  },
  {
   "cell_type": "markdown",
   "metadata": {},
   "source": [
    "Then, slightly modify the function in Question 2 but now without pennies. You should use the function `round_to_nickel` in some way.\n",
    "\n",
    "For example:\n",
    "```\n",
    "Cost of the item:  0.03\n",
    "Amount tendered:  1\n",
    "Change: 0.97\n",
    "Rounded change: 0.95\n",
    "0 $100 bill(s), 0 $50 bill(s), 0 $20 bill(s), 0 $10 bill(s), 0 $5 bill(s), 0 toonies, 0 loonies, 3 quarters, 2 dimes, 0 nickels\n",
    "```\n",
    "\n"
   ]
  },
  {
   "cell_type": "code",
   "execution_count": null,
   "metadata": {},
   "outputs": [],
   "source": [
    "def make_change(  ):\n",
    "    # Don't forget about the doc string\n"
   ]
  },
  {
   "cell_type": "code",
   "execution_count": null,
   "metadata": {},
   "outputs": [],
   "source": [
    "# Test your function here. \n",
    "cost = \n",
    "tender = \n",
    "make_change( )"
   ]
  },
  {
   "cell_type": "markdown",
   "metadata": {},
   "source": [
    "## Question 4\n",
    "\n",
    "Redo Question 5 from [Week 2](https://jupyter.utoronto.ca/hub/user-redirect/git-pull?repo=https%3A%2F%2Fgithub.com%2FAPS106%2FAPS106-winter-2025-practice-problems&urlpath=tree%2FAPS106-winter-2025-practice-problems%2Fweek2%2Fweek2_practice_problems_starter.ipynb&branch=master) but using an if-statement. Write a function that takes a positive integer input less than 100000 and returns an integer corresponding to the number of digits in the number. Use this function in a program that prompts the user for an integer and prints the number of digits in the user’s input. "
   ]
  },
  {
   "cell_type": "code",
   "execution_count": null,
   "metadata": {},
   "outputs": [],
   "source": [
    "def count_digits(num):\n",
    "    # Don't forget about the doc string\n"
   ]
  },
  {
   "cell_type": "code",
   "execution_count": null,
   "metadata": {},
   "outputs": [],
   "source": [
    "# Test your function here\n",
    "user_input = input(\"Please input a number less than 100,000: \")\n",
    "num  = \n",
    "print(count_digits(num))"
   ]
  },
  {
   "cell_type": "markdown",
   "metadata": {},
   "source": [
    "## Question 5\n",
    "Water exists in three states- solid, liquid, and gas. Write a function that takes in the temperature in Celsius and returns a string \"solid\", \"liquid\", or \"gas\" depending on the temperature. Write a program using this function that prompts the user for a temperature and prints out the resulting state of water.\n",
    "\n",
    "For example:\n",
    "\n",
    "```\n",
    "Enter a temperature in Celsius:  22\n",
    "Liquid\n",
    "```\n",
    "\n",
    "**Note**: the solution is not unique. You should try to solve this using different orderings of if-else logic."
   ]
  },
  {
   "cell_type": "code",
   "execution_count": null,
   "metadata": {},
   "outputs": [],
   "source": [
    "def determine_phase(temp):\n",
    "    # Don't forget about the doc string\n",
    "    if temp < 0:\n",
    "        return \"solid\"\n",
    "    elif temp < 100:\n",
    "        return \"liquid\"\n",
    "    else:\n",
    "        return \"gas\""
   ]
  },
  {
   "cell_type": "code",
   "execution_count": null,
   "metadata": {},
   "outputs": [],
   "source": [
    "# Test your function here\n",
    "temp = input()\n",
    "print(determine_phase(temp))"
   ]
  },
  {
   "cell_type": "markdown",
   "metadata": {},
   "source": [
    "## Question 6\n",
    "In fluid mechanics the dimensionless Reynolds Number ($\\mathrm{Re}$) is defined below, where $v$ is the speed of the fluid [m/s], $L$ is the characteristic length of the flow situation [m], and $n$ is the kinematic viscosity [m$^2$/s].\n",
    "\n",
    "\n",
    "$\\mathrm{Re} =  \\frac{v\\cdot L}{n}$\n",
    " \n",
    "The magnitude of the Reynolds Number tells if a flowing fluid is moving in a laminar, transitional, or turbulent mode. Two flow situations are of interest, flow in a pipe and flow on a flat plate.\n",
    " \n",
    "* For a pipe:\n",
    "    * When the Reynolds number is less than 2000, then the flow is laminar.\n",
    "    * When the Reynolds number is greater than or equal to 2000 and less than or equal to 4000, then the flow is transitional.\n",
    "    * When the Reynolds number is greater than 4000, then the flow is turbulent.\n",
    "* For a plate:\n",
    "    * When the Reynolds number is less than $5 \\times 10^5$, then the flow is laminar.\n",
    "    * When the Reynolds number is greater than or equal to $5 \\times 10^5$, then the flow is turbulent.\n",
    " \n",
    "\n",
    "Write a function that takes the speed of the fluid, the characteristic length, the kinematic viscosity, and the flow situation as arguments and returns a string indicating if the flow is \"laminar\", \"transitional\", or \"turbulent\".\n",
    "\n",
    "For example:\n",
    "\n",
    "```\n",
    "Enter speed: 13.4\n",
    "Enter length: 800\n",
    "Enter: viscosity: 1.2\n",
    "Enter flow situation:  pipe\n",
    "turbulent\n",
    "```\n",
    " \n",
    "You may assume that:\n",
    "* the first three arguments are positive numbers in the correct units.\n",
    "* the fourth argument is a string equal to \"pipe\" or \"plate\"\n",
    "\n",
    "\n",
    "\n"
   ]
  },
  {
   "cell_type": "code",
   "execution_count": null,
   "metadata": {},
   "outputs": [],
   "source": [
    "def fluid_flow_mode(speed, length, viscosity, flow_sit):\n",
    "    # Don't forget about the doc string\n",
    "\n",
    "    r_e = speed * length / viscosity\n",
    "    if flow_sit == 'pipe':\n",
    "        if r_e < 2000:\n",
    "            return 'laminar'\n",
    "        elif r_e < 4000:\n",
    "            return 'transitional'\n",
    "        else:\n",
    "            return 'turbulent'\n",
    "    elif flow_sit == 'plate':\n",
    "        if r_e < 5 * 10**5:\n",
    "            return 'laminar'\n",
    "        else:\n",
    "            return 'turbulent'"
   ]
  },
  {
   "cell_type": "code",
   "execution_count": null,
   "metadata": {},
   "outputs": [],
   "source": [
    "# Test your function here\n",
    "speed = input(\"Enter speed:\")\n",
    "length = input(\"Enter length:\") \n",
    "viscosity = input(\"Enter: viscosity:\")\n",
    "flow_sit = input ( \"Enter flow situation: \")\n",
    "\n",
    "print(fluid_flow_mode(speed, length, viscosity, flow_sit))"
   ]
  },
  {
   "cell_type": "markdown",
   "metadata": {},
   "source": [
    "## Question 7\n",
    "Write a function that takes in three strings and print these three strings in an ordered form.\n",
    "\n",
    "For example,\n",
    "\n",
    "```\n",
    "word 1: MSFT\n",
    "word 2: apple\n",
    "word 3: APPL\n",
    "sorted: AAPL,MSFT,apple\n",
    "```"
   ]
  },
  {
   "cell_type": "code",
   "execution_count": null,
   "metadata": {},
   "outputs": [],
   "source": [
    "def sort_words(word1, word2, word3):\n",
    "    # Don't forget about the doc string\n",
    "    # Write your code here\n",
    "    if word1 == 'MSFT':\n",
    "        sorted_word1 = 'MSFT'\n",
    "    elif word1 == 'AAPL':\n",
    "        sorted_word1 = 'AAPL'\n",
    "    elif word1 == 'apple':\n",
    "        sorted_word1 = 'apple'\n",
    "    \n",
    "    if word2 == 'MSFT':\n",
    "        sorted_word2 = 'MSFT'\n",
    "    elif word2 == 'AAPL':\n",
    "        sorted_word2 = 'AAPL'\n",
    "    elif word2 == 'apple':\n",
    "        sorted_word2 = 'apple'\n",
    "\n",
    "    if word3 == 'MSFT':\n",
    "        sorted_word3 = 'MSFT'\n",
    "    elif word3 == 'AAPL':\n",
    "        sorted_word3 = 'AAPL'\n",
    "    elif word3 == 'apple':\n",
    "        sorted_word3 = 'apple'\n",
    "        \n",
    "    print(\"sorted: \", sorted_word1, \",\", sorted_word2, \",\", sorted_word3, sep = \"\")\n"
   ]
  },
  {
   "cell_type": "code",
   "execution_count": null,
   "metadata": {},
   "outputs": [],
   "source": [
    "# Test your function here.\n",
    "word1 = input(\"word 1:\")\n",
    "word2 = input(\"word 2:\")\n",
    "word3 = input(\"word 3:\")\n",
    "\n",
    "print(sort_words(word1, word2, word3))"
   ]
  },
  {
   "cell_type": "code",
   "execution_count": null,
   "metadata": {},
   "outputs": [],
   "source": []
  }
 ],
 "metadata": {
  "kernelspec": {
   "display_name": "Python 3",
   "language": "python",
   "name": "python3"
  },
  "language_info": {
   "codemirror_mode": {
    "name": "ipython",
    "version": 3
   },
   "file_extension": ".py",
   "mimetype": "text/x-python",
   "name": "python",
   "nbconvert_exporter": "python",
   "pygments_lexer": "ipython3",
   "version": "3.10.12"
  }
 },
 "nbformat": 4,
 "nbformat_minor": 4
}
