{
 "cells": [
  {
   "cell_type": "markdown",
   "metadata": {},
   "source": [
    "<div style=\"text-align:center; border: 2px solid #2E86C1; border-radius: 10px; padding: 30px; background-color: #F4F6F7;\">\n",
    "\n",
    "<h1 style=\"color:#154360; font-family:'Georgia', serif; font-size: 2.8em; margin-bottom: 20px;\">APS106: Fundamentals of Computer Programming</h1>\n",
    "\n",
    "<h2 style=\"color:#1A5276; font-family:'Palatino Linotype', 'Book Antiqua', serif; font-size: 2.0em; margin-bottom: 30px;\">Tutorial 2, Week 3</h2>\n",
    "\n",
    "<h3 style=\"color:#6C3483; font-family:'Cambria', serif; font-size: 1.8em; text-decoration: underline; margin-bottom: 15px;\">Topics Covered</h3>\n",
    "<p style=\"text-align:center; font-family:'Trebuchet MS', sans-serif; font-size: 1.3em; line-height: 1.8;\">\n",
    "  <span style=\"color:#D35400; font-weight:bold;\">Programming Concepts</span><br>\n",
    "  <span style=\"color:#283747;\">• Functions</span><br>\n",
    "  <span style=\"color:#283747;\">• Importing Modules</span><br>\n",
    "  <span style=\"color:#283747;\">• Input/Output</span><br>\n",
    "</p>\n",
    "\n",
    "<h3 style=\"color:#6C3483; font-family:'Cambria', serif; font-size: 1.8em; text-decoration: underline; margin-top: 30px; margin-bottom: 15px;\">Goals for This Tutorial</h3>\n",
    "<p style=\"text-align:center; font-family:'Verdana', sans-serif; font-size: 1.2em; line-height: 1.8;\">\n",
    "  <span style=\"color:#21618C;\">• Understand the role of functions in Python.</span><br>\n",
    "  <span style=\"color:#21618C;\">• Explore the use of predefined functions and modules.</span><br>\n",
    "  <span style=\"color:#21618C;\">• Practice using interactive user input.</span><br>\n",
    "  <span style=\"color:#21618C;\">• Solve programming problems using multiple functions.</span>\n",
    "</p>\n",
    "\n",
    "</div>"
   ]
  },
  {
   "cell_type": "markdown",
   "metadata": {
    "vscode": {
     "languageId": "markdown"
    }
   },
   "source": [
    "# Table of Contents\n",
    "\n",
    "1. [Review of Functions](#1-review-of-functions)\n",
    "2. [Variable Scope in Python](#2-variable-scope-in-python)\n",
    "3. [Writing Your Own Functions](#2-writing-your-own-functions)\n",
    "4. [Importing Modules in Python](#3-importing-modules-in-python)\n",
    "5. [Input and Output in Python](#4-input-and-output-in-python)\n",
    "6. [Problem Solving Using Functions](#5-problem-solving-using-functions)"
   ]
  },
  {
   "cell_type": "markdown",
   "metadata": {},
   "source": [
    "# 1. Review of Functions"
   ]
  },
  {
   "cell_type": "markdown",
   "metadata": {},
   "source": [
    "## What is a Function?\n"
   ]
  },
  {
   "cell_type": "markdown",
   "metadata": {},
   "source": [
    "A **function** is a reusable block of code designed to perform a specific task. Functions help in breaking down complex problems into smaller, manageable parts and make code easier to read, debug, and maintain."
   ]
  },
  {
   "cell_type": "code",
   "execution_count": 1,
   "metadata": {},
   "outputs": [
    {
     "name": "stdout",
     "output_type": "stream",
     "text": [
      "Hello, Amir!\n"
     ]
    }
   ],
   "source": [
    "def greet(name):                             # 1. Function definition & parameter\n",
    "                                             # 2. Docstring (optional)\n",
    "    \"\"\"\n",
    "    (str) -> str\n",
    "    This function greets the user.           \n",
    "    \"\"\"     \n",
    "    message = \"Hello, \" + name + \"!\"         # 3. Function body (code block)\n",
    "    return message                           # 4. Return statement (optional)\n",
    "\n",
    "result = greet(\"Amir\")                      # 5. Calling the function & argument\n",
    "print(result)"
   ]
  },
  {
   "cell_type": "markdown",
   "metadata": {},
   "source": [
    "Functions must be defined before they are first used. If you are using a Jupyter notebook file, the code cell that defines your function must be run before any code cell that calls it."
   ]
  },
  {
   "cell_type": "markdown",
   "metadata": {},
   "source": [
    "## Why Use Functions?"
   ]
  },
  {
   "cell_type": "markdown",
   "metadata": {},
   "source": [
    "- To avoid code repetition.\n",
    "- To make code easier to understand and maintain.\n",
    "- To break complex problems into smaller, manageable parts."
   ]
  },
  {
   "cell_type": "markdown",
   "metadata": {},
   "source": [
    "## What Are Predefined Functions?\n"
   ]
  },
  {
   "cell_type": "markdown",
   "metadata": {},
   "source": [
    "**Predefined functions** (also called *built-in functions*) are functions that come ready to use in Python. You don’t need to write them yourself—they’re already included in Python and can be used directly in your code.  \n",
    "\n",
    "These functions perform common tasks like printing information, performing basic calculations, or rounding numbers."
   ]
  },
  {
   "cell_type": "markdown",
   "metadata": {},
   "source": [
    "Here are some commonly used predefined functions in Python (some of which we've already used before):\n",
    "\n",
    "- `print()` – Displays text or variables on the screen.\n",
    "- `type()` – Returns the data type of a variable.\n",
    "- `input()` – Collects input from the user.\n",
    "- `round()` – Rounds a number to the nearest integer or specified decimal places.  \n",
    "- `abs()` – Returns the absolute value of a number.\n",
    "- `min()` – Returns the smallest value from multiple arguments.  \n",
    "- `max()` – Returns the largest value from multiple arguments."
   ]
  },
  {
   "cell_type": "code",
   "execution_count": 8,
   "metadata": {},
   "outputs": [
    {
     "name": "stdout",
     "output_type": "stream",
     "text": [
      "This is a built-in function!\n"
     ]
    }
   ],
   "source": [
    "print(\"This is a built-in function!\")"
   ]
  },
  {
   "cell_type": "code",
   "execution_count": 6,
   "metadata": {},
   "outputs": [
    {
     "name": "stdout",
     "output_type": "stream",
     "text": [
      "The smallest number is:  1\n",
      "The largest number is:  8\n"
     ]
    }
   ],
   "source": [
    "smallest = min(4, 2, 8, 1)\n",
    "print(\"The smallest number is: \", smallest)\n",
    "\n",
    "largest = max(4, 2, 8, 1)\n",
    "print(\"The largest number is: \", largest)"
   ]
  },
  {
   "cell_type": "code",
   "execution_count": 60,
   "metadata": {},
   "outputs": [
    {
     "name": "stdout",
     "output_type": "stream",
     "text": [
      "Hello James\n"
     ]
    }
   ],
   "source": [
    "name = input(\"What's your name?\")\n",
    "print(\"Hello\", name)"
   ]
  },
  {
   "cell_type": "markdown",
   "metadata": {},
   "source": [
    "# 2. Variable Scope in Python"
   ]
  },
  {
   "cell_type": "markdown",
   "metadata": {},
   "source": [
    "### Key Concepts\n",
    "1. **Local Variables**:\n",
    "   - Variables declared and initialized inside a function are only accessible (visible) within the body of that function.\n",
    "   - These variables are called local variables.\n",
    "   - They cannot be accessed outside the function.\n",
    "\n",
    "2. **Using Variables Inside Functions**:\n",
    "   - You can display or use the values of these variables within the function by passing them to `print()` or other operations.\n",
    "\n",
    "3. **Accessing Variables Outside Functions**:\n",
    "   - Local variables are not accessible outside the function. Attempting to access them will result in a `NameError`."
   ]
  },
  {
   "cell_type": "markdown",
   "metadata": {},
   "source": [
    "Example"
   ]
  },
  {
   "cell_type": "code",
   "execution_count": null,
   "metadata": {},
   "outputs": [],
   "source": [
    "# Function to calculate the area of a rectangle\n",
    "def area2D(length, width):\n",
    "    \"\"\"\n",
    "    (float, float) -> float\n",
    "    Calculates the area of a rectangle.\n",
    "    \"\"\"\n",
    "    area = length * width  # Local variable\n",
    "    print(\"Area inside function:\", area)  # Accessible inside the function\n",
    "    return area\n",
    "\n",
    "# Main Program\n",
    "length = 5\n",
    "width = 7\n",
    "\n",
    "# Call the function and store the result\n",
    "answer = area2D(length, width)\n",
    "\n",
    "# Output the result\n",
    "print(\"Area outside function:\", answer)  # Access the return value\n",
    "\n",
    "# Attempt to access the 'area' variable declared inside the function\n",
    "try:\n",
    "    print(area)  # This will raise an error because 'area' is not defined outside the function\n",
    "except NameError as e:\n",
    "    print(e)"
   ]
  },
  {
   "cell_type": "markdown",
   "metadata": {},
   "source": [
    "### Functions and `return` Statements\n",
    "#### Key Concepts\n",
    "1. **`return` Statements**:\n",
    "   - A Python function returns a value using the `return` statement.\n",
    "   - If no `return` statement is present, the function will return `None` by default.\n",
    "\n",
    "2. **Importance of `return` Values**:\n",
    "   - Returned values can be used in other parts of the program, such as in calculations or print statements.\n",
    "   - Without a `return` statement, you cannot capture the result of a function in a variable."
   ]
  },
  {
   "cell_type": "markdown",
   "metadata": {},
   "source": [
    "Example"
   ]
  },
  {
   "cell_type": "code",
   "execution_count": null,
   "metadata": {},
   "outputs": [],
   "source": [
    "# Function Without `return`\n",
    "def area2D(length, width):\n",
    "    \"\"\"\n",
    "    (float, float) -> None\n",
    "    Calculates and prints the area of a rectangle but does not return it.\n",
    "    \"\"\"\n",
    "    area = length * width\n",
    "    print(\"Area inside function:\", area)\n",
    "\n",
    "# Main Program\n",
    "length = 5\n",
    "width = 7\n",
    "\n",
    "# Call the function\n",
    "answer = area2D(length, width)\n",
    "\n",
    "# Output the result\n",
    "print(\"Area outside function:\", answer)  # This will print 'None'"
   ]
  },
  {
   "cell_type": "markdown",
   "metadata": {},
   "source": [
    "### Using `return` to Reuse Function Results"
   ]
  },
  {
   "cell_type": "code",
   "execution_count": null,
   "metadata": {},
   "outputs": [],
   "source": [
    "# Returning the Area of Two Rectangles\n",
    "def area2D(length, width):\n",
    "    \"\"\"\n",
    "    (float, float) -> float\n",
    "    Calculates the area of a rectangle and returns it.\n",
    "    \"\"\"\n",
    "    area = length * width\n",
    "    return area\n",
    "\n",
    "# Main Program\n",
    "area1 = area2D(5, 7)  # First rectangle\n",
    "area2 = area2D(10, 15)  # Second rectangle\n",
    "\n",
    "# Print the individual areas\n",
    "print(\"Area of first rectangle:\", area1)\n",
    "print(\"Area of second rectangle:\", area2)\n",
    "\n",
    "# Calculate and print the total area\n",
    "print(\"Total area:\", area1 + area2)"
   ]
  },
  {
   "cell_type": "markdown",
   "metadata": {},
   "source": [
    "Review Practice Problem 1\n",
    "\n",
    "Question:\n",
    "\n",
    "What is printed when the following code is run?\n",
    "\n",
    "Options:\n",
    "\n",
    "\t1.\tA: 4, 5, 5\n",
    "\n",
    "\t2.\tB: 4, 1, 4\n",
    "\n",
    "\t3.\tC: 4, 1, 2 (Correct Answer)\n",
    "\n",
    "\t4.\tD: 4, 1, 1\n",
    "\n",
    "\t5.\tE: None of the above"
   ]
  },
  {
   "cell_type": "code",
   "execution_count": null,
   "metadata": {},
   "outputs": [],
   "source": [
    "\n",
    "def my_func():\n",
    "    x = 1\n",
    "    print(x)\n",
    "    x = x + 1\n",
    "    return x\n",
    "\n",
    "x = 4\n",
    "print(x)\n",
    "x = my_func()\n",
    "print(x)"
   ]
  },
  {
   "cell_type": "markdown",
   "metadata": {},
   "source": [
    "(Correct Answer)\n",
    "\n",
    "\t3.\tC: 4, 1, 2 \n",
    "\n",
    "\tExplanation:\n",
    "\t•\tThe initial value of x is 4, so the first print(x) outputs 4.\n",
    "\t•\tWhen my_func() is called, x inside the function is re-declared as 1. The print(x) inside the function outputs 1, and then x is incremented and returned as 2.\n",
    "\t•\tThe returned value (2) is assigned to x in the main program. The final print(x) outputs 2.\n"
   ]
  },
  {
   "cell_type": "markdown",
   "metadata": {},
   "source": [
    "# 3. Writing Your Own Functions"
   ]
  },
  {
   "cell_type": "markdown",
   "metadata": {},
   "source": [
    "The code block below is very redundant. Try streamlining it by placing the redundant code into a function and calling the function where we need it."
   ]
  },
  {
   "cell_type": "code",
   "execution_count": 7,
   "metadata": {},
   "outputs": [
    {
     "name": "stdout",
     "output_type": "stream",
     "text": [
      "Total Cost: 63\n"
     ]
    }
   ],
   "source": [
    "def total_cost(item_cost, quantity):\n",
    "    \"\"\"\n",
    "    (float, int) -> float\n",
    "    This function calculates the total cost of purchasing multiple items.\n",
    "    \"\"\"\n",
    "\n",
    "    # TODO: Write your function here\n",
    "\n",
    "    return # TODO: Return your function result here\n",
    "\n",
    "# TODO: Replace the code below with three function calls instead\n",
    "apple_cost = 5.22\n",
    "apple_quantity = 3\n",
    "apple_total = apple_cost * apple_quantity\n",
    "\n",
    "orange_cost = 10.13\n",
    "orange_quantity = 2\n",
    "orange_total = orange_cost * orange_quantity\n",
    "\n",
    "banana_cost = 7.30\n",
    "banana_quantity = 4\n",
    "banana_total = banana_cost * banana_quantity\n",
    "\n",
    "print(\"Total Cost:\", apple_total + orange_total + banana_total)"
   ]
  },
  {
   "cell_type": "code",
   "execution_count": 2,
   "metadata": {},
   "outputs": [
    {
     "name": "stdout",
     "output_type": "stream",
     "text": [
      "Total Cost: 63\n"
     ]
    }
   ],
   "source": [
    "# Solution:\n",
    "\n",
    "def total_cost(item_cost, quantity):\n",
    "    \"\"\"\n",
    "    (float, int) -> float\n",
    "    This function calculates the total cost of purchasing multiple items.\n",
    "    \"\"\"\n",
    "    \n",
    "    total = item_cost * quantity\n",
    "    return total\n",
    "\n",
    "apple_cost = total_cost(5.22, 3)\n",
    "orange_cost = total_cost(10.13, 2)\n",
    "banana_cost = total_cost(7.30, 4)\n",
    "\n",
    "print(\"Total Cost:\", apple_cost + orange_cost + banana_cost)"
   ]
  },
  {
   "cell_type": "markdown",
   "metadata": {},
   "source": [
    "# 4. Importing Modules in Python"
   ]
  },
  {
   "cell_type": "markdown",
   "metadata": {},
   "source": [
    "## What is a Module?"
   ]
  },
  {
   "cell_type": "markdown",
   "metadata": {},
   "source": [
    "In Python, a **module** is a file that contains Python code (usually for a specific purpose). Modules allow us to organize code into manageable parts and reuse functionality across multiple programs. Python has several predefined modules for common purposes, such as the `math` module, `Pandas` for data analysis, and `scikit-learn` for machine learning."
   ]
  },
  {
   "cell_type": "markdown",
   "metadata": {},
   "source": [
    "## How to Import and Use Modules"
   ]
  },
  {
   "cell_type": "markdown",
   "metadata": {},
   "source": [
    "```python\n",
    "# 1. Import the module\n",
    "import module_name  # This imports the entire module.\n",
    "\n",
    "# 2. Call a function from the module\n",
    "module_name.function_name()  # This calls the 'function_name' from the module."
   ]
  },
  {
   "cell_type": "markdown",
   "metadata": {},
   "source": [
    "The `math` module is often used to access functions that perform more advanced math operations."
   ]
  },
  {
   "cell_type": "code",
   "execution_count": 68,
   "metadata": {},
   "outputs": [
    {
     "name": "stdout",
     "output_type": "stream",
     "text": [
      "14.0\n",
      "-0.562453851238172\n",
      "4.0\n"
     ]
    }
   ],
   "source": [
    "import math\n",
    "\n",
    "print(math.sqrt(196))\n",
    "print(math.cos(65))\n",
    "print(math.log(81, 3))"
   ]
  },
  {
   "cell_type": "markdown",
   "metadata": {},
   "source": [
    "Write a function that converts degrees to radians without the `math` module, using the formula: $$radians = degrees * (\\frac{\\pi}{180})$$"
   ]
  },
  {
   "cell_type": "code",
   "execution_count": 79,
   "metadata": {},
   "outputs": [
    {
     "name": "stdout",
     "output_type": "stream",
     "text": [
      "45 degrees is equal to None radians.\n"
     ]
    }
   ],
   "source": [
    "def degrees_to_radians(degrees):\n",
    "    \"\"\"\n",
    "    (float) -> float\n",
    "    This function converts degrees to radians.\n",
    "    \"\"\"\n",
    "    \n",
    "    # TODO: Write your function here\n",
    "\n",
    "    return  # TODO: Return the radians value here\n",
    "\n",
    "# Example usage\n",
    "degree_value = 45.0  # Degrees to convert\n",
    "radian_value = None  # TODO: Call your function here\n",
    "print(degree_value, \"degrees is equal to\", radian_value, \"radians.\")"
   ]
  },
  {
   "cell_type": "code",
   "execution_count": 80,
   "metadata": {},
   "outputs": [
    {
     "name": "stdout",
     "output_type": "stream",
     "text": [
      "45 degrees is equal to 0.7850000000000001 radians.\n"
     ]
    }
   ],
   "source": [
    "# Solution\n",
    "def degrees_to_radians(degrees):\n",
    "    \"\"\"\n",
    "    (float) -> float\n",
    "    This function converts degrees to radians.\n",
    "    \"\"\"\n",
    "\n",
    "    # Define the value of pi\n",
    "    pi = 3.14\n",
    "    # Convert degrees to radians\n",
    "    radian_value = degrees * (pi / 180)\n",
    "    return radian_value\n",
    "\n",
    "# Example usage\n",
    "degree_value = 45.0  # Degrees to convert\n",
    "radian_value = degrees_to_radians(degree_value)\n",
    "print(degree_value, \"degrees is equal to\", radian_value, \"radians.\")"
   ]
  },
  {
   "cell_type": "markdown",
   "metadata": {},
   "source": [
    "Rewrite the same function using the `radians()` function in the `math` module."
   ]
  },
  {
   "cell_type": "code",
   "execution_count": 76,
   "metadata": {},
   "outputs": [
    {
     "name": "stdout",
     "output_type": "stream",
     "text": [
      "45 degrees is equal to None radians.\n"
     ]
    }
   ],
   "source": [
    "import math\n",
    "\n",
    "# Do we still need to define our own function?\n",
    "# Can we use a built-in function from an imported module that does the same thing?\n",
    "\n",
    "# Example usage\n",
    "degree_value = 45  # Degrees to convert\n",
    "\n",
    "radian_value = None  # TODO: Call your function here\n",
    "\n",
    "print(degree_value, \"degrees is equal to\", radian_value, \"radians.\")"
   ]
  },
  {
   "cell_type": "code",
   "execution_count": 4,
   "metadata": {},
   "outputs": [
    {
     "name": "stdout",
     "output_type": "stream",
     "text": [
      "45 degrees is equal to 0.7853981633974483 radians.\n"
     ]
    }
   ],
   "source": [
    "# Solution:\n",
    "import math\n",
    "\n",
    "degree_value = 45  # Degrees to convert\n",
    "radian_value = math.radians(degree_value)\n",
    "print(degree_value, \"degrees is equal to\", radian_value, \"radians.\")"
   ]
  },
  {
   "cell_type": "markdown",
   "metadata": {},
   "source": [
    "# 5. Input and Output in Python"
   ]
  },
  {
   "cell_type": "markdown",
   "metadata": {},
   "source": [
    "In Python, we can take dynamic input from the user while we run a program using the `input()` function. This function will always return a string, which means that we may need to convert the input to the data type we need."
   ]
  },
  {
   "cell_type": "markdown",
   "metadata": {},
   "source": [
    "Modify the program to accept dynamic user input for the degree value."
   ]
  },
  {
   "cell_type": "code",
   "execution_count": null,
   "metadata": {},
   "outputs": [],
   "source": [
    "import math\n",
    "\n",
    "# TODO: add interactive user input here\n",
    "# Hint: this value should be a float\n",
    "\n",
    "radian_value = None  # TODO: Call your function here\n",
    "\n",
    "print(degree_value, \"degrees is equal to\", radian_value, \"radians.\")"
   ]
  },
  {
   "cell_type": "code",
   "execution_count": 83,
   "metadata": {},
   "outputs": [
    {
     "name": "stdout",
     "output_type": "stream",
     "text": [
      "82.0 degrees is equal to 1.4311699866353502 radians.\n"
     ]
    }
   ],
   "source": [
    "# Solution:\n",
    "\n",
    "import math\n",
    "\n",
    "# Accept dynamic input from the user\n",
    "degree_value = float(input(\"Enter the degree value to convert to radians: \"))\n",
    "\n",
    "# Call the function and print the result\n",
    "radian_value = math.radians(degree_value)\n",
    "print(degree_value, \"degrees is equal to\", radian_value, \"radians.\")"
   ]
  },
  {
   "cell_type": "markdown",
   "metadata": {},
   "source": [
    "Review Practice Problem 2\n",
    "\n",
    "Question:\n",
    "\n",
    "What is the mistake in this code?\n"
   ]
  },
  {
   "cell_type": "code",
   "execution_count": null,
   "metadata": {},
   "outputs": [],
   "source": [
    "# Function syntax\n",
    "def area2D(l, w):\n",
    "    \"\"\"\n",
    "    (float) -> (float)\n",
    "    Calculates the area of a rectangle\n",
    "    \"\"\"\n",
    "    # Function body goes here\n",
    "    area = l * w\n",
    "    \n",
    "    # Return statement at the end to exit the function\n",
    "    return area\n",
    "\n",
    "l = input('Enter length: ')  # Input from user\n",
    "w = input('Enter width: ')   # Input from user\n",
    "answer = area2D(l, w)        # Calling your function\n",
    "print(answer)                # Output displayed on shell"
   ]
  },
  {
   "cell_type": "markdown",
   "metadata": {},
   "source": [
    "Answer:\n",
    "\n",
    "The inputs l and w are taken as strings by default using input(). To perform multiplication in the function, they need to be converted to float. The corrected code would be:"
   ]
  },
  {
   "cell_type": "code",
   "execution_count": null,
   "metadata": {},
   "outputs": [],
   "source": [
    "l = float(input('Enter length: '))  # Convert to float\n",
    "w = float(input('Enter width: '))   # Convert to float\n",
    "answer = area2D(l, w)               # Call the function with float inputs\n",
    "print(answer)                       # Output displayed on shell"
   ]
  },
  {
   "cell_type": "markdown",
   "metadata": {},
   "source": [
    "Explanation:\n",
    "\n",
    "In Python, input() returns a string. Attempting to multiply strings in the function results in a TypeError. Converting l and w to floats ensures the function can compute the area correctly."
   ]
  },
  {
   "cell_type": "markdown",
   "metadata": {},
   "source": [
    "# 6. Problem Solving Using Functions"
   ]
  },
  {
   "cell_type": "markdown",
   "metadata": {},
   "source": [
    "Let's practice breaking down problems into functions.\n",
    "\n",
    "You are planning a road trip and you want to calculate how much you will need to spend on fuel.\n",
    "\n",
    "Write a program that:\n",
    "\n",
    "1. Takes user input for the distance they are planning to travel (km), the fuel efficiency of their car (km/L), and the price of fuel ($/L)\n",
    "2. Calculates the total amount of fuel required for the trip\n",
    "3. Calculates the total cost of fuel required for the trip\n",
    "4. Outputs the total cost to the user"
   ]
  },
  {
   "cell_type": "code",
   "execution_count": null,
   "metadata": {},
   "outputs": [],
   "source": [
    "# TODO: Define a function that calculates and returns the amount of fuel (L) required\n",
    "# Hint: this can be calculated using distance and fuel efficiency\n",
    "\n",
    "# TODO: Define a function that calculates and returns the total cost of fuel ($)\n",
    "# Hint: this can be calculated using amount of fuel and price\n",
    "\n",
    "# Example usage\n",
    "# TODO: Accept dynamic input fom the user\n",
    "# Hint: all three of these values should be floats\n",
    "distance = None\n",
    "fuel_eff = None\n",
    "fuel_price = None\n",
    "\n",
    "# TODO: Call your function(s) here\n",
    "\n",
    "# TODO: Replace None with your calculated total cost\n",
    "print(f\"The total cost of the trip is: ${None}\")"
   ]
  },
  {
   "cell_type": "code",
   "execution_count": 89,
   "metadata": {},
   "outputs": [
    {
     "name": "stdout",
     "output_type": "stream",
     "text": [
      "The total cost of the trip is: $3218.0\n"
     ]
    }
   ],
   "source": [
    "# Solution\n",
    "\n",
    "def calculate_fuel(distance, fuel_eff):\n",
    "    \"\"\"\n",
    "    (float, float) -> float\n",
    "    This function calculates the amount of fuel required based on distance and fuel efficiency.\n",
    "    \"\"\"\n",
    "\n",
    "    fuel_amount = distance / fuel_eff\n",
    "    return fuel_amount\n",
    "\n",
    "def calculate_cost(fuel_amount, fuel_price):\n",
    "    \"\"\"\n",
    "    (float, float) -> float\n",
    "    This function calculates the total cost of fuel based on the amount and the price.\n",
    "    \"\"\"\n",
    "\n",
    "    fuel_cost = fuel_amount * fuel_price\n",
    "    return fuel_cost\n",
    "\n",
    "# Example usage\n",
    "distance = float(input(\"Enter the distance of your trip (km)\"))\n",
    "fuel_eff = float(input(\"Enter the fuel efficiency of your vehicle (km/L)\"))\n",
    "fuel_price = float(input(\"Enter the price of fuel ($/L)\"))\n",
    "\n",
    "fuel_amount = calculate_fuel(distance, fuel_eff)\n",
    "fuel_cost = calculate_cost(fuel_amount, fuel_price)\n",
    "\n",
    "print(f\"The total cost of the trip is: ${fuel_cost}\")"
   ]
  },
  {
   "cell_type": "markdown",
   "metadata": {},
   "source": [
    "Let's put everything we've learned together to solve a more complex problem!\n",
    "\n",
    "Write a program that:\n",
    "\n",
    "1. Takes 3 coordinates as arguments (x1, y1, x2, y2, x3, y3)\n",
    "2. Calculates the distance between each set of coordinates (1-2, 2-3, 1-3)\n",
    "3. Finds and outputs the shortest distance"
   ]
  },
  {
   "cell_type": "markdown",
   "metadata": {},
   "source": [
    "How many functions should we use?\n",
    "Can we simplify the process with some built-in `math` functions?\n",
    "Try adding dynamic user input into the program!\n",
    "\n",
    "The Euclidean distance formula is:\n",
    "\n",
    "$$d = \\sqrt{(x_2 - x_1)^2 + (y_2 - y_1)^2} $$\n",
    "\n",
    "You may find the functions `math.sqrt()` and `math.min()` helpful."
   ]
  },
  {
   "cell_type": "code",
   "execution_count": 37,
   "metadata": {},
   "outputs": [
    {
     "name": "stdout",
     "output_type": "stream",
     "text": [
      "The shortest distance is:  None\n"
     ]
    }
   ],
   "source": [
    "# TODO: Define your imports here\n",
    "\n",
    "# TODO: Define a function that calculates the distance between two coordinates here\n",
    "\n",
    "# TODO: Define a function that finds the shortest distance between three points here\n",
    "# Hint: is there a built-in function from the math module that we can use here?\n",
    "\n",
    "# TODO: Modify this to accept dynamic user input\n",
    "x1 = 1\n",
    "y1 = 2\n",
    "\n",
    "x2 = 4\n",
    "y2 = 6\n",
    "\n",
    "x3 = 7\n",
    "y3 = 8\n",
    "\n",
    "# TODO: Call your function here\n",
    "shortest_distance = None  # Replace this with your result\n",
    "\n",
    "print(\"The shortest distance is: \", shortest_distance)"
   ]
  },
  {
   "cell_type": "code",
   "execution_count": 85,
   "metadata": {},
   "outputs": [
    {
     "name": "stdout",
     "output_type": "stream",
     "text": [
      "The shortest distance is: 3.605551275463989\n"
     ]
    }
   ],
   "source": [
    "# Solution:\n",
    "import math\n",
    "\n",
    "# Function to calculate the distance between two points\n",
    "def calculate_distance(x1, y1, x2, y2):\n",
    "    \"\"\"\n",
    "    (float, float, float, float) -> float\n",
    "    This function calculates the distance between two pairs of coordinates.\n",
    "    \"\"\"\n",
    "    return math.sqrt((x2 - x1) ** 2 + (y2 - y1) ** 2)\n",
    "\n",
    "# Function to calculate and find the shortest distance between three points\n",
    "def min_distance(x1, y1, x2, y2, x3, y3):\n",
    "    \"\"\"\n",
    "    (float, float, float, float, float, float) -> float\n",
    "    This function finds the shortest distance between three points.\n",
    "    \"\"\"\n",
    "\n",
    "    # Calculate the distances between each pair of points\n",
    "    dist_12 = calculate_distance(x1, y1, x2, y2)\n",
    "    dist_13 = calculate_distance(x1, y1, x3, y3)\n",
    "    dist_23 = calculate_distance(x2, y2, x3, y3)\n",
    "    \n",
    "    # Return the shortest distance using min()\n",
    "    return min(dist_12, dist_13, dist_23)\n",
    "\n",
    "# Function to prompt user for coordinates\n",
    "def get_x_coordinate():\n",
    "    \"\"\"\n",
    "    (None) -> float\n",
    "    Prompts the user to enter an x-coordinate.\n",
    "    \"\"\"\n",
    "    x = float(input(\"Enter the x-coordinate: \"))\n",
    "    return x\n",
    "\n",
    "def get_y_coordinate():\n",
    "    \"\"\"\n",
    "    (None) -> float\n",
    "    Prompts the user to enter a y-coordinate.\n",
    "    \"\"\"\n",
    "    y = float(input(\"Enter the y-coordinate: \"))\n",
    "    return y\n",
    "\n",
    "# Example usage\n",
    "x1 = get_x_coordinate()\n",
    "y1 = get_y_coordinate()\n",
    "\n",
    "x2 = get_x_coordinate()\n",
    "y2 = get_y_coordinate()\n",
    "\n",
    "x3  = get_x_coordinate()\n",
    "y3  = get_y_coordinate()\n",
    "\n",
    "# Find the shortest distance between the three points\n",
    "shortest_distance = min_distance(x1, y1, x2, y2, x3, y3)\n",
    "\n",
    "# Output the result\n",
    "print(\"The shortest distance is:\", shortest_distance)"
   ]
  },
  {
   "cell_type": "markdown",
   "metadata": {},
   "source": [
    "# 7. Optional Challenge Question - 2022 Term Test 1"
   ]
  },
  {
   "attachments": {
    "tutorial2_optional_practice.png": {
     "image/png": "[encoded data removed]"
    }
   },
   "cell_type": "markdown",
   "metadata": {},
   "source": [
    "![tutorial2_optional_practice.png](attachment:tutorial2_optional_practice.png)"
   ]
  },
  {
   "cell_type": "code",
   "execution_count": null,
   "metadata": {},
   "outputs": [],
   "source": [
    "# Solution 1 (math module):\n",
    "\n",
    "import paint\n",
    "import math\n",
    "\n",
    "width = float(input(\"Enter the width of the wall:\"))\n",
    "height = float(input(\"Enter the height of the wall:\"))\n",
    "\n",
    "can_size = input(\"Enter the size of the paint can:\")\n",
    "\n",
    "area = width * height\n",
    "print(\"Area to be painted:\", area)\n",
    "\n",
    "num_cans = math.ceil(area/paint.paint_can_coverage(can_size))\n",
    "\n",
    "print(\"Cans required:\", num_cans)"
   ]
  },
  {
   "cell_type": "code",
   "execution_count": null,
   "metadata": {},
   "outputs": [],
   "source": [
    "# Solution 2 (floor division):\n",
    "\n",
    "import paint\n",
    "\n",
    "width = float(input(\"Enter the width of the wall:\"))\n",
    "height = float(input(\"Enter the height of the wall:\"))\n",
    "\n",
    "can_size = input(\"Enter the size of the paint can:\")\n",
    "\n",
    "area = width * height\n",
    "print(\"Area to be painted:\", area)\n",
    "\n",
    "num_cans = (area//paint.paint_can_coverage(can_size)) + 1\n",
    "\n",
    "print(\"Cans required:\", num_cans)"
   ]
  }
 ],
 "metadata": {
  "kernelspec": {
   "display_name": "AdvKG",
   "language": "python",
   "name": "python3"
  },
  "language_info": {
   "codemirror_mode": {
    "name": "ipython",
    "version": 3
   },
   "file_extension": ".py",
   "mimetype": "text/x-python",
   "name": "python",
   "nbconvert_exporter": "python",
   "pygments_lexer": "ipython3",
   "version": "3.12.4"
  }
 },
 "nbformat": 4,
 "nbformat_minor": 2
}
